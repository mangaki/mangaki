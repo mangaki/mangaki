{
 "cells": [
  {
   "cell_type": "markdown",
   "metadata": {},
   "source": [
    "# I - Statistiques Mangaki codées en direct"
   ]
  },
  {
   "cell_type": "markdown",
   "metadata": {},
   "source": [
    "Ces statistiques ont été codées à l'occasion de la [rencontre Mangaki au Kawaii Café du 9/12/2015](http://meta.mangaki.fr/t/rencontre-mangaki-9-decembre-au-kawaii-cafe-a-paris/611/5?u=jj), puis modifiées le 12/02/2017."
   ]
  },
  {
   "cell_type": "markdown",
   "metadata": {},
   "source": [
    "## Obtenir un anime à partir de son ID"
   ]
  },
  {
   "cell_type": "code",
   "execution_count": 2,
   "metadata": {
    "collapsed": false
   },
   "outputs": [
    {
     "data": {
      "text/plain": [
       "<Work: Death Note>"
      ]
     },
     "execution_count": 2,
     "metadata": {},
     "output_type": "execute_result"
    }
   ],
   "source": [
    "Work.objects.get(id=1)"
   ]
  },
  {
   "cell_type": "markdown",
   "metadata": {
    "collapsed": false
   },
   "source": [
    "## Rechercher un anime par mot-clé"
   ]
  },
  {
   "cell_type": "code",
   "execution_count": 3,
   "metadata": {
    "collapsed": false
   },
   "outputs": [
    {
     "name": "stdout",
     "output_type": "stream",
     "text": [
      "N° 15125 : Mahou Shoujo Madoka★Magica Movie 3: Hangyaku no Monogatari - Magica Quartet x Nisioisin\n",
      "N° 15306 : Puella Magi Madoka Magica the Movie Part 1: Beginnings\n",
      "N° 15308 : Puella Magi Madoka Magica the Movie Part 2: Eternal\n",
      "N° 15305 : Puella Magi Madoka Magica the Movie Part 1: Beginnings\n",
      "N° 15307 : Puella Magi Madoka Magica the Movie Part 2: Eternal\n",
      "N° 176 : Puella Magi Madoka Magica the Movie Part III: Rebellion\n",
      "N° 6971 : Puella Magi Madoka Magica\n",
      "N° 14090 : Mahou Shoujo Madoka Magica: Concept Movie\n",
      "N° 181 : Mahou Shoujo Madoka★Magica Movie 3: Hangyaku no Monogatari - Magica Quartet x Nisioisin\n",
      "N° 179 : Puella Magi Madoka Magica the Movie Part I: Beginnings\n",
      "N° 6973 : Puella Magi Madoka Magica - The different story\n",
      "N° 33 : Mahou Shoujo Madoka★Magica\n",
      "N° 15124 : Puella Magi Madoka Magica the Movie Part III: Rebellion\n",
      "N° 180 : Puella Magi Madoka Magica the Movie Part II: Eternal\n"
     ]
    }
   ],
   "source": [
    "for anime in Work.objects.filter(title__contains='adoka'):\n",
    "    print('N°', anime.id, ':', anime.title)"
   ]
  },
  {
   "cell_type": "markdown",
   "metadata": {
    "collapsed": false
   },
   "source": [
    "## Rechercher un artiste par mot-clé"
   ]
  },
  {
   "cell_type": "code",
   "execution_count": 4,
   "metadata": {
    "collapsed": false
   },
   "outputs": [
    {
     "name": "stdout",
     "output_type": "stream",
     "text": [
      "2352 Akiyuki Shinbou\n"
     ]
    }
   ],
   "source": [
    "for artist in Artist.objects.filter(last_name__contains='Shinbou'):\n",
    "    print(artist.id, artist.first_name, artist.last_name)"
   ]
  },
  {
   "cell_type": "markdown",
   "metadata": {},
   "source": [
    "Mais au fait, il a réalisé quoi, Akiyuki Shinbou ?"
   ]
  },
  {
   "cell_type": "code",
   "execution_count": 22,
   "metadata": {
    "collapsed": false
   },
   "outputs": [
    {
     "name": "stdout",
     "output_type": "stream",
     "text": [
      "Akiyuki Shinbou, réalisateur de Tsukuyomi: Moon Phase\n",
      "Akiyuki Shinbou, réalisateur de Nisemonogatari\n",
      "Akiyuki Shinbou, réalisateur de Nisekoi\n",
      "Akiyuki Shinbou, réalisateur de Sasami-san@Ganbaranai\n",
      "Akiyuki Shinbou, réalisateur de Hidamari Sketch\n",
      "Akiyuki Shinbou, réalisateur de Pani Poni Dash!\n",
      "Akiyuki Shinbou, réalisateur de Magical Girl Lyrical Nanoha\n",
      "Akiyuki Shinbou, réalisateur de Denpa Onna to Seishun Otoko Special\n",
      "Akiyuki Shinbou, réalisateur de Nekomonogatari Black: Tsubasa Family\n",
      "Akiyuki Shinbou, réalisateur de ef ~ A Tale of Memories\n",
      "Akiyuki Shinbou, réalisateur de Sayonara Zetsubou Sensei\n",
      "Akiyuki Shinbou, réalisateur de Mahou Shoujo Madoka★Magica\n",
      "Akiyuki Shinbou, réalisateur de Le Portrait de Petit Cossette\n",
      "Akiyuki Shinbou, réalisateur de Arakawa Under the Bridge\n",
      "Akiyuki Shinbou, réalisateur de Bakemonogatari\n"
     ]
    }
   ],
   "source": [
    "for staff in artist.staff_set.all():\n",
    "    print(staff)"
   ]
  },
  {
   "cell_type": "markdown",
   "metadata": {
    "collapsed": false
   },
   "source": [
    "## Parcourir les ratings d'un anime"
   ]
  },
  {
   "cell_type": "code",
   "execution_count": 24,
   "metadata": {
    "collapsed": false
   },
   "outputs": [
    {
     "name": "stdout",
     "output_type": "stream",
     "text": [
      "Il y a 667 ratings pour Mahou Shoujo Madoka★Magica.\n"
     ]
    }
   ],
   "source": [
    "madoka = Work.objects.get(id=33)\n",
    "print('Il y a %d ratings pour %s.' % (madoka.rating_set.count(), madoka.title))"
   ]
  },
  {
   "cell_type": "markdown",
   "metadata": {},
   "source": [
    "Affichons-en les 5 premiers :"
   ]
  },
  {
   "cell_type": "code",
   "execution_count": 25,
   "metadata": {
    "collapsed": false
   },
   "outputs": [
    {
     "name": "stdout",
     "output_type": "stream",
     "text": [
      "<QuerySet ['like', 'neutral', 'like', 'like', 'like']>\n"
     ]
    }
   ],
   "source": [
    "madoka_ratings = madoka.rating_set.values_list('choice', flat=True)\n",
    "print(madoka_ratings[:5])  # Afficher les 5 premiers ratings"
   ]
  },
  {
   "cell_type": "markdown",
   "metadata": {},
   "source": [
    "Regroupons tous les ratings dans un compteur :"
   ]
  },
  {
   "cell_type": "code",
   "execution_count": 26,
   "metadata": {
    "collapsed": false
   },
   "outputs": [
    {
     "data": {
      "text/plain": [
       "Counter({'dislike': 41,\n",
       "         'favorite': 29,\n",
       "         'like': 313,\n",
       "         'neutral': 69,\n",
       "         'willsee': 86,\n",
       "         'wontsee': 129})"
      ]
     },
     "execution_count": 26,
     "metadata": {},
     "output_type": "execute_result"
    }
   ],
   "source": [
    "from collections import Counter\n",
    "Counter(madoka_ratings)"
   ]
  },
  {
   "cell_type": "markdown",
   "metadata": {
    "collapsed": true
   },
   "source": [
    "## Nombre d'utilisateurs inscrits sur le site"
   ]
  },
  {
   "cell_type": "code",
   "execution_count": 27,
   "metadata": {
    "collapsed": false
   },
   "outputs": [
    {
     "data": {
      "text/plain": [
       "2142"
      ]
     },
     "execution_count": 27,
     "metadata": {},
     "output_type": "execute_result"
    }
   ],
   "source": [
    "User.objects.count()"
   ]
  },
  {
   "cell_type": "markdown",
   "metadata": {},
   "source": [
    "## Nombre d'œuvres sur le site"
   ]
  },
  {
   "cell_type": "code",
   "execution_count": 28,
   "metadata": {
    "collapsed": false
   },
   "outputs": [
    {
     "data": {
      "text/plain": [
       "15177"
      ]
     },
     "execution_count": 28,
     "metadata": {},
     "output_type": "execute_result"
    }
   ],
   "source": [
    "Work.objects.count()"
   ]
  },
  {
   "cell_type": "markdown",
   "metadata": {},
   "source": [
    "## Nombre de ratings sur le site"
   ]
  },
  {
   "cell_type": "code",
   "execution_count": 29,
   "metadata": {
    "collapsed": false
   },
   "outputs": [
    {
     "data": {
      "text/plain": [
       "312310"
      ]
     },
     "execution_count": 29,
     "metadata": {},
     "output_type": "execute_result"
    }
   ],
   "source": [
    "Rating.objects.count()"
   ]
  },
  {
   "cell_type": "markdown",
   "metadata": {},
   "source": [
    "## Nombre d'œuvres qui ont reçu au moins une note sur le site"
   ]
  },
  {
   "cell_type": "code",
   "execution_count": 30,
   "metadata": {
    "collapsed": false
   },
   "outputs": [
    {
     "data": {
      "text/plain": [
       "9189"
      ]
     },
     "execution_count": 30,
     "metadata": {},
     "output_type": "execute_result"
    }
   ],
   "source": [
    "len(set(Rating.objects.values_list('work_id', flat=True)))"
   ]
  },
  {
   "cell_type": "markdown",
   "metadata": {},
   "source": [
    "## Nombre de favoris sur le site"
   ]
  },
  {
   "cell_type": "code",
   "execution_count": 31,
   "metadata": {
    "collapsed": false
   },
   "outputs": [
    {
     "data": {
      "text/plain": [
       "10438"
      ]
     },
     "execution_count": 31,
     "metadata": {},
     "output_type": "execute_result"
    }
   ],
   "source": [
    "favorites = Rating.objects.filter(choice='favorite')\n",
    "favorites.count()"
   ]
  },
  {
   "cell_type": "markdown",
   "metadata": {},
   "source": [
    "## Nombre d'œuvres ajoutées aux favoris"
   ]
  },
  {
   "cell_type": "code",
   "execution_count": 32,
   "metadata": {
    "collapsed": false
   },
   "outputs": [
    {
     "data": {
      "text/plain": [
       "1856"
      ]
     },
     "execution_count": 32,
     "metadata": {},
     "output_type": "execute_result"
    }
   ],
   "source": [
    "len(set(favorites.values_list('work_id', flat=True)))"
   ]
  },
  {
   "cell_type": "code",
   "execution_count": null,
   "metadata": {
    "collapsed": true
   },
   "outputs": [],
   "source": []
  }
 ],
 "metadata": {
  "kernelspec": {
   "display_name": "Django Shell-Plus",
   "language": "python",
   "name": "django_extensions"
  },
  "language_info": {
   "codemirror_mode": {
    "name": "ipython",
    "version": 3
   },
   "file_extension": ".py",
   "mimetype": "text/x-python",
   "name": "python",
   "nbconvert_exporter": "python",
   "pygments_lexer": "ipython3",
   "version": "3.6.0"
  }
 },
 "nbformat": 4,
 "nbformat_minor": 0
}
