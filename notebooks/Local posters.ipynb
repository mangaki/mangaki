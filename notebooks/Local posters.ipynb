{
 "cells": [
  {
   "cell_type": "code",
   "execution_count": 8,
   "metadata": {
    "collapsed": false
   },
   "outputs": [],
   "source": [
    "work_ids = set(Work.objects.values_list('id', flat=True))"
   ]
  },
  {
   "cell_type": "code",
   "execution_count": 9,
   "metadata": {
    "collapsed": false
   },
   "outputs": [
    {
     "data": {
      "text/plain": [
       "1707"
      ]
     },
     "execution_count": 9,
     "metadata": {},
     "output_type": "execute_result"
    }
   ],
   "source": [
    "import os\n",
    "poster_ids = set(map(lambda x: int(x[:-4]), os.listdir('../mangaki/mangaki/static/img/posters')))\n",
    "\n",
    "len(work_ids - poster_ids)  # Nombre de works qui n'ont pas de poster en local"
   ]
  },
  {
   "cell_type": "code",
   "execution_count": 10,
   "metadata": {
    "collapsed": false
   },
   "outputs": [
    {
     "data": {
      "text/plain": [
       "44"
      ]
     },
     "execution_count": 10,
     "metadata": {},
     "output_type": "execute_result"
    }
   ],
   "source": [
    "len(poster_ids - work_ids)  # Nombre de posters en local qui ne sont associés à aucun work (à cause des fusions)"
   ]
  },
  {
   "cell_type": "markdown",
   "metadata": {},
   "source": [
    "Le code suivant essaie de télécharger les posters des anime qui n'en ont pas en local. Si l'URL est 404, il essaie de rafraîchir le poster."
   ]
  },
  {
   "cell_type": "code",
   "execution_count": 5,
   "metadata": {
    "collapsed": false
   },
   "outputs": [
    {
     "name": "stdout",
     "output_type": "stream",
     "text": [
      "10042 http://cdn.myanimelist.net/images/anime/7/72651.jpg\n",
      "=> 404 http://cdn.myanimelist.net/images/anime/7/72651.jpg\n",
      "http://cdn.myanimelist.net/images/anime/11/75376.jpg for My Teen Romantic Comedy SNAFU TOO!\n",
      "10061 http://cdn.myanimelist.net/images/anime/9/6434.jpg\n",
      "=> 404 http://cdn.myanimelist.net/images/anime/9/6434.jpg\n",
      "http://cdn.myanimelist.net/images/anime/7/74024.jpg for To Heart 2 OVA\n",
      "10500 http://cdn.myanimelist.net/images/anime/3/28669.jpg\n",
      "=> 404 http://cdn.myanimelist.net/images/anime/3/28669.jpg\n",
      "http://cdn.myanimelist.net/images/anime/9/73974.jpg for SKET Dance\n",
      "10281 http://cdn.myanimelist.net/images/anime/11/40711.jpg\n",
      "=> 404 http://cdn.myanimelist.net/images/anime/11/40711.jpg\n",
      "http://cdn.myanimelist.net/images/anime/10/73952.jpg for Hayate the Combat Butler: Can't Take My Eyes Off You\n",
      "10303 http://cdn.myanimelist.net/images/anime/13/47445.jpg\n",
      "=> 404 http://cdn.myanimelist.net/images/anime/13/47445.jpg\n",
      "http://cdn.myanimelist.net/images/anime/9/73733.jpg for Umbrella\n"
     ]
    }
   ],
   "source": [
    "import os\n",
    "from collections import Counter\n",
    "from urllib.request import urlretrieve\n",
    "from mangaki.utils.db import refresh_poster\n",
    "\n",
    "POSTER_DIR = '../mangaki/mangaki/static/img/posters/'\n",
    "\n",
    "for work in Work.objects.exclude(poster='').exclude(poster__startswith='/')[:5]:\n",
    "    print(work.id, work.poster)\n",
    "    if os.path.isfile('../mangaki/mangaki/static/img/posters/%d.jpg' % work.id):\n",
    "        work.poster = '/static/img/posters/%d.jpg' % work.id\n",
    "        work.save()\n",
    "    else:\n",
    "        poster_url = work.poster\n",
    "        try:  # Try to download the poster\n",
    "            urlretrieve(work.poster, os.path.join(POSTER_DIR, '%d.jpg' % work.id))\n",
    "        except:\n",
    "            print('=> 404', poster_url)\n",
    "            refresh_poster(work)\n",
    "            try:  # Try to refresh the poster from the title\n",
    "                urlretrieve(work.poster, os.path.join(POSTER_DIR, '%d.jpg' % work.id))\n",
    "            except:\n",
    "                print('=> 404 derechef', work.poster)\n",
    "                work.poster = ''\n",
    "                work.save()\n",
    "                continue\n",
    "        work.poster = '/static/img/posters/%d.jpg' % work.id\n",
    "        work.save()"
   ]
  },
  {
   "cell_type": "code",
   "execution_count": 11,
   "metadata": {
    "collapsed": false
   },
   "outputs": [
    {
     "data": {
      "text/plain": [
       "Counter({1: 10318, 2: 3857, 3: 1})"
      ]
     },
     "execution_count": 11,
     "metadata": {},
     "output_type": "execute_result"
    }
   ],
   "source": [
    "Counter(Work.objects.values_list('category', flat=True))  # Nombre d'œuvres de chaque catégorie"
   ]
  },
  {
   "cell_type": "code",
   "execution_count": 14,
   "metadata": {
    "collapsed": false
   },
   "outputs": [
    {
     "data": {
      "text/plain": [
       "3833"
      ]
     },
     "execution_count": 14,
     "metadata": {},
     "output_type": "execute_result"
    }
   ],
   "source": [
    "Work.objects.filter(category=2, poster__startswith='/').count()  # Nombre de mangas ayant un poster en local"
   ]
  },
  {
   "cell_type": "markdown",
   "metadata": {},
   "source": [
    "## Modifications manuelles"
   ]
  },
  {
   "cell_type": "code",
   "execution_count": 19,
   "metadata": {
    "collapsed": false
   },
   "outputs": [
    {
     "data": {
      "text/plain": [
       "1"
      ]
     },
     "execution_count": 19,
     "metadata": {},
     "output_type": "execute_result"
    }
   ],
   "source": [
    "Work.objects.filter(id=6997).update(poster='http://www.manga-news.com/public/images/series/quatre-filles-docteur-march-nobi.jpg')  # 4 filles du Dr March"
   ]
  },
  {
   "cell_type": "code",
   "execution_count": 22,
   "metadata": {
    "collapsed": false
   },
   "outputs": [
    {
     "data": {
      "text/plain": [
       "0"
      ]
     },
     "execution_count": 22,
     "metadata": {},
     "output_type": "execute_result"
    }
   ],
   "source": [
    "Work.objects.filter(poster='http://www.manga-news.com/public/images/series/').update(poster='')"
   ]
  },
  {
   "cell_type": "code",
   "execution_count": 28,
   "metadata": {
    "collapsed": false
   },
   "outputs": [
    {
     "data": {
      "text/plain": [
       "{'_state': <django.db.models.base.ModelState at 0x104749630>,\n",
       " '_work_cache': <Work: D.C.S.S. ~Da Capo Second Season~>,\n",
       " 'id': 7504,\n",
       " 'url': 'http://myanimelist.net/anime/291',\n",
       " 'work_id': 153}"
      ]
     },
     "execution_count": 28,
     "metadata": {},
     "output_type": "execute_result"
    }
   ],
   "source": [
    "Work.objects.filter(poster='')[0].reference_set.all()[0].__dict__  # Exemple de récupération de référence"
   ]
  },
  {
   "cell_type": "code",
   "execution_count": 17,
   "metadata": {
    "collapsed": false
   },
   "outputs": [
    {
     "data": {
      "text/plain": [
       "13"
      ]
     },
     "execution_count": 17,
     "metadata": {},
     "output_type": "execute_result"
    }
   ],
   "source": [
    "Work.objects.filter(poster='').count()  # Nombre de mangas sans information de poster"
   ]
  },
  {
   "cell_type": "code",
   "execution_count": null,
   "metadata": {
    "collapsed": true
   },
   "outputs": [],
   "source": []
  }
 ],
 "metadata": {
  "kernelspec": {
   "display_name": "Django Shell-Plus",
   "language": "python",
   "name": "django_extensions"
  },
  "language_info": {
   "codemirror_mode": {
    "name": "ipython",
    "version": 3
   },
   "file_extension": ".py",
   "mimetype": "text/x-python",
   "name": "python",
   "nbconvert_exporter": "python",
   "pygments_lexer": "ipython3",
   "version": "3.4.1"
  }
 },
 "nbformat": 4,
 "nbformat_minor": 0
}
