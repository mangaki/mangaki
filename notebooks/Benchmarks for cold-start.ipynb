{
 "cells": [
  {
   "cell_type": "markdown",
   "metadata": {},
   "source": [
    "# Benchmarks for cold-start"
   ]
  },
  {
   "cell_type": "markdown",
   "metadata": {},
   "source": [
    "The idea is to compare DPP / random / mosaïque for the selection of the first items to rate for a newcomer."
   ]
  },
  {
   "cell_type": "markdown",
   "metadata": {},
   "source": [
    "## Preliminaries: DPP sampling"
   ]
  },
  {
   "cell_type": "markdown",
   "metadata": {},
   "source": [
    "Load vectors from the saved SVD"
   ]
  },
  {
   "cell_type": "code",
   "execution_count": 1,
   "metadata": {
    "collapsed": true
   },
   "outputs": [],
   "source": [
    "from mangaki.utils.data import Dataset\n",
    "dataset = Dataset()"
   ]
  },
  {
   "cell_type": "code",
   "execution_count": 2,
   "metadata": {
    "collapsed": false
   },
   "outputs": [
    {
     "ename": "FileNotFoundError",
     "evalue": "[Errno 2] No such file or directory: '/Users/jin/Sites/mangaki/mangaki/../pickles/svd-10.pickle'",
     "output_type": "error",
     "traceback": [
      "\u001b[0;31m---------------------------------------------------------------------------\u001b[0m",
      "\u001b[0;31mFileNotFoundError\u001b[0m                         Traceback (most recent call last)",
      "\u001b[0;32m<ipython-input-2-d04830f465fb>\u001b[0m in \u001b[0;36m<module>\u001b[0;34m()\u001b[0m\n\u001b[1;32m      1\u001b[0m \u001b[0;32mfrom\u001b[0m \u001b[0mmangaki\u001b[0m\u001b[0;34m.\u001b[0m\u001b[0mutils\u001b[0m\u001b[0;34m.\u001b[0m\u001b[0msvd\u001b[0m \u001b[0;32mimport\u001b[0m \u001b[0mMangakiSVD\u001b[0m\u001b[0;34m\u001b[0m\u001b[0m\n\u001b[1;32m      2\u001b[0m \u001b[0malgo\u001b[0m \u001b[0;34m=\u001b[0m \u001b[0mMangakiSVD\u001b[0m\u001b[0;34m(\u001b[0m\u001b[0;34m)\u001b[0m\u001b[0;34m\u001b[0m\u001b[0m\n\u001b[0;32m----> 3\u001b[0;31m \u001b[0malgo\u001b[0m\u001b[0;34m.\u001b[0m\u001b[0mload\u001b[0m\u001b[0;34m(\u001b[0m\u001b[0malgo\u001b[0m\u001b[0;34m.\u001b[0m\u001b[0mget_backup_filename\u001b[0m\u001b[0;34m(\u001b[0m\u001b[0;34m)\u001b[0m\u001b[0;34m)\u001b[0m  \u001b[0;31m# Trained on everything\u001b[0m\u001b[0;34m\u001b[0m\u001b[0m\n\u001b[0m\u001b[1;32m      4\u001b[0m \u001b[0mdataset\u001b[0m\u001b[0;34m.\u001b[0m\u001b[0mload\u001b[0m\u001b[0;34m(\u001b[0m\u001b[0;34m'ratings-'\u001b[0m \u001b[0;34m+\u001b[0m \u001b[0malgo\u001b[0m\u001b[0;34m.\u001b[0m\u001b[0mget_backup_filename\u001b[0m\u001b[0;34m(\u001b[0m\u001b[0;34m)\u001b[0m\u001b[0;34m)\u001b[0m\u001b[0;34m\u001b[0m\u001b[0m\n",
      "\u001b[0;32m/Users/jin/Sites/mangaki/mangaki/mangaki/utils/svd.py\u001b[0m in \u001b[0;36mload\u001b[0;34m(self, filename)\u001b[0m\n\u001b[1;32m     23\u001b[0m \u001b[0;34m\u001b[0m\u001b[0m\n\u001b[1;32m     24\u001b[0m     \u001b[0;32mdef\u001b[0m \u001b[0mload\u001b[0m\u001b[0;34m(\u001b[0m\u001b[0mself\u001b[0m\u001b[0;34m,\u001b[0m \u001b[0mfilename\u001b[0m\u001b[0;34m)\u001b[0m\u001b[0;34m:\u001b[0m\u001b[0;34m\u001b[0m\u001b[0m\n\u001b[0;32m---> 25\u001b[0;31m         \u001b[0mbackup\u001b[0m \u001b[0;34m=\u001b[0m \u001b[0msuper\u001b[0m\u001b[0;34m(\u001b[0m\u001b[0;34m)\u001b[0m\u001b[0;34m.\u001b[0m\u001b[0mload\u001b[0m\u001b[0;34m(\u001b[0m\u001b[0mfilename\u001b[0m\u001b[0;34m)\u001b[0m\u001b[0;34m\u001b[0m\u001b[0m\n\u001b[0m\u001b[1;32m     26\u001b[0m         \u001b[0mself\u001b[0m\u001b[0;34m.\u001b[0m\u001b[0mM\u001b[0m \u001b[0;34m=\u001b[0m \u001b[0mbackup\u001b[0m\u001b[0;34m.\u001b[0m\u001b[0mM\u001b[0m\u001b[0;34m\u001b[0m\u001b[0m\n\u001b[1;32m     27\u001b[0m         \u001b[0mself\u001b[0m\u001b[0;34m.\u001b[0m\u001b[0mU\u001b[0m \u001b[0;34m=\u001b[0m \u001b[0mbackup\u001b[0m\u001b[0;34m.\u001b[0m\u001b[0mU\u001b[0m\u001b[0;34m\u001b[0m\u001b[0m\n",
      "\u001b[0;32m/Users/jin/Sites/mangaki/mangaki/mangaki/utils/common.py\u001b[0m in \u001b[0;36mload\u001b[0;34m(self, filename)\u001b[0m\n\u001b[1;32m     32\u001b[0m \u001b[0;34m\u001b[0m\u001b[0m\n\u001b[1;32m     33\u001b[0m     \u001b[0;32mdef\u001b[0m \u001b[0mload\u001b[0m\u001b[0;34m(\u001b[0m\u001b[0mself\u001b[0m\u001b[0;34m,\u001b[0m \u001b[0mfilename\u001b[0m\u001b[0;34m)\u001b[0m\u001b[0;34m:\u001b[0m\u001b[0;34m\u001b[0m\u001b[0m\n\u001b[0;32m---> 34\u001b[0;31m         \u001b[0;32mwith\u001b[0m \u001b[0mopen\u001b[0m\u001b[0;34m(\u001b[0m\u001b[0mself\u001b[0m\u001b[0;34m.\u001b[0m\u001b[0mget_backup_path\u001b[0m\u001b[0;34m(\u001b[0m\u001b[0mfilename\u001b[0m\u001b[0;34m)\u001b[0m\u001b[0;34m,\u001b[0m \u001b[0;34m'rb'\u001b[0m\u001b[0;34m)\u001b[0m \u001b[0;32mas\u001b[0m \u001b[0mf\u001b[0m\u001b[0;34m:\u001b[0m\u001b[0;34m\u001b[0m\u001b[0m\n\u001b[0m\u001b[1;32m     35\u001b[0m             \u001b[0mbackup\u001b[0m \u001b[0;34m=\u001b[0m \u001b[0mpickle\u001b[0m\u001b[0;34m.\u001b[0m\u001b[0mload\u001b[0m\u001b[0;34m(\u001b[0m\u001b[0mf\u001b[0m\u001b[0;34m)\u001b[0m\u001b[0;34m\u001b[0m\u001b[0m\n\u001b[1;32m     36\u001b[0m         \u001b[0;32mreturn\u001b[0m \u001b[0mbackup\u001b[0m\u001b[0;34m\u001b[0m\u001b[0m\n",
      "\u001b[0;31mFileNotFoundError\u001b[0m: [Errno 2] No such file or directory: '/Users/jin/Sites/mangaki/mangaki/../pickles/svd-10.pickle'"
     ]
    }
   ],
   "source": [
    "from mangaki.utils.svd import MangakiSVD\n",
    "algo = MangakiSVD()\n",
    "algo.load(algo.get_backup_filename())  # Trained on everything\n",
    "dataset.load('ratings-' + algo.get_backup_filename())"
   ]
  },
  {
   "cell_type": "code",
   "execution_count": null,
   "metadata": {
    "collapsed": true
   },
   "outputs": [],
   "source": []
  },
  {
   "cell_type": "code",
   "execution_count": 4,
   "metadata": {
    "collapsed": false
   },
   "outputs": [],
   "source": [
    "import numpy as np\n",
    "rated_by_jj = np.array(User.objects.get(id=1).rating_set.values_list('work', 'work__title', 'choice'), dtype=[('work_id', 'i2'), ('work_title', 'U128'), ('choice', 'S8')])"
   ]
  },
  {
   "cell_type": "code",
   "execution_count": 5,
   "metadata": {
    "collapsed": false
   },
   "outputs": [],
   "source": [
    "rated_works = rated_by_jj['work_id']\n",
    "encoded_work_ids = dataset.encode_works(rated_works)"
   ]
  },
  {
   "cell_type": "code",
   "execution_count": 6,
   "metadata": {
    "collapsed": false
   },
   "outputs": [],
   "source": [
    "vectors = algo.VT.T[encoded_work_ids]\n",
    "L = vectors.dot(vectors.T)"
   ]
  },
  {
   "cell_type": "code",
   "execution_count": 7,
   "metadata": {
    "collapsed": false
   },
   "outputs": [],
   "source": [
    "D, V = np.linalg.eig(L.T)\n",
    "D = np.real(D)\n",
    "V = np.real(V)"
   ]
  },
  {
   "cell_type": "markdown",
   "metadata": {},
   "source": [
    "If we want to summarize JJ's profile, which ratings should we keep?"
   ]
  },
  {
   "cell_type": "code",
   "execution_count": 8,
   "metadata": {
    "collapsed": false
   },
   "outputs": [
    {
     "name": "stdout",
     "output_type": "stream",
     "text": [
      "[(  34, 'K-On!', b'wontsee') (   9, 'Elfen Lied', b'willsee')\n",
      " ( 150, 'Danshi Koukousei no Nichijou', b'willsee')\n",
      " (1973, 'Fate/stay night: Unlimited Blade Works (TV) - Prologue', b'willsee')\n",
      " (1563, 'Ponyo sur la falaise', b'like')]\n"
     ]
    }
   ],
   "source": [
    "from mangaki.utils import dpplib\n",
    "sampled_indices = list(map(int, dpplib.sample_k(5, D, V)))\n",
    "print(rated_by_jj[sampled_indices])\n",
    "dpp_works = rated_works[sampled_indices]\n",
    "\n",
    "def get_dpp_works(k):\n",
    "    sampled_indices = list(map(int, dpplib.sample_k(k, D, V)))\n",
    "    # print(rated_by_jj[sampled_indices])\n",
    "    return rated_works[sampled_indices]\n",
    "\n",
    "import random\n",
    "def get_random_works(k):\n",
    "    return np.array(random.sample(list(rated_works), k))"
   ]
  },
  {
   "cell_type": "markdown",
   "metadata": {},
   "source": [
    "## Simulation"
   ]
  },
  {
   "cell_type": "code",
   "execution_count": 17,
   "metadata": {
    "collapsed": false
   },
   "outputs": [
    {
     "name": "stdout",
     "output_type": "stream",
     "text": [
      "536 ratings for JJ\n"
     ]
    }
   ],
   "source": [
    "print(Rating.objects.filter(user_id=1).count(), 'ratings for JJ')\n",
    "ds = Dataset()\n",
    "anonymized = ds.make_anonymous_data(Rating.objects.all())"
   ]
  },
  {
   "cell_type": "code",
   "execution_count": 18,
   "metadata": {
    "collapsed": false
   },
   "outputs": [],
   "source": [
    "def select_works_to_rate():\n",
    "    if METHOD == 'dpp':\n",
    "        kept_works = get_dpp_works(NB_WORKS)\n",
    "    else:\n",
    "        kept_works = get_random_works(NB_WORKS)\n",
    "    return kept_works"
   ]
  },
  {
   "cell_type": "code",
   "execution_count": 19,
   "metadata": {
    "collapsed": false
   },
   "outputs": [],
   "source": [
    "def split_train_test(kept_works):\n",
    "    i_train = []\n",
    "    i_test = []\n",
    "    my_encoded_user_id = ds.encode_user[1]\n",
    "    encoded_kept_works = set(ds.encode_works(kept_works))\n",
    "    for i, (encoded_user_id, encoded_work_id) in enumerate(anonymized.X):\n",
    "        if encoded_user_id == my_encoded_user_id and encoded_work_id not in encoded_kept_works:\n",
    "            i_test.append(i)\n",
    "        else:\n",
    "            i_train.append(i)\n",
    "    return i_train, i_test"
   ]
  },
  {
   "cell_type": "code",
   "execution_count": 34,
   "metadata": {
    "collapsed": false
   },
   "outputs": [],
   "source": [
    "from mangaki.utils.knn import MangakiKNN\n",
    "from sklearn.metrics import mean_squared_error\n",
    "def compute_error(i_train, i_test):\n",
    "    knn = MangakiKNN(40)\n",
    "    knn.set_parameters(anonymized.nb_users, anonymized.nb_works)\n",
    "    knn.fit(anonymized.X[i_train], anonymized.y[i_train])\n",
    "    my_encoded_user_id = ds.encode_user[1]\n",
    "    neighbors = knn.get_neighbors([my_encoded_user_id])[0]\n",
    "    # print([User.objects.get(id=user_id) for user_id in ds.decode_users(neighbors)])\n",
    "    y_pred = knn.predict(anonymized.X[i_test])\n",
    "    print('predicted:', y_pred[:5])\n",
    "    print('was:', anonymized.y[i_test][:5])\n",
    "    rmse = mean_squared_error(anonymized.y[i_test], y_pred) ** 0.5\n",
    "    print('rmse:', rmse)\n",
    "    top_pred_indices = y_pred.argsort()[-20:]\n",
    "    # top_pred_indices = anonymized.y[i_test].argsort()[-20:]\n",
    "    print('predicted:', y_pred[top_pred_indices])\n",
    "    print('was:', anonymized.y[i_test][top_pred_indices])\n",
    "    rmse = mean_squared_error(anonymized.y[i_test][top_pred_indices], y_pred[top_pred_indices]) ** 0.5\n",
    "    print('rmse:', rmse)\n",
    "    for work_id in [ds.decode_work[encoded_work_id] for _, encoded_work_id in anonymized.X[i_test][top_pred_indices]]:\n",
    "        print(Work.objects.get(id=work_id).title)\n",
    "    # print('full predict')\n",
    "    # knn.predict(np.array([(1522, ds.encode_work[13811])]), True)\n",
    "    return rmse"
   ]
  },
  {
   "cell_type": "code",
   "execution_count": 41,
   "metadata": {
    "collapsed": true
   },
   "outputs": [],
   "source": [
    "def run_simulation():\n",
    "    kept_works = select_works_to_rate()\n",
    "    i_train, i_test = split_train_test(kept_works)\n",
    "    print('train size', len(i_train))\n",
    "    print('test size', len(i_test))\n",
    "    rmse = compute_error(i_train, i_test)\n",
    "    print(NB_WORKS, METHOD, rmse)"
   ]
  },
  {
   "cell_type": "markdown",
   "metadata": {},
   "source": [
    "## Results (number of works asked, strategy, RMSE)\n",
    "\n",
    "- 10 DPP 1.09488816919 1.1020390692\n",
    "- 20 DPP 1.0957652159900086\n",
    "- 50 DPP 1.06436560838\n",
    "- 100 DPP 1.0724727205\n",
    "- 500 DPP 1.27818830679 0.848657862475 (possibly overfitting)\n",
    "\n",
    "- 10 RND 1.09689215268 1.08273857127\n",
    "- 20 RND 1.11930399192\n",
    "- 50 RND 1.06455730002\n",
    "- 100 RND 1.06357987938\n",
    "- 500 RND 0.825381153284 0.754057572138"
   ]
  },
  {
   "cell_type": "code",
   "execution_count": 42,
   "metadata": {
    "collapsed": true
   },
   "outputs": [],
   "source": [
    "NB_WORKS = 10\n",
    "METHOD = 'dpp'"
   ]
  },
  {
   "cell_type": "code",
   "execution_count": 43,
   "metadata": {
    "collapsed": false
   },
   "outputs": [
    {
     "name": "stdout",
     "output_type": "stream",
     "text": [
      "train size 317355\n",
      "test size 526\n",
      "[array([ 855,  279, 1050,  873, 1155, 1799,  103,  893, 1892,  745, 1761,\n",
      "       1235,  101, 1239,  406, 1567,  634, 1441,  438, 1244, 1134, 1664,\n",
      "        610,  169,  912, 1222,  129, 1687,  159,  407,  758,  593,  962,\n",
      "        551, 1323,  785,  570, 1485, 1814, 1401])]\n",
      "predicted: [ 0.  0.  0.  0.  0.]\n",
      "was: [-0.5 -0.5 -0.5  0.5  0.5]\n",
      "rmse: 1.23206181617\n",
      "predicted: [ 1.14453807  1.14509658  1.15560294  1.16562679  1.20279494  1.22436833\n",
      "  1.22739906  1.26143443  1.26331597  1.2685274   1.31005521  1.31468137\n",
      "  1.39853659  1.42103941  1.43096924  1.6688064   1.68547088  1.70220729\n",
      "  1.72033654  1.72612439]\n",
      "was: [ 0.5  2.   2.  -0.5  4.   0.5  4.   2.   2.   2.   2.   0.5  0.1  4.   2.\n",
      "  0.5  0.5  2.   4.   2. ]\n",
      "rmse: 1.41820288426\n",
      "Angel Beats!\n",
      "Mahou Shoujo Madoka★Magica\n",
      "Toki wo Kakeru Shoujo\n",
      "Kill la Kill\n",
      "Suzumiya Haruhi no Yuuutsu\n",
      "Fullmetal Alchemist\n",
      "Les Enfants Loups : Ame & Yuki\n",
      "Code Geass: Hangyaku no Lelouch R2\n",
      "Durarara!!\n",
      "Nausicaä of the Valley of the Wind\n",
      "Le Château dans le ciel\n",
      "Psycho-Pass\n",
      "Mon voisin Totoro\n",
      "No Game No Life\n",
      "Le Château ambulant\n",
      "FullMetal Alchemist\n",
      "Fullmetal Alchemist: Brotherhood\n",
      "Death Note\n",
      "Princesse Mononoké\n",
      "L'Attaque des Titans\n",
      "10 dpp 1.41820288426\n"
     ]
    }
   ],
   "source": [
    "run_simulation()"
   ]
  },
  {
   "cell_type": "markdown",
   "metadata": {},
   "source": [
    "Still needs to be done:\n",
    "- run simulation on several users (how many works should be kept?)\n",
    "- try a different number of neighbors\n",
    "- should we evaluate the strategy on the whole profile or just the top recommendations?\n",
    "- try other models than MangakiKNN (but others are slow)"
   ]
  },
  {
   "cell_type": "markdown",
   "metadata": {},
   "source": [
    "## SVD"
   ]
  },
  {
   "cell_type": "code",
   "execution_count": 14,
   "metadata": {
    "collapsed": false
   },
   "outputs": [],
   "source": [
    "encoded_user_id = dataset.encode_work[1]\n",
    "X_test = np.array([(encoded_user_id, dataset.encode_work[work_id]) for work_id in rated_works])"
   ]
  },
  {
   "cell_type": "code",
   "execution_count": 23,
   "metadata": {
    "collapsed": false
   },
   "outputs": [
    {
     "name": "stdout",
     "output_type": "stream",
     "text": [
      "(1, 'Death Note', b'like')\n",
      "(13, 'Code Geass: Hangyaku no Lelouch R2', b'like')\n",
      "(2, 'Code Geass: Hangyaku no Lelouch', b'neutral')\n",
      "(5, \"L'Attaque des Titans\", b'like')\n",
      "(127, 'Hunter x Hunter', b'wontsee')\n",
      "(2417, \"Kuroko's Basketball 2\", b'willsee')\n",
      "(9385, 'Parasyte -the maxim-', b'willsee')\n",
      "(107, 'Kuroko no Basket', b'willsee')\n",
      "(7, 'Fullmetal Alchemist: Brotherhood', b'willsee')\n",
      "(46, 'Psycho-Pass', b'willsee')\n"
     ]
    }
   ],
   "source": [
    "y_pred = algo.predict(X_test)\n",
    "top_recommended = y_pred.argsort()[-10:]\n",
    "for i in top_recommended:\n",
    "    print(rated_by_jj[i])"
   ]
  },
  {
   "cell_type": "code",
   "execution_count": 21,
   "metadata": {
    "collapsed": false
   },
   "outputs": [
    {
     "data": {
      "text/plain": [
       "(array([   1,   13,    2,    5,  127, 2417, 9385,  107,    7,   46], dtype=int16),\n",
       " array([ 1.6811598 ,  1.76624399,  1.76966227,  1.83171241,  1.85026713,\n",
       "         1.8516618 ,  1.90392899,  2.01091566,  2.07686592,  2.4513739 ]))"
      ]
     },
     "execution_count": 21,
     "metadata": {},
     "output_type": "execute_result"
    }
   ],
   "source": [
    "rated_works[top_recommended], y_pred[top_recommended]"
   ]
  },
  {
   "cell_type": "code",
   "execution_count": 68,
   "metadata": {
    "collapsed": false
   },
   "outputs": [],
   "source": [
    "from mangaki.utils.values import rating_values\n",
    "y_test = np.array(list(map(lambda x: rating_values[x.decode('utf-8')], rated_by_jj['choice'])))"
   ]
  },
  {
   "cell_type": "code",
   "execution_count": 37,
   "metadata": {
    "collapsed": false
   },
   "outputs": [
    {
     "data": {
      "text/plain": [
       "1.3342711646750836"
      ]
     },
     "execution_count": 37,
     "metadata": {},
     "output_type": "execute_result"
    }
   ],
   "source": [
    "rmse = mean_squared_error(y_test, y_pred) ** 0.5\n",
    "rmse"
   ]
  },
  {
   "cell_type": "code",
   "execution_count": 61,
   "metadata": {
    "collapsed": false
   },
   "outputs": [],
   "source": [
    "from sklearn.linear_model import LinearRegression\n",
    "clf = LinearRegression(fit_intercept=False)"
   ]
  },
  {
   "cell_type": "code",
   "execution_count": 46,
   "metadata": {
    "collapsed": false
   },
   "outputs": [
    {
     "name": "stderr",
     "output_type": "stream",
     "text": [
      "/Users/jin/Sites/mangaki/venv/lib/python3.6/site-packages/scipy/linalg/basic.py:884: RuntimeWarning: internal gelsd driver lwork query error, required iwork dimension not returned. This is likely the result of LAPACK bug 0038, fixed in LAPACK 3.2.2 (released July 21, 2010). Falling back to 'gelss' driver.\n",
      "  warnings.warn(mesg, RuntimeWarning)\n"
     ]
    },
    {
     "data": {
      "text/plain": [
       "LinearRegression(copy_X=True, fit_intercept=False, n_jobs=1, normalize=False)"
      ]
     },
     "execution_count": 46,
     "metadata": {},
     "output_type": "execute_result"
    }
   ],
   "source": [
    "X_reg = algo.VT.T[dataset.encode_works(rated_works)]\n",
    "clf.fit(X_reg, y_test)"
   ]
  },
  {
   "cell_type": "code",
   "execution_count": 54,
   "metadata": {
    "collapsed": false
   },
   "outputs": [
    {
     "data": {
      "text/plain": [
       "1.0812074357558288"
      ]
     },
     "execution_count": 54,
     "metadata": {},
     "output_type": "execute_result"
    }
   ],
   "source": [
    "y_reg_pred = clf.predict(X_reg)\n",
    "rmse = mean_squared_error(y_test, y_reg_pred) ** 0.5\n",
    "rmse"
   ]
  },
  {
   "cell_type": "code",
   "execution_count": 137,
   "metadata": {
    "collapsed": false
   },
   "outputs": [
    {
     "name": "stdout",
     "output_type": "stream",
     "text": [
      "[22, 171, 153, 250, 373, 251, 306, 442, 272, 291, 20, 331, 200, 301, 395, 341, 286, 375, 38, 258]\n"
     ]
    }
   ],
   "source": [
    "sampled_indices = list(map(int, dpplib.sample_k(20, D, V)))\n",
    "print(sampled_indices)"
   ]
  },
  {
   "cell_type": "code",
   "execution_count": 138,
   "metadata": {
    "collapsed": false
   },
   "outputs": [
    {
     "data": {
      "text/plain": [
       "2.9427890870750679"
      ]
     },
     "execution_count": 138,
     "metadata": {},
     "output_type": "execute_result"
    }
   ],
   "source": [
    "clf = LinearRegression(fit_intercept=False)\n",
    "clf.fit(X_reg[sampled_indices], y_test[sampled_indices])\n",
    "y_reg_pred = clf.predict(X_reg)\n",
    "rmse = mean_squared_error(y_test, y_reg_pred) ** 0.5\n",
    "rmse"
   ]
  },
  {
   "cell_type": "code",
   "execution_count": 72,
   "metadata": {
    "collapsed": false
   },
   "outputs": [
    {
     "name": "stdout",
     "output_type": "stream",
     "text": [
      "[(  16, 'Steins;Gate', b'favorite') (  19, 'Mirai Nikki', b'willsee')\n",
      " (  46, 'Psycho-Pass', b'willsee') (  55, 'No Game No Life', b'favorite')\n",
      " (4369, \"Attaque Des Titans (l')\", b'willsee')\n",
      " (5001, 'Death note', b'like') (   1, 'Death Note', b'like')\n",
      " (   2, 'Code Geass: Hangyaku no Lelouch', b'neutral')\n",
      " (  13, 'Code Geass: Hangyaku no Lelouch R2', b'like')\n",
      " (   5, \"L'Attaque des Titans\", b'like')]\n",
      "[(    8, 'Fullmetal Alchemist', b'willsee')\n",
      " (  195, 'Fullmetal Alchemist: Brotherhood OVA Collection', b'willsee')\n",
      " (   18, 'Fairy Tail', b'willsee')\n",
      " (    7, 'Fullmetal Alchemist: Brotherhood', b'willsee')\n",
      " (   17, 'Naruto: Shippuuden', b'wontsee')\n",
      " (  126, 'Dragon Ball GT', b'willsee')\n",
      " (  125, 'Fullmetal Alchemist: The Conqueror of Shamballa', b'willsee')\n",
      " (   27, 'One Piece', b'wontsee') (10505, 'Dog Days', b'willsee')\n",
      " (  844, 'Card Captor Sakura', b'favorite')]\n"
     ]
    }
   ],
   "source": [
    "top_recommended = y_reg_pred.argsort()[-10:]\n",
    "print(rated_by_jj[top_recommended])\n",
    "bottom_recommended = y_reg_pred.argsort()[:10]\n",
    "print(rated_by_jj[bottom_recommended])"
   ]
  },
  {
   "cell_type": "code",
   "execution_count": 100,
   "metadata": {
    "collapsed": false
   },
   "outputs": [
    {
     "data": {
      "text/plain": [
       "2.3143075293148456"
      ]
     },
     "execution_count": 100,
     "metadata": {},
     "output_type": "execute_result"
    }
   ],
   "source": [
    "sampled_indices = random.sample(range(len(rated_works)), 10)\n",
    "clf = LinearRegression(fit_intercept=False)\n",
    "clf.fit(X_reg[sampled_indices], y_test[sampled_indices])\n",
    "y_reg_pred = clf.predict(X_reg)\n",
    "rmse = mean_squared_error(y_test, y_reg_pred) ** 0.5\n",
    "rmse"
   ]
  },
  {
   "cell_type": "markdown",
   "metadata": {
    "collapsed": true
   },
   "source": [
    "## Clean SVD"
   ]
  },
  {
   "cell_type": "code",
   "execution_count": 2,
   "metadata": {
    "collapsed": false
   },
   "outputs": [],
   "source": [
    "from mangaki.utils.data import Dataset\n",
    "from mangaki.utils.svd import MangakiSVD\n",
    "from sklearn.model_selection import train_test_split\n",
    "from collections import Counter, defaultdict\n",
    "import numpy as np\n",
    "from mangaki.utils.dpp import MangakiProxyDPP\n",
    "from sklearn.linear_model import LinearRegression, LogisticRegression\n",
    "import random\n",
    "import csv\n",
    "\n",
    "\n",
    "dataset = Dataset()\n",
    "# dataset.load('ratings-svd.pickle')\n",
    "dataset.load_csv('ratings-ml.csv')\n",
    "\n",
    "NB_COMPONENTS = 20\n",
    "TEST_SIZE_RATE = 0.2"
   ]
  },
  {
   "cell_type": "code",
   "execution_count": 3,
   "metadata": {
    "collapsed": false
   },
   "outputs": [],
   "source": [
    "def get_train_test_stats(dataset):\n",
    "    i_train, i_test = train_test_split(range(dataset.anonymized.nb_users), test_size=TEST_SIZE_RATE)\n",
    "    r_train = []\n",
    "    r_test = []\n",
    "    inv_pos = {}\n",
    "    user_test_set = set(i_test)\n",
    "    nb_ratings = Counter()\n",
    "    for r, (encoded_user_id, encoded_work_id) in enumerate(dataset.anonymized.X):\n",
    "        inv_pos[(encoded_user_id, encoded_work_id)] = r\n",
    "        if encoded_user_id in user_test_set:\n",
    "            r_test.append(r)\n",
    "        else:\n",
    "            r_train.append(r)\n",
    "            nb_ratings[encoded_work_id] += 1\n",
    "#    popular_encoded_work_ids = get_popular(nb_ratings, NB_MOST_POPULAR)\n",
    "    print('Rating test set rate', len(r_test) / len(dataset.anonymized.X))\n",
    "    return i_test, r_train, r_test, nb_ratings, inv_pos"
   ]
  },
  {
   "cell_type": "code",
   "execution_count": 4,
   "metadata": {
    "collapsed": false
   },
   "outputs": [],
   "source": [
    "def get_popular_subset(nb_ratings, nb_most_popular):\n",
    "    return np.array([work_id for work_id, _ in nb_ratings.most_common(nb_most_popular)])"
   ]
  },
  {
   "cell_type": "code",
   "execution_count": 5,
   "metadata": {
    "collapsed": false
   },
   "outputs": [],
   "source": [
    "def get_truth_dict(dataset, r_test):\n",
    "    truth = defaultdict(dict)\n",
    "    for r in r_test:\n",
    "        user_id, work_id = dataset.anonymized.X[r]\n",
    "        truth[user_id][work_id] = dataset.anonymized.y[r]\n",
    "    return truth"
   ]
  },
  {
   "cell_type": "code",
   "execution_count": 6,
   "metadata": {
    "collapsed": true
   },
   "outputs": [],
   "source": [
    "def sample_questions(method, rated_works, nb_questions, dpp=None):\n",
    "    if method == 'dpp':\n",
    "        dpp.subset(rated_works)\n",
    "        sampled_indices = dpp.sample_k(nb_questions)\n",
    "    elif method == 'random':\n",
    "        sampled_indices = random.sample(list(range(len(rated_works))), nb_questions)\n",
    "    elif method == 'popular':\n",
    "        sampled_indices = sorted(range(len(rated_works)), key=lambda i: nb_ratings[rated_works[i]], reverse=True)[:nb_questions]\n",
    "    return sampled_indices"
   ]
  },
  {
   "cell_type": "code",
   "execution_count": 7,
   "metadata": {
    "collapsed": true
   },
   "outputs": [],
   "source": [
    "AVERAGE_RATING = 2.5\n",
    "\n",
    "def collect_answers(all_vectors, asked_encoded_work_ids, user_truth, my_user_id, inv_pos):\n",
    "    \"\"\"print(sorted(user_truth.keys())[:5])\n",
    "    print(sorted(asked_encoded_work_ids)[:5])\"\"\"\n",
    "    X_vectors = []\n",
    "    y = []\n",
    "    y_binary = []\n",
    "    r_bonus = []\n",
    "    for encoded_work_id in asked_encoded_work_ids:\n",
    "        choice = user_truth.get(encoded_work_id)\n",
    "        if choice is not None:\n",
    "            X_vectors.append(all_vectors[encoded_work_id])\n",
    "            y.append(choice)\n",
    "            y_binary.append(1 if choice > AVERAGE_RATING else -1)\n",
    "            r_bonus.append(inv_pos[(my_user_id, encoded_work_id)])\n",
    "    return X_vectors, y, y_binary, r_bonus"
   ]
  },
  {
   "cell_type": "code",
   "execution_count": 8,
   "metadata": {
    "collapsed": false
   },
   "outputs": [],
   "source": [
    "def validate_model(clf, all_vectors, user_truth, clf2=None):\n",
    "    encoded_work_ids, true_choices = zip(*user_truth.items())\n",
    "    encoded_work_ids = list(encoded_work_ids)\n",
    "    pred_choices = clf.predict(all_vectors[encoded_work_ids])\n",
    "    \"\"\"print(pred_choices[:5])\n",
    "    print(true_choices[:5])\n",
    "    if clf2:\n",
    "        print(clf2.predict(all_vectors[encoded_work_ids])[:5])\"\"\"\n",
    "    return model.compute_rmse(pred_choices, true_choices)"
   ]
  },
  {
   "cell_type": "code",
   "execution_count": 9,
   "metadata": {
    "collapsed": false
   },
   "outputs": [
    {
     "name": "stdout",
     "output_type": "stream",
     "text": [
      "Rating test set rate 0.21812127514899404\n",
      "(9066, 20) works in total\n"
     ]
    }
   ],
   "source": [
    "from mangaki.utils.als import MangakiALS\n",
    "\n",
    "model = MangakiALS(NB_COMPONENTS)\n",
    "model.set_parameters(dataset.anonymized.nb_users, dataset.anonymized.nb_works)\n",
    "i_test, r_train, r_test, nb_ratings, inv_pos = get_train_test_stats(dataset)\n",
    "truth = get_truth_dict(dataset, r_test)\n",
    "\n",
    "model.fit(dataset.anonymized.X[r_train], dataset.anonymized.y[r_train])\n",
    "all_vectors = model.VT.T\n",
    "print(all_vectors.shape, 'works in total')"
   ]
  },
  {
   "cell_type": "code",
   "execution_count": 10,
   "metadata": {
    "collapsed": false
   },
   "outputs": [],
   "source": [
    "similarity = model.M.T.dot(model.M)"
   ]
  },
  {
   "cell_type": "code",
   "execution_count": 11,
   "metadata": {
    "collapsed": false
   },
   "outputs": [
    {
     "name": "stdout",
     "output_type": "stream",
     "text": [
      "910 works rated\n"
     ]
    },
    {
     "data": {
      "text/plain": [
       "[3.0, 3.0, 2.0, 2.5, 3.0]"
      ]
     },
     "execution_count": 11,
     "metadata": {},
     "output_type": "execute_result"
    }
   ],
   "source": [
    "user_id = i_test[0]\n",
    "my_user_id = user_id\n",
    "print(len(truth[user_id]), 'works rated')\n",
    "list(truth[user_id].values())[:5]"
   ]
  },
  {
   "cell_type": "code",
   "execution_count": 15,
   "metadata": {
    "collapsed": false
   },
   "outputs": [
    {
     "data": {
      "text/plain": [
       "[910, 38, 22, 51, 94, 142, 40, 38, 22, 190]"
      ]
     },
     "execution_count": 15,
     "metadata": {},
     "output_type": "execute_result"
    }
   ],
   "source": [
    "[len(truth[user_id]) for user_id in i_test[:10]]"
   ]
  },
  {
   "cell_type": "code",
   "execution_count": 12,
   "metadata": {
    "collapsed": false
   },
   "outputs": [],
   "source": [
    "NB_MOST_POPULAR = 100  # None for all\n",
    "work_subset = get_popular_subset(nb_ratings, NB_MOST_POPULAR)\n",
    "vectors = all_vectors[work_subset]\n",
    "# dpp = MangakiProxyDPP(model.M.T)\n",
    "dpp = MangakiProxyDPP(all_vectors)"
   ]
  },
  {
   "cell_type": "code",
   "execution_count": 13,
   "metadata": {
    "collapsed": true
   },
   "outputs": [],
   "source": [
    "class MangakiUserSVD:\n",
    "    def __init__(self, my_user_id):\n",
    "        self.user_id = my_user_id\n",
    "        # clf = LinearRegression(fit_intercept=False)\n",
    "        # clf2 = LogisticRegression(fit_intercept=False)\n",
    "        \"\"\"if len(set(yl)) >= 2:\n",
    "            happened += 1\n",
    "            clf2 = LogisticRegression(fit_intercept=False)\n",
    "            # clf.fit(X, y)\n",
    "            clf2.fit(X, yl)\n",
    "            clf.coef_ = clf2.coef_\n",
    "            clf.intercept_ = 0.\"\"\"\n",
    "\n",
    "    def fit(self, r_bonus):\n",
    "        self.svd = MangakiSVD(NB_COMPONENTS)\n",
    "        self.svd.set_parameters(dataset.anonymized.nb_users, dataset.anonymized.nb_works)\n",
    "        self.svd.fit(dataset.anonymized.X[r_train + r_bonus], dataset.anonymized.y[r_train + r_bonus])\n",
    "    \n",
    "    def predict(self, work_ids):\n",
    "        return self.svd.predict(np.array([[self.user_id, work_id] for work_id in work_ids]))"
   ]
  },
  {
   "cell_type": "code",
   "execution_count": 17,
   "metadata": {
    "collapsed": false
   },
   "outputs": [
    {
     "name": "stdout",
     "output_type": "stream",
     "text": [
      "135 personnes à tester\n",
      "dpp 5 Q\n"
     ]
    },
    {
     "name": "stderr",
     "output_type": "stream",
     "text": [
      "/Users/jin/Sites/mangaki/mangaki/mangaki/utils/svd.py:41: RuntimeWarning: invalid value encountered in double_scalars\n",
      "  means[i] = np.sum(matrix[i]) / np.sum(matrix[i] != 0)\n"
     ]
    },
    {
     "name": "stdout",
     "output_type": "stream",
     "text": [
      "dpp 10 Q\n",
      "dpp 20 Q\n",
      "random 5 Q\n",
      "random 10 Q\n",
      "random 20 Q\n",
      "popular 5 Q\n",
      "popular 10 Q\n",
      "popular 20 Q\n"
     ]
    }
   ],
   "source": [
    "NB_QUESTIONS_VALUES = [5, 10, 20]\n",
    "COVERAGE_VALUES = [5, 10, 20]\n",
    "values = defaultdict(lambda: defaultdict(lambda: defaultdict(list)))\n",
    "c = 0\n",
    "happened = 0\n",
    "print(len(i_test), 'personnes à tester')\n",
    "for METHOD in ['dpp', 'random', 'popular']:\n",
    "    for coverage in COVERAGE_VALUES:\n",
    "        print(METHOD, coverage, 'Q')\n",
    "        for user_id in i_test[:20]:\n",
    "            c += 1\n",
    "            user_truth = truth[user_id]\n",
    "            rated_works = np.array(list(user_truth.keys()))\n",
    "            nb_questions = round(coverage * len(rated_works) / 100)\n",
    "            # print('User', user_id)\n",
    "            sampled_indices = sample_questions(METHOD, rated_works, nb_questions, dpp)\n",
    "            asked_encoded_work_ids = rated_works[sampled_indices]\n",
    "            \"\"\"print(sampled_indices)\n",
    "            print(len(user_truth.keys()), 'vus')\"\"\"\n",
    "            X_vectors, y, y_binary, r_bonus = collect_answers(all_vectors, asked_encoded_work_ids, user_truth, user_id, inv_pos)\n",
    "            # print(len(y), 'answers', y[:5])\n",
    "            values['count'][METHOD][coverage].append(len(y))\n",
    "            if not y:\n",
    "                continue\n",
    "            values['std'][METHOD][coverage].append(np.std(y))\n",
    "            \n",
    "            cold_start = MangakiUserSVD(user_id)\n",
    "            cold_start.fit(r_bonus)\n",
    "            encoded_work_ids, true_choices = zip(*user_truth.items())\n",
    "            encoded_work_ids = list(encoded_work_ids)\n",
    "            y_pred = cold_start.predict(encoded_work_ids)\n",
    "            rmse = model.compute_rmse(y_pred, true_choices)\n",
    "            values['rmse'][METHOD][coverage].append(rmse)\n",
    "            # print('RMSE', rmse)\n",
    "\n",
    "        \"\"\"for key in values:\n",
    "            print(key, np.mean(values[key][METHOD][coverage]))\"\"\"\n",
    "# print('happened', happened, 'on', c, 'tries')"
   ]
  },
  {
   "cell_type": "code",
   "execution_count": 18,
   "metadata": {
    "collapsed": false
   },
   "outputs": [
    {
     "data": {
      "image/png": "[encoded data removed]",
      "text/plain": [
       "<matplotlib.figure.Figure at 0x11843fa58>"
      ]
     },
     "metadata": {},
     "output_type": "display_data"
    },
    {
     "data": {
      "image/png": "[encoded data removed]",
      "text/plain": [
       "<matplotlib.figure.Figure at 0x1175137b8>"
      ]
     },
     "metadata": {},
     "output_type": "display_data"
    },
    {
     "data": {
      "image/png": "[encoded data removed]",
      "text/plain": [
       "<matplotlib.figure.Figure at 0x11be17358>"
      ]
     },
     "metadata": {},
     "output_type": "display_data"
    }
   ],
   "source": [
    "import matplotlib.pyplot as plt\n",
    "from math import sqrt\n",
    "size = {'dpp': 4, 'random': 2, 'popular': 1}\n",
    "color = {'dpp': 'r', 'random': 'black', 'popular': 'blue'}\n",
    "for key in values:\n",
    "    plt.figure(key)\n",
    "    for method in values[key]:\n",
    "        plt.errorbar(x=NB_QUESTIONS_VALUES,\n",
    "                     y=[np.mean(values[key][method][nb_questions]) for nb_questions in NB_QUESTIONS_VALUES],\n",
    "                     yerr=[1.96 * np.std(values[key][method][nb_questions]) / sqrt(len(values[key][method][nb_questions])) for nb_questions in NB_QUESTIONS_VALUES],\n",
    "                     linewidth=size[method], fmt='o', color=color[method])\n",
    "    plt.ylabel(key)\n",
    "plt.show()"
   ]
  },
  {
   "cell_type": "code",
   "execution_count": 77,
   "metadata": {
    "collapsed": false
   },
   "outputs": [
    {
     "data": {
      "text/plain": [
       "defaultdict(<function __main__.<lambda>>,\n",
       "            {'count': defaultdict(<function __main__.<lambda>.<locals>.<lambda>>,\n",
       "                         {'dpp': defaultdict(list,\n",
       "                                      {10: [0, 1, 4, 1, 0, 1, 0, 5, 1, 5],\n",
       "                                       50: [0, 12, 22, 7, 1, 1, 0, 14, 4, 20],\n",
       "                                       100: [0,\n",
       "                                        14,\n",
       "                                        40,\n",
       "                                        15,\n",
       "                                        2,\n",
       "                                        3,\n",
       "                                        0,\n",
       "                                        24,\n",
       "                                        7,\n",
       "                                        39]}),\n",
       "                          'popular': defaultdict(list,\n",
       "                                      {10: [0, 6, 7, 2, 0, 0, 0, 6, 0, 7],\n",
       "                                       50: [0, 9, 26, 9, 0, 1, 0, 15, 3, 24],\n",
       "                                       100: [0,\n",
       "                                        15,\n",
       "                                        40,\n",
       "                                        14,\n",
       "                                        2,\n",
       "                                        3,\n",
       "                                        0,\n",
       "                                        23,\n",
       "                                        7,\n",
       "                                        35]}),\n",
       "                          'random': defaultdict(list,\n",
       "                                      {10: [0, 1, 3, 1, 0, 0, 0, 1, 0, 3],\n",
       "                                       50: [0, 9, 17, 7, 2, 1, 0, 10, 1, 18],\n",
       "                                       100: [0,\n",
       "                                        15,\n",
       "                                        40,\n",
       "                                        14,\n",
       "                                        2,\n",
       "                                        3,\n",
       "                                        0,\n",
       "                                        23,\n",
       "                                        7,\n",
       "                                        35]})}),\n",
       "             'rmse': defaultdict(<function __main__.<lambda>.<locals>.<lambda>>,\n",
       "                         {'dpp': defaultdict(list,\n",
       "                                      {10: [0.35355339059327379,\n",
       "                                        1.1041443883239213,\n",
       "                                        1.2909944487358056,\n",
       "                                        1.1359236684941296,\n",
       "                                        0.90571732942223704,\n",
       "                                        0.86076076287728809,\n",
       "                                        0.82568633967926841],\n",
       "                                       50: [0.32038412774791536,\n",
       "                                        1.3380825262540221,\n",
       "                                        1.3512620425811579,\n",
       "                                        2.1447610589527217,\n",
       "                                        1.1879774082787287,\n",
       "                                        0.94846064947504449,\n",
       "                                        0.79919519786819426,\n",
       "                                        0.86758467039248099],\n",
       "                                       100: [0.31972466150984397,\n",
       "                                        1.1140507698388395,\n",
       "                                        1.2395157552568021,\n",
       "                                        1.7745906667239741,\n",
       "                                        1.1361265647323844,\n",
       "                                        0.93599707135185928,\n",
       "                                        0.83442378726742861,\n",
       "                                        0.80901956765966965]}),\n",
       "                          'popular': defaultdict(list,\n",
       "                                      {10: [0.36957125596156021,\n",
       "                                        1.6869903217036277,\n",
       "                                        1.5517243903254483,\n",
       "                                        0.98250325734342248,\n",
       "                                        1.1666060672592096],\n",
       "                                       50: [0.3280172164663897,\n",
       "                                        1.2895747223277028,\n",
       "                                        1.219380303987055,\n",
       "                                        1.1359236684941296,\n",
       "                                        1.0128406753405601,\n",
       "                                        0.81619829999043536,\n",
       "                                        0.9528767480919007],\n",
       "                                       100: [0.31998458386457279,\n",
       "                                        1.1140507698388395,\n",
       "                                        1.2395157552568021,\n",
       "                                        1.7745906667239741,\n",
       "                                        1.1361265647323844,\n",
       "                                        0.93599707135185928,\n",
       "                                        0.83442378726742861,\n",
       "                                        0.80901956765966965]}),\n",
       "                          'random': defaultdict(list,\n",
       "                                      {10: [0.47434164902525688,\n",
       "                                        1.2109407273670685,\n",
       "                                        1.2971274735120224,\n",
       "                                        1.0644550324598181,\n",
       "                                        0.81022600395177702],\n",
       "                                       50: [0.32177693677688207,\n",
       "                                        1.327564578275096,\n",
       "                                        1.2074058539440751,\n",
       "                                        1.7745906667239741,\n",
       "                                        1.2920351538211634,\n",
       "                                        1.0125329405277008,\n",
       "                                        1.4270121360253514,\n",
       "                                        0.81953680340165713],\n",
       "                                       100: [0.31998458386457279,\n",
       "                                        1.1140507698388395,\n",
       "                                        1.2395157552568021,\n",
       "                                        1.7745906667239741,\n",
       "                                        1.1361265647323844,\n",
       "                                        0.93599707135185928,\n",
       "                                        0.83442378726742861,\n",
       "                                        0.80901956765966965]})}),\n",
       "             'std': defaultdict(<function __main__.<lambda>.<locals>.<lambda>>,\n",
       "                         {'dpp': defaultdict(list,\n",
       "                                      {10: [0.0,\n",
       "                                        1.5811388300841898,\n",
       "                                        0.0,\n",
       "                                        0.0,\n",
       "                                        0.79999999999999993,\n",
       "                                        0.0,\n",
       "                                        0.74833147735478822],\n",
       "                                       50: [0.23570226039551584,\n",
       "                                        1.0214638661020106,\n",
       "                                        0.83299312783504298,\n",
       "                                        0.0,\n",
       "                                        0.0,\n",
       "                                        0.55901699437494745,\n",
       "                                        0.73950997288745202,\n",
       "                                        0.58949130612757983],\n",
       "                                       100: [0.22587697572631282,\n",
       "                                        1.2031209415515967,\n",
       "                                        1.0456258094238751,\n",
       "                                        0.5,\n",
       "                                        0.40824829046386302,\n",
       "                                        0.53965974362452573,\n",
       "                                        0.67763092717893847,\n",
       "                                        0.71427632190687784]}),\n",
       "                          'popular': defaultdict(list,\n",
       "                                      {10: [0.23570226039551584,\n",
       "                                        0.49487165930539351,\n",
       "                                        0.5,\n",
       "                                        0.372677996249965,\n",
       "                                        0.72843135908468359],\n",
       "                                       50: [0.24845199749997662,\n",
       "                                        1.120677098794882,\n",
       "                                        1.227262335243029,\n",
       "                                        0.0,\n",
       "                                        0.27080128015453203,\n",
       "                                        0.81649658092772603,\n",
       "                                        0.59947894041408989],\n",
       "                                       100: [0.22110831935702666,\n",
       "                                        1.2031209415515967,\n",
       "                                        1.0594569267279519,\n",
       "                                        0.5,\n",
       "                                        0.40824829046386302,\n",
       "                                        0.54824000925732574,\n",
       "                                        0.67763092717893847,\n",
       "                                        0.68213350778933279]}),\n",
       "                          'random': defaultdict(list,\n",
       "                                      {10: [0.0,\n",
       "                                        1.8856180831641267,\n",
       "                                        0.0,\n",
       "                                        0.0,\n",
       "                                        0.47140452079103168],\n",
       "                                       50: [0.20786985482077452,\n",
       "                                        0.93749279120642515,\n",
       "                                        1.2777531299998797,\n",
       "                                        0.5,\n",
       "                                        0.0,\n",
       "                                        0.20000000000000001,\n",
       "                                        0.0,\n",
       "                                        0.53287016925696884],\n",
       "                                       100: [0.22110831935702666,\n",
       "                                        1.2031209415515967,\n",
       "                                        1.0594569267279519,\n",
       "                                        0.5,\n",
       "                                        0.40824829046386302,\n",
       "                                        0.54824000925732574,\n",
       "                                        0.67763092717893847,\n",
       "                                        0.68213350778933268]})})})"
      ]
     },
     "execution_count": 77,
     "metadata": {},
     "output_type": "execute_result"
    }
   ],
   "source": [
    "values"
   ]
  },
  {
   "cell_type": "code",
   "execution_count": 90,
   "metadata": {
    "collapsed": false
   },
   "outputs": [
    {
     "data": {
      "text/plain": [
       "378"
      ]
     },
     "execution_count": 90,
     "metadata": {},
     "output_type": "execute_result"
    }
   ],
   "source": [
    "my_user_id = i_test[5]\n",
    "user_truth = truth[my_user_id]\n",
    "len(user_truth)"
   ]
  },
  {
   "cell_type": "code",
   "execution_count": 30,
   "metadata": {
    "collapsed": false
   },
   "outputs": [],
   "source": [
    "cheat = MangakiSVD(NB_COMPONENTS)\n",
    "cheat.set_parameters(dataset.anonymized.nb_users, dataset.anonymized.nb_works)\n",
    "cheat.fit(dataset.anonymized.X, dataset.anonymized.y)"
   ]
  },
  {
   "cell_type": "code",
   "execution_count": 36,
   "metadata": {
    "collapsed": false
   },
   "outputs": [
    {
     "name": "stdout",
     "output_type": "stream",
     "text": [
      "82 works rated\n"
     ]
    }
   ],
   "source": [
    "user_id = my_user_id\n",
    "user_truth = truth[user_id]\n",
    "print(len(user_truth), 'works rated')\n",
    "encoded_work_ids, true_choices = zip(*user_truth.items())\n",
    "encoded_work_ids = list(encoded_work_ids)\n",
    "y_pred = cheat.predict(np.array([[user_id, work_id] for work_id in encoded_work_ids]))"
   ]
  },
  {
   "cell_type": "code",
   "execution_count": 37,
   "metadata": {
    "collapsed": false
   },
   "outputs": [
    {
     "data": {
      "text/plain": [
       "0.63301128407480212"
      ]
     },
     "execution_count": 37,
     "metadata": {},
     "output_type": "execute_result"
    }
   ],
   "source": [
    "cheat.compute_rmse(y_pred, true_choices)"
   ]
  },
  {
   "cell_type": "code",
   "execution_count": 38,
   "metadata": {
    "collapsed": false
   },
   "outputs": [
    {
     "name": "stdout",
     "output_type": "stream",
     "text": [
      "[ 4.01940583  3.75381313  3.83171     4.04327339  4.19463093]\n",
      "(3.5, 3.0, 3.0, 4.0, 4.5)\n"
     ]
    }
   ],
   "source": [
    "print(y_pred[:5])\n",
    "print(true_choices[:5])"
   ]
  },
  {
   "cell_type": "code",
   "execution_count": 33,
   "metadata": {
    "collapsed": false
   },
   "outputs": [
    {
     "data": {
      "text/plain": [
       "3.9911653488413967"
      ]
     },
     "execution_count": 33,
     "metadata": {},
     "output_type": "execute_result"
    }
   ],
   "source": [
    "y_pred = model.predict(np.array([[user_id, work_id] for work_id in encoded_work_ids]))\n",
    "model.compute_rmse(y_pred, true_choices)"
   ]
  },
  {
   "cell_type": "code",
   "execution_count": 34,
   "metadata": {
    "collapsed": false
   },
   "outputs": [
    {
     "name": "stdout",
     "output_type": "stream",
     "text": [
      "[ 0.14470261 -0.41395963  0.48651871 -0.31400844 -0.44509364]\n",
      "(3.5, 3.0, 3.0, 4.0, 4.5)\n"
     ]
    }
   ],
   "source": [
    "print(y_pred[:5])\n",
    "print(true_choices[:5])"
   ]
  },
  {
   "cell_type": "code",
   "execution_count": 42,
   "metadata": {
    "collapsed": false
   },
   "outputs": [
    {
     "name": "stdout",
     "output_type": "stream",
     "text": [
      "[ 0.96141088  4.69114602  0.18369855  3.11130014  5.41268555]\n",
      "(5.0, 4.0, 3.5, 5.0, 3.0)\n"
     ]
    },
    {
     "data": {
      "text/plain": [
       "4.9046470284311035"
      ]
     },
     "execution_count": 42,
     "metadata": {},
     "output_type": "execute_result"
    }
   ],
   "source": [
    "y_pred = clf.predict(all_vectors[encoded_work_ids])\n",
    "print(y_pred[:5])\n",
    "print(true_choices[:5])\n",
    "model.compute_rmse(y_pred, true_choices)"
   ]
  },
  {
   "cell_type": "code",
   "execution_count": 74,
   "metadata": {
    "collapsed": false
   },
   "outputs": [
    {
     "name": "stderr",
     "output_type": "stream",
     "text": [
      "/Users/jin/Sites/mangaki/mangaki/mangaki/utils/svd.py:41: RuntimeWarning: invalid value encountered in double_scalars\n",
      "  means[i] = np.sum(matrix[i]) / np.sum(matrix[i] != 0)\n"
     ]
    }
   ],
   "source": [
    "r_bonus = []\n",
    "for r, (user_id, work_id) in enumerate(dataset.anonymized.X):\n",
    "    if user_id == my_user_id:\n",
    "        r_bonus.append(r)\n",
    "\n",
    "big = MangakiSVD(NB_COMPONENTS)\n",
    "big.set_parameters(dataset.anonymized.nb_users, dataset.anonymized.nb_works)\n",
    "big.fit(dataset.anonymized.X[r_train + r_bonus], dataset.anonymized.y[r_train + r_bonus])"
   ]
  },
  {
   "cell_type": "code",
   "execution_count": 76,
   "metadata": {
    "collapsed": false
   },
   "outputs": [
    {
     "name": "stdout",
     "output_type": "stream",
     "text": [
      "[ 3.89258514  3.9176222   3.91470092  3.98430355  3.89990882  3.98331349\n",
      "  4.01747955  4.06884564  3.97676186  3.79887259  3.81377788  3.93377835\n",
      "  3.89652672  3.88009859  3.79983996]\n",
      "(3.0, 4.0, 4.0, 4.0, 4.0, 4.0, 5.0, 5.0, 4.0, 3.0, 2.0, 3.0, 4.0, 1.0, 3.0)\n"
     ]
    },
    {
     "data": {
      "text/plain": [
       "0.83551021742139298"
      ]
     },
     "execution_count": 76,
     "metadata": {},
     "output_type": "execute_result"
    }
   ],
   "source": [
    "y_pred = big.predict(np.array([[user_id, work_id] for work_id in encoded_work_ids]))\n",
    "print(y_pred[:15])\n",
    "print(true_choices[:15])\n",
    "big.compute_rmse(y_pred, true_choices)"
   ]
  },
  {
   "cell_type": "code",
   "execution_count": null,
   "metadata": {
    "collapsed": true
   },
   "outputs": [],
   "source": []
  }
 ],
 "metadata": {
  "kernelspec": {
   "display_name": "Django Shell-Plus",
   "language": "python",
   "name": "django_extensions"
  },
  "language_info": {
   "codemirror_mode": {
    "name": "ipython",
    "version": 3
   },
   "file_extension": ".py",
   "mimetype": "text/x-python",
   "name": "python",
   "nbconvert_exporter": "python",
   "pygments_lexer": "ipython3",
   "version": "3.6.0"
  }
 },
 "nbformat": 4,
 "nbformat_minor": 2
}
