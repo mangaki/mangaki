{
 "cells": [
  {
   "cell_type": "markdown",
   "metadata": {},
   "source": [
    "# Benchmarks for cold-start"
   ]
  },
  {
   "cell_type": "markdown",
   "metadata": {},
   "source": [
    "The idea is to compare DPP / random / mosaïque for the selection of the first items to rate for a newcomer."
   ]
  },
  {
   "cell_type": "markdown",
   "metadata": {},
   "source": [
    "## Preliminaries: DPP sampling"
   ]
  },
  {
   "cell_type": "markdown",
   "metadata": {},
   "source": [
    "Load vectors from the saved SVD"
   ]
  },
  {
   "cell_type": "code",
   "execution_count": 113,
   "metadata": {
    "collapsed": true
   },
   "outputs": [],
   "source": [
    "from mangaki.utils.data import Dataset\n",
    "dataset = Dataset()"
   ]
  },
  {
   "cell_type": "code",
   "execution_count": 114,
   "metadata": {
    "collapsed": false
   },
   "outputs": [],
   "source": [
    "from mangaki.utils.svd import MangakiSVD\n",
    "algo = MangakiSVD()\n",
    "algo.load(algo.get_backup_filename())\n",
    "dataset.load('ratings-' + algo.get_backup_filename())"
   ]
  },
  {
   "cell_type": "code",
   "execution_count": 115,
   "metadata": {
    "collapsed": false
   },
   "outputs": [],
   "source": [
    "import numpy as np\n",
    "rated_by_jj = np.array(User.objects.get(id=1).rating_set.values_list('work', 'work__title', 'choice'), dtype=[('work_id', 'i2'), ('work_title', 'U128'), ('choice', 'S8')])"
   ]
  },
  {
   "cell_type": "code",
   "execution_count": 132,
   "metadata": {
    "collapsed": false
   },
   "outputs": [],
   "source": [
    "rated_works = rated_by_jj['work_id']\n",
    "encoded_work_ids = dataset.encode_works(rated_works)"
   ]
  },
  {
   "cell_type": "code",
   "execution_count": 117,
   "metadata": {
    "collapsed": false
   },
   "outputs": [],
   "source": [
    "vectors = algo.VT.T[encoded_work_ids]\n",
    "L = vectors.dot(vectors.T)"
   ]
  },
  {
   "cell_type": "code",
   "execution_count": 118,
   "metadata": {
    "collapsed": true
   },
   "outputs": [],
   "source": [
    "D, V = np.linalg.eig(L.T)\n",
    "D = np.real(D)\n",
    "V = np.real(V)"
   ]
  },
  {
   "cell_type": "markdown",
   "metadata": {},
   "source": [
    "If we want to summarize JJ's profile, which ratings should we keep?"
   ]
  },
  {
   "cell_type": "code",
   "execution_count": 195,
   "metadata": {
    "collapsed": false
   },
   "outputs": [
    {
     "name": "stdout",
     "output_type": "stream",
     "text": [
      "[(  13, 'Code Geass: Hangyaku no Lelouch R2', b'like')\n",
      " ( 260, 'Pokemon 3: The Movie', b'willsee')\n",
      " ( 410, 'Porco Rosso', b'favorite')\n",
      " ( 110, 'Suzumiya Haruhi no Shoushitsu', b'favorite')\n",
      " (2395, 'Umineko: When They Cry', b'willsee')]\n"
     ]
    }
   ],
   "source": [
    "from mangaki.utils import dpplib\n",
    "sampled_indices = list(map(int, dpplib.sample_k(5, D, V)))\n",
    "print(rated_by_jj[sampled_indices])\n",
    "dpp_works = rated_works[sampled_indices]\n",
    "\n",
    "def get_dpp_works(k):\n",
    "    sampled_indices = list(map(int, dpplib.sample_k(k, D, V)))\n",
    "    return rated_works[sampled_indices]\n",
    "\n",
    "import random\n",
    "def get_random_works(k):\n",
    "    return np.array(random.sample(list(rated_works), k))"
   ]
  },
  {
   "cell_type": "markdown",
   "metadata": {},
   "source": [
    "## Simulation"
   ]
  },
  {
   "cell_type": "code",
   "execution_count": 197,
   "metadata": {
    "collapsed": false
   },
   "outputs": [
    {
     "name": "stdout",
     "output_type": "stream",
     "text": [
      "536 ratings for JJ\n"
     ]
    }
   ],
   "source": [
    "print(Rating.objects.filter(user_id=1).count(), 'ratings for JJ')\n",
    "ds = Dataset()\n",
    "anonymized = ds.make_anonymous_data(Rating.objects.all())"
   ]
  },
  {
   "cell_type": "code",
   "execution_count": 198,
   "metadata": {
    "collapsed": false
   },
   "outputs": [],
   "source": [
    "def select_works_to_rate():\n",
    "    if METHOD == 'dpp':\n",
    "        kept_works = get_dpp_works(NB_WORKS)\n",
    "    else:\n",
    "        kept_works = get_random_works(NB_WORKS)\n",
    "    return kept_works"
   ]
  },
  {
   "cell_type": "code",
   "execution_count": 199,
   "metadata": {
    "collapsed": false
   },
   "outputs": [],
   "source": [
    "def split_train_test(kept_works):\n",
    "    i_train = []\n",
    "    i_test = []\n",
    "    my_encoded_user_id = ds.encode_user[1]\n",
    "    encoded_kept_works = set(ds.encode_works(kept_works))\n",
    "    for i, (encoded_user_id, encoded_work_id) in enumerate(anonymized.X):\n",
    "        if encoded_user_id == my_encoded_user_id and encoded_work_id not in encoded_kept_works:\n",
    "            i_test.append(i)\n",
    "        else:\n",
    "            i_train.append(i)\n",
    "    return i_train, i_test"
   ]
  },
  {
   "cell_type": "code",
   "execution_count": 207,
   "metadata": {
    "collapsed": false
   },
   "outputs": [],
   "source": [
    "from mangaki.utils.knn import MangakiKNN\n",
    "from sklearn.metrics import mean_squared_error\n",
    "def compute_error(i_train, i_test):\n",
    "    knn = MangakiKNN()\n",
    "    knn.set_parameters(anonymized.nb_users, anonymized.nb_works)\n",
    "    knn.fit(anonymized.X[i_train], anonymized.y[i_train])\n",
    "    y_pred = knn.predict(anonymized.X[i_test])\n",
    "    print('predicted:', y_pred[:5])\n",
    "    print('was:', anonymized.y[i_test][:5])\n",
    "    return mean_squared_error(anonymized.y[i_test], y_pred) ** 0.5"
   ]
  },
  {
   "cell_type": "code",
   "execution_count": 208,
   "metadata": {
    "collapsed": true
   },
   "outputs": [],
   "source": [
    "def run_simulation():\n",
    "    kept_works = select_works_to_rate()\n",
    "    i_train, i_test = split_train_test(kept_works)\n",
    "    print('train size', len(i_train))\n",
    "    print('test size', len(i_test))\n",
    "    rmse = compute_error(i_train, i_test)\n",
    "    print(NB_WORKS, METHOD, rmse)"
   ]
  },
  {
   "cell_type": "markdown",
   "metadata": {},
   "source": [
    "## Results (number of works asked, strategy, RMSE)\n",
    "\n",
    "- 10 DPP 1.09488816919 1.1020390692\n",
    "- 20 DPP 1.0957652159900086\n",
    "- 50 DPP 1.06436560838\n",
    "- 100 DPP 1.0724727205\n",
    "- 500 DPP 1.27818830679 0.848657862475 (possibly overfitting)\n",
    "\n",
    "- 10 RND 1.09689215268 1.08273857127\n",
    "- 20 RND 1.11930399192\n",
    "- 50 RND 1.06455730002\n",
    "- 100 RND 1.06357987938\n",
    "- 500 RND 0.825381153284 0.754057572138"
   ]
  },
  {
   "cell_type": "code",
   "execution_count": 204,
   "metadata": {
    "collapsed": true
   },
   "outputs": [],
   "source": [
    "NB_WORKS = 500\n",
    "METHOD = 'dpp'"
   ]
  },
  {
   "cell_type": "code",
   "execution_count": 205,
   "metadata": {
    "collapsed": false
   },
   "outputs": [
    {
     "name": "stdout",
     "output_type": "stream",
     "text": [
      "317844\n",
      "37\n",
      "[ 0.85630734  0.97026515  0.68152273  0.564       0.96290761]\n",
      "[-0.5  0.5  0.5  0.5  2. ]\n",
      "500 dpp 0.848657862475\n"
     ]
    }
   ],
   "source": [
    "run_simulation()"
   ]
  },
  {
   "cell_type": "markdown",
   "metadata": {},
   "source": [
    "Still needs to be done:\n",
    "- run simulation on several users (how many works should be kept?)\n",
    "- try a different number of neighbors\n",
    "- should we evaluate the strategy on the whole profile or just the top recommendations?\n",
    "- try other models than MangakiKNN (but others are slow)"
   ]
  }
 ],
 "metadata": {
  "kernelspec": {
   "display_name": "Django Shell-Plus",
   "language": "python",
   "name": "django_extensions"
  },
  "language_info": {
   "codemirror_mode": {
    "name": "ipython",
    "version": 3
   },
   "file_extension": ".py",
   "mimetype": "text/x-python",
   "name": "python",
   "nbconvert_exporter": "python",
   "pygments_lexer": "ipython3",
   "version": "3.6.0"
  }
 },
 "nbformat": 4,
 "nbformat_minor": 2
}
