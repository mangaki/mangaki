{
 "cells": [
  {
   "cell_type": "markdown",
   "metadata": {},
   "source": [
    "# Benchmarks for cold-start"
   ]
  },
  {
   "cell_type": "markdown",
   "metadata": {},
   "source": [
    "The idea is to compare DPP / random / mosaïque for the selection of the first items to rate for a newcomer."
   ]
  },
  {
   "cell_type": "markdown",
   "metadata": {},
   "source": [
    "## Preliminaries: DPP sampling"
   ]
  },
  {
   "cell_type": "markdown",
   "metadata": {},
   "source": [
    "Load vectors from the saved SVD"
   ]
  },
  {
   "cell_type": "code",
   "execution_count": 1,
   "metadata": {
    "collapsed": true
   },
   "outputs": [],
   "source": [
    "from mangaki.utils.data import Dataset\n",
    "dataset = Dataset()"
   ]
  },
  {
   "cell_type": "code",
   "execution_count": 2,
   "metadata": {},
   "outputs": [
    {
     "ename": "FileNotFoundError",
     "evalue": "[Errno 2] No such file or directory: '/Users/jin/Sites/mangaki/mangaki/../pickles/svd-10.pickle'",
     "output_type": "error",
     "traceback": [
      "\u001b[0;31m---------------------------------------------------------------------------\u001b[0m",
      "\u001b[0;31mFileNotFoundError\u001b[0m                         Traceback (most recent call last)",
      "\u001b[0;32m<ipython-input-2-d04830f465fb>\u001b[0m in \u001b[0;36m<module>\u001b[0;34m()\u001b[0m\n\u001b[1;32m      1\u001b[0m \u001b[0;32mfrom\u001b[0m \u001b[0mmangaki\u001b[0m\u001b[0;34m.\u001b[0m\u001b[0mutils\u001b[0m\u001b[0;34m.\u001b[0m\u001b[0msvd\u001b[0m \u001b[0;32mimport\u001b[0m \u001b[0mMangakiSVD\u001b[0m\u001b[0;34m\u001b[0m\u001b[0m\n\u001b[1;32m      2\u001b[0m \u001b[0malgo\u001b[0m \u001b[0;34m=\u001b[0m \u001b[0mMangakiSVD\u001b[0m\u001b[0;34m(\u001b[0m\u001b[0;34m)\u001b[0m\u001b[0;34m\u001b[0m\u001b[0m\n\u001b[0;32m----> 3\u001b[0;31m \u001b[0malgo\u001b[0m\u001b[0;34m.\u001b[0m\u001b[0mload\u001b[0m\u001b[0;34m(\u001b[0m\u001b[0malgo\u001b[0m\u001b[0;34m.\u001b[0m\u001b[0mget_backup_filename\u001b[0m\u001b[0;34m(\u001b[0m\u001b[0;34m)\u001b[0m\u001b[0;34m)\u001b[0m  \u001b[0;31m# Trained on everything\u001b[0m\u001b[0;34m\u001b[0m\u001b[0m\n\u001b[0m\u001b[1;32m      4\u001b[0m \u001b[0mdataset\u001b[0m\u001b[0;34m.\u001b[0m\u001b[0mload\u001b[0m\u001b[0;34m(\u001b[0m\u001b[0;34m'ratings-'\u001b[0m \u001b[0;34m+\u001b[0m \u001b[0malgo\u001b[0m\u001b[0;34m.\u001b[0m\u001b[0mget_backup_filename\u001b[0m\u001b[0;34m(\u001b[0m\u001b[0;34m)\u001b[0m\u001b[0;34m)\u001b[0m\u001b[0;34m\u001b[0m\u001b[0m\n",
      "\u001b[0;32m/Users/jin/Sites/mangaki/mangaki/mangaki/utils/svd.py\u001b[0m in \u001b[0;36mload\u001b[0;34m(self, filename)\u001b[0m\n\u001b[1;32m     23\u001b[0m \u001b[0;34m\u001b[0m\u001b[0m\n\u001b[1;32m     24\u001b[0m     \u001b[0;32mdef\u001b[0m \u001b[0mload\u001b[0m\u001b[0;34m(\u001b[0m\u001b[0mself\u001b[0m\u001b[0;34m,\u001b[0m \u001b[0mfilename\u001b[0m\u001b[0;34m)\u001b[0m\u001b[0;34m:\u001b[0m\u001b[0;34m\u001b[0m\u001b[0m\n\u001b[0;32m---> 25\u001b[0;31m         \u001b[0mbackup\u001b[0m \u001b[0;34m=\u001b[0m \u001b[0msuper\u001b[0m\u001b[0;34m(\u001b[0m\u001b[0;34m)\u001b[0m\u001b[0;34m.\u001b[0m\u001b[0mload\u001b[0m\u001b[0;34m(\u001b[0m\u001b[0mfilename\u001b[0m\u001b[0;34m)\u001b[0m\u001b[0;34m\u001b[0m\u001b[0m\n\u001b[0m\u001b[1;32m     26\u001b[0m         \u001b[0mself\u001b[0m\u001b[0;34m.\u001b[0m\u001b[0mM\u001b[0m \u001b[0;34m=\u001b[0m \u001b[0mbackup\u001b[0m\u001b[0;34m.\u001b[0m\u001b[0mM\u001b[0m\u001b[0;34m\u001b[0m\u001b[0m\n\u001b[1;32m     27\u001b[0m         \u001b[0mself\u001b[0m\u001b[0;34m.\u001b[0m\u001b[0mU\u001b[0m \u001b[0;34m=\u001b[0m \u001b[0mbackup\u001b[0m\u001b[0;34m.\u001b[0m\u001b[0mU\u001b[0m\u001b[0;34m\u001b[0m\u001b[0m\n",
      "\u001b[0;32m/Users/jin/Sites/mangaki/mangaki/mangaki/utils/common.py\u001b[0m in \u001b[0;36mload\u001b[0;34m(self, filename)\u001b[0m\n\u001b[1;32m     32\u001b[0m \u001b[0;34m\u001b[0m\u001b[0m\n\u001b[1;32m     33\u001b[0m     \u001b[0;32mdef\u001b[0m \u001b[0mload\u001b[0m\u001b[0;34m(\u001b[0m\u001b[0mself\u001b[0m\u001b[0;34m,\u001b[0m \u001b[0mfilename\u001b[0m\u001b[0;34m)\u001b[0m\u001b[0;34m:\u001b[0m\u001b[0;34m\u001b[0m\u001b[0m\n\u001b[0;32m---> 34\u001b[0;31m         \u001b[0;32mwith\u001b[0m \u001b[0mopen\u001b[0m\u001b[0;34m(\u001b[0m\u001b[0mself\u001b[0m\u001b[0;34m.\u001b[0m\u001b[0mget_backup_path\u001b[0m\u001b[0;34m(\u001b[0m\u001b[0mfilename\u001b[0m\u001b[0;34m)\u001b[0m\u001b[0;34m,\u001b[0m \u001b[0;34m'rb'\u001b[0m\u001b[0;34m)\u001b[0m \u001b[0;32mas\u001b[0m \u001b[0mf\u001b[0m\u001b[0;34m:\u001b[0m\u001b[0;34m\u001b[0m\u001b[0m\n\u001b[0m\u001b[1;32m     35\u001b[0m             \u001b[0mbackup\u001b[0m \u001b[0;34m=\u001b[0m \u001b[0mpickle\u001b[0m\u001b[0;34m.\u001b[0m\u001b[0mload\u001b[0m\u001b[0;34m(\u001b[0m\u001b[0mf\u001b[0m\u001b[0;34m)\u001b[0m\u001b[0;34m\u001b[0m\u001b[0m\n\u001b[1;32m     36\u001b[0m         \u001b[0;32mreturn\u001b[0m \u001b[0mbackup\u001b[0m\u001b[0;34m\u001b[0m\u001b[0m\n",
      "\u001b[0;31mFileNotFoundError\u001b[0m: [Errno 2] No such file or directory: '/Users/jin/Sites/mangaki/mangaki/../pickles/svd-10.pickle'"
     ]
    }
   ],
   "source": [
    "from mangaki.utils.svd import MangakiSVD\n",
    "algo = MangakiSVD()\n",
    "algo.load(algo.get_backup_filename())  # Trained on everything\n",
    "dataset.load('ratings-' + algo.get_backup_filename())"
   ]
  },
  {
   "cell_type": "code",
   "execution_count": null,
   "metadata": {
    "collapsed": true
   },
   "outputs": [],
   "source": []
  },
  {
   "cell_type": "code",
   "execution_count": 4,
   "metadata": {},
   "outputs": [],
   "source": [
    "import numpy as np\n",
    "rated_by_jj = np.array(User.objects.get(id=1).rating_set.values_list('work', 'work__title', 'choice'), dtype=[('work_id', 'i2'), ('work_title', 'U128'), ('choice', 'S8')])"
   ]
  },
  {
   "cell_type": "code",
   "execution_count": 5,
   "metadata": {},
   "outputs": [],
   "source": [
    "rated_works = rated_by_jj['work_id']\n",
    "encoded_work_ids = dataset.encode_works(rated_works)"
   ]
  },
  {
   "cell_type": "code",
   "execution_count": 6,
   "metadata": {},
   "outputs": [],
   "source": [
    "vectors = algo.VT.T[encoded_work_ids]\n",
    "L = vectors.dot(vectors.T)"
   ]
  },
  {
   "cell_type": "code",
   "execution_count": 7,
   "metadata": {},
   "outputs": [],
   "source": [
    "D, V = np.linalg.eig(L.T)\n",
    "D = np.real(D)\n",
    "V = np.real(V)"
   ]
  },
  {
   "cell_type": "markdown",
   "metadata": {},
   "source": [
    "If we want to summarize JJ's profile, which ratings should we keep?"
   ]
  },
  {
   "cell_type": "code",
   "execution_count": 8,
   "metadata": {},
   "outputs": [
    {
     "name": "stdout",
     "output_type": "stream",
     "text": [
      "[(  34, 'K-On!', b'wontsee') (   9, 'Elfen Lied', b'willsee')\n",
      " ( 150, 'Danshi Koukousei no Nichijou', b'willsee')\n",
      " (1973, 'Fate/stay night: Unlimited Blade Works (TV) - Prologue', b'willsee')\n",
      " (1563, 'Ponyo sur la falaise', b'like')]\n"
     ]
    }
   ],
   "source": [
    "from mangaki.utils import dpplib\n",
    "sampled_indices = list(map(int, dpplib.sample_k(5, D, V)))\n",
    "print(rated_by_jj[sampled_indices])\n",
    "dpp_works = rated_works[sampled_indices]\n",
    "\n",
    "def get_dpp_works(k):\n",
    "    sampled_indices = list(map(int, dpplib.sample_k(k, D, V)))\n",
    "    # print(rated_by_jj[sampled_indices])\n",
    "    return rated_works[sampled_indices]\n",
    "\n",
    "import random\n",
    "def get_random_works(k):\n",
    "    return np.array(random.sample(list(rated_works), k))"
   ]
  },
  {
   "cell_type": "markdown",
   "metadata": {},
   "source": [
    "## Simulation"
   ]
  },
  {
   "cell_type": "code",
   "execution_count": 17,
   "metadata": {},
   "outputs": [
    {
     "name": "stdout",
     "output_type": "stream",
     "text": [
      "536 ratings for JJ\n"
     ]
    }
   ],
   "source": [
    "print(Rating.objects.filter(user_id=1).count(), 'ratings for JJ')\n",
    "ds = Dataset()\n",
    "anonymized = ds.make_anonymous_data(Rating.objects.all())"
   ]
  },
  {
   "cell_type": "code",
   "execution_count": 18,
   "metadata": {},
   "outputs": [],
   "source": [
    "def select_works_to_rate():\n",
    "    if METHOD == 'dpp':\n",
    "        kept_works = get_dpp_works(NB_WORKS)\n",
    "    else:\n",
    "        kept_works = get_random_works(NB_WORKS)\n",
    "    return kept_works"
   ]
  },
  {
   "cell_type": "code",
   "execution_count": 19,
   "metadata": {},
   "outputs": [],
   "source": [
    "def split_train_test(kept_works):\n",
    "    i_train = []\n",
    "    i_test = []\n",
    "    my_encoded_user_id = ds.encode_user[1]\n",
    "    encoded_kept_works = set(ds.encode_works(kept_works))\n",
    "    for i, (encoded_user_id, encoded_work_id) in enumerate(anonymized.X):\n",
    "        if encoded_user_id == my_encoded_user_id and encoded_work_id not in encoded_kept_works:\n",
    "            i_test.append(i)\n",
    "        else:\n",
    "            i_train.append(i)\n",
    "    return i_train, i_test"
   ]
  },
  {
   "cell_type": "code",
   "execution_count": 34,
   "metadata": {},
   "outputs": [],
   "source": [
    "from mangaki.utils.knn import MangakiKNN\n",
    "from sklearn.metrics import mean_squared_error\n",
    "def compute_error(i_train, i_test):\n",
    "    knn = MangakiKNN(40)\n",
    "    knn.set_parameters(anonymized.nb_users, anonymized.nb_works)\n",
    "    knn.fit(anonymized.X[i_train], anonymized.y[i_train])\n",
    "    my_encoded_user_id = ds.encode_user[1]\n",
    "    neighbors = knn.get_neighbors([my_encoded_user_id])[0]\n",
    "    # print([User.objects.get(id=user_id) for user_id in ds.decode_users(neighbors)])\n",
    "    y_pred = knn.predict(anonymized.X[i_test])\n",
    "    print('predicted:', y_pred[:5])\n",
    "    print('was:', anonymized.y[i_test][:5])\n",
    "    rmse = mean_squared_error(anonymized.y[i_test], y_pred) ** 0.5\n",
    "    print('rmse:', rmse)\n",
    "    top_pred_indices = y_pred.argsort()[-20:]\n",
    "    # top_pred_indices = anonymized.y[i_test].argsort()[-20:]\n",
    "    print('predicted:', y_pred[top_pred_indices])\n",
    "    print('was:', anonymized.y[i_test][top_pred_indices])\n",
    "    rmse = mean_squared_error(anonymized.y[i_test][top_pred_indices], y_pred[top_pred_indices]) ** 0.5\n",
    "    print('rmse:', rmse)\n",
    "    for work_id in [ds.decode_work[encoded_work_id] for _, encoded_work_id in anonymized.X[i_test][top_pred_indices]]:\n",
    "        print(Work.objects.get(id=work_id).title)\n",
    "    # print('full predict')\n",
    "    # knn.predict(np.array([(1522, ds.encode_work[13811])]), True)\n",
    "    return rmse"
   ]
  },
  {
   "cell_type": "code",
   "execution_count": 41,
   "metadata": {
    "collapsed": true
   },
   "outputs": [],
   "source": [
    "def run_simulation():\n",
    "    kept_works = select_works_to_rate()\n",
    "    i_train, i_test = split_train_test(kept_works)\n",
    "    print('train size', len(i_train))\n",
    "    print('test size', len(i_test))\n",
    "    rmse = compute_error(i_train, i_test)\n",
    "    print(NB_WORKS, METHOD, rmse)"
   ]
  },
  {
   "cell_type": "markdown",
   "metadata": {},
   "source": [
    "## Results (number of works asked, strategy, RMSE)\n",
    "\n",
    "- 10 DPP 1.09488816919 1.1020390692\n",
    "- 20 DPP 1.0957652159900086\n",
    "- 50 DPP 1.06436560838\n",
    "- 100 DPP 1.0724727205\n",
    "- 500 DPP 1.27818830679 0.848657862475 (possibly overfitting)\n",
    "\n",
    "- 10 RND 1.09689215268 1.08273857127\n",
    "- 20 RND 1.11930399192\n",
    "- 50 RND 1.06455730002\n",
    "- 100 RND 1.06357987938\n",
    "- 500 RND 0.825381153284 0.754057572138"
   ]
  },
  {
   "cell_type": "code",
   "execution_count": 42,
   "metadata": {
    "collapsed": true
   },
   "outputs": [],
   "source": [
    "NB_WORKS = 10\n",
    "METHOD = 'dpp'"
   ]
  },
  {
   "cell_type": "code",
   "execution_count": 43,
   "metadata": {},
   "outputs": [
    {
     "name": "stdout",
     "output_type": "stream",
     "text": [
      "train size 317355\n",
      "test size 526\n",
      "[array([ 855,  279, 1050,  873, 1155, 1799,  103,  893, 1892,  745, 1761,\n",
      "       1235,  101, 1239,  406, 1567,  634, 1441,  438, 1244, 1134, 1664,\n",
      "        610,  169,  912, 1222,  129, 1687,  159,  407,  758,  593,  962,\n",
      "        551, 1323,  785,  570, 1485, 1814, 1401])]\n",
      "predicted: [ 0.  0.  0.  0.  0.]\n",
      "was: [-0.5 -0.5 -0.5  0.5  0.5]\n",
      "rmse: 1.23206181617\n",
      "predicted: [ 1.14453807  1.14509658  1.15560294  1.16562679  1.20279494  1.22436833\n",
      "  1.22739906  1.26143443  1.26331597  1.2685274   1.31005521  1.31468137\n",
      "  1.39853659  1.42103941  1.43096924  1.6688064   1.68547088  1.70220729\n",
      "  1.72033654  1.72612439]\n",
      "was: [ 0.5  2.   2.  -0.5  4.   0.5  4.   2.   2.   2.   2.   0.5  0.1  4.   2.\n",
      "  0.5  0.5  2.   4.   2. ]\n",
      "rmse: 1.41820288426\n",
      "Angel Beats!\n",
      "Mahou Shoujo Madoka★Magica\n",
      "Toki wo Kakeru Shoujo\n",
      "Kill la Kill\n",
      "Suzumiya Haruhi no Yuuutsu\n",
      "Fullmetal Alchemist\n",
      "Les Enfants Loups : Ame & Yuki\n",
      "Code Geass: Hangyaku no Lelouch R2\n",
      "Durarara!!\n",
      "Nausicaä of the Valley of the Wind\n",
      "Le Château dans le ciel\n",
      "Psycho-Pass\n",
      "Mon voisin Totoro\n",
      "No Game No Life\n",
      "Le Château ambulant\n",
      "FullMetal Alchemist\n",
      "Fullmetal Alchemist: Brotherhood\n",
      "Death Note\n",
      "Princesse Mononoké\n",
      "L'Attaque des Titans\n",
      "10 dpp 1.41820288426\n"
     ]
    }
   ],
   "source": [
    "run_simulation()"
   ]
  },
  {
   "cell_type": "markdown",
   "metadata": {},
   "source": [
    "Still needs to be done:\n",
    "- run simulation on several users (how many works should be kept?)\n",
    "- try a different number of neighbors\n",
    "- should we evaluate the strategy on the whole profile or just the top recommendations?\n",
    "- try other models than MangakiKNN (but others are slow)"
   ]
  },
  {
   "cell_type": "markdown",
   "metadata": {},
   "source": [
    "## SVD"
   ]
  },
  {
   "cell_type": "code",
   "execution_count": 14,
   "metadata": {},
   "outputs": [],
   "source": [
    "encoded_user_id = dataset.encode_work[1]\n",
    "X_test = np.array([(encoded_user_id, dataset.encode_work[work_id]) for work_id in rated_works])"
   ]
  },
  {
   "cell_type": "code",
   "execution_count": 23,
   "metadata": {},
   "outputs": [
    {
     "name": "stdout",
     "output_type": "stream",
     "text": [
      "(1, 'Death Note', b'like')\n",
      "(13, 'Code Geass: Hangyaku no Lelouch R2', b'like')\n",
      "(2, 'Code Geass: Hangyaku no Lelouch', b'neutral')\n",
      "(5, \"L'Attaque des Titans\", b'like')\n",
      "(127, 'Hunter x Hunter', b'wontsee')\n",
      "(2417, \"Kuroko's Basketball 2\", b'willsee')\n",
      "(9385, 'Parasyte -the maxim-', b'willsee')\n",
      "(107, 'Kuroko no Basket', b'willsee')\n",
      "(7, 'Fullmetal Alchemist: Brotherhood', b'willsee')\n",
      "(46, 'Psycho-Pass', b'willsee')\n"
     ]
    }
   ],
   "source": [
    "y_pred = algo.predict(X_test)\n",
    "top_recommended = y_pred.argsort()[-10:]\n",
    "for i in top_recommended:\n",
    "    print(rated_by_jj[i])"
   ]
  },
  {
   "cell_type": "code",
   "execution_count": 21,
   "metadata": {},
   "outputs": [
    {
     "data": {
      "text/plain": [
       "(array([   1,   13,    2,    5,  127, 2417, 9385,  107,    7,   46], dtype=int16),\n",
       " array([ 1.6811598 ,  1.76624399,  1.76966227,  1.83171241,  1.85026713,\n",
       "         1.8516618 ,  1.90392899,  2.01091566,  2.07686592,  2.4513739 ]))"
      ]
     },
     "execution_count": 21,
     "metadata": {},
     "output_type": "execute_result"
    }
   ],
   "source": [
    "rated_works[top_recommended], y_pred[top_recommended]"
   ]
  },
  {
   "cell_type": "code",
   "execution_count": 68,
   "metadata": {},
   "outputs": [],
   "source": [
    "from mangaki.utils.values import rating_values\n",
    "y_test = np.array(list(map(lambda x: rating_values[x.decode('utf-8')], rated_by_jj['choice'])))"
   ]
  },
  {
   "cell_type": "code",
   "execution_count": 37,
   "metadata": {},
   "outputs": [
    {
     "data": {
      "text/plain": [
       "1.3342711646750836"
      ]
     },
     "execution_count": 37,
     "metadata": {},
     "output_type": "execute_result"
    }
   ],
   "source": [
    "rmse = mean_squared_error(y_test, y_pred) ** 0.5\n",
    "rmse"
   ]
  },
  {
   "cell_type": "code",
   "execution_count": 61,
   "metadata": {},
   "outputs": [],
   "source": [
    "from sklearn.linear_model import LinearRegression\n",
    "clf = LinearRegression(fit_intercept=False)"
   ]
  },
  {
   "cell_type": "code",
   "execution_count": 46,
   "metadata": {},
   "outputs": [
    {
     "name": "stderr",
     "output_type": "stream",
     "text": [
      "/Users/jin/Sites/mangaki/venv/lib/python3.6/site-packages/scipy/linalg/basic.py:884: RuntimeWarning: internal gelsd driver lwork query error, required iwork dimension not returned. This is likely the result of LAPACK bug 0038, fixed in LAPACK 3.2.2 (released July 21, 2010). Falling back to 'gelss' driver.\n",
      "  warnings.warn(mesg, RuntimeWarning)\n"
     ]
    },
    {
     "data": {
      "text/plain": [
       "LinearRegression(copy_X=True, fit_intercept=False, n_jobs=1, normalize=False)"
      ]
     },
     "execution_count": 46,
     "metadata": {},
     "output_type": "execute_result"
    }
   ],
   "source": [
    "X_reg = algo.VT.T[dataset.encode_works(rated_works)]\n",
    "clf.fit(X_reg, y_test)"
   ]
  },
  {
   "cell_type": "code",
   "execution_count": 54,
   "metadata": {},
   "outputs": [
    {
     "data": {
      "text/plain": [
       "1.0812074357558288"
      ]
     },
     "execution_count": 54,
     "metadata": {},
     "output_type": "execute_result"
    }
   ],
   "source": [
    "y_reg_pred = clf.predict(X_reg)\n",
    "rmse = mean_squared_error(y_test, y_reg_pred) ** 0.5\n",
    "rmse"
   ]
  },
  {
   "cell_type": "code",
   "execution_count": 137,
   "metadata": {},
   "outputs": [
    {
     "name": "stdout",
     "output_type": "stream",
     "text": [
      "[22, 171, 153, 250, 373, 251, 306, 442, 272, 291, 20, 331, 200, 301, 395, 341, 286, 375, 38, 258]\n"
     ]
    }
   ],
   "source": [
    "sampled_indices = list(map(int, dpplib.sample_k(20, D, V)))\n",
    "print(sampled_indices)"
   ]
  },
  {
   "cell_type": "code",
   "execution_count": 138,
   "metadata": {},
   "outputs": [
    {
     "data": {
      "text/plain": [
       "2.9427890870750679"
      ]
     },
     "execution_count": 138,
     "metadata": {},
     "output_type": "execute_result"
    }
   ],
   "source": [
    "clf = LinearRegression(fit_intercept=False)\n",
    "clf.fit(X_reg[sampled_indices], y_test[sampled_indices])\n",
    "y_reg_pred = clf.predict(X_reg)\n",
    "rmse = mean_squared_error(y_test, y_reg_pred) ** 0.5\n",
    "rmse"
   ]
  },
  {
   "cell_type": "code",
   "execution_count": 72,
   "metadata": {},
   "outputs": [
    {
     "name": "stdout",
     "output_type": "stream",
     "text": [
      "[(  16, 'Steins;Gate', b'favorite') (  19, 'Mirai Nikki', b'willsee')\n",
      " (  46, 'Psycho-Pass', b'willsee') (  55, 'No Game No Life', b'favorite')\n",
      " (4369, \"Attaque Des Titans (l')\", b'willsee')\n",
      " (5001, 'Death note', b'like') (   1, 'Death Note', b'like')\n",
      " (   2, 'Code Geass: Hangyaku no Lelouch', b'neutral')\n",
      " (  13, 'Code Geass: Hangyaku no Lelouch R2', b'like')\n",
      " (   5, \"L'Attaque des Titans\", b'like')]\n",
      "[(    8, 'Fullmetal Alchemist', b'willsee')\n",
      " (  195, 'Fullmetal Alchemist: Brotherhood OVA Collection', b'willsee')\n",
      " (   18, 'Fairy Tail', b'willsee')\n",
      " (    7, 'Fullmetal Alchemist: Brotherhood', b'willsee')\n",
      " (   17, 'Naruto: Shippuuden', b'wontsee')\n",
      " (  126, 'Dragon Ball GT', b'willsee')\n",
      " (  125, 'Fullmetal Alchemist: The Conqueror of Shamballa', b'willsee')\n",
      " (   27, 'One Piece', b'wontsee') (10505, 'Dog Days', b'willsee')\n",
      " (  844, 'Card Captor Sakura', b'favorite')]\n"
     ]
    }
   ],
   "source": [
    "top_recommended = y_reg_pred.argsort()[-10:]\n",
    "print(rated_by_jj[top_recommended])\n",
    "bottom_recommended = y_reg_pred.argsort()[:10]\n",
    "print(rated_by_jj[bottom_recommended])"
   ]
  },
  {
   "cell_type": "code",
   "execution_count": 100,
   "metadata": {},
   "outputs": [
    {
     "data": {
      "text/plain": [
       "2.3143075293148456"
      ]
     },
     "execution_count": 100,
     "metadata": {},
     "output_type": "execute_result"
    }
   ],
   "source": [
    "sampled_indices = random.sample(range(len(rated_works)), 10)\n",
    "clf = LinearRegression(fit_intercept=False)\n",
    "clf.fit(X_reg[sampled_indices], y_test[sampled_indices])\n",
    "y_reg_pred = clf.predict(X_reg)\n",
    "rmse = mean_squared_error(y_test, y_reg_pred) ** 0.5\n",
    "rmse"
   ]
  },
  {
   "cell_type": "markdown",
   "metadata": {
    "collapsed": true
   },
   "source": [
    "## Clean SVD"
   ]
  },
  {
   "cell_type": "code",
   "execution_count": 24,
   "metadata": {},
   "outputs": [],
   "source": [
    "from mangaki.utils.data import Dataset\n",
    "from mangaki.utils.svd import MangakiSVD\n",
    "from sklearn.model_selection import train_test_split\n",
    "from collections import Counter, defaultdict\n",
    "import numpy as np\n",
    "#from mangaki.utils.dpp import MangakiProxyDPP\n",
    "from mangaki.utils.values import rating_values\n",
    "from sklearn.linear_model import LinearRegression, LogisticRegression\n",
    "import random\n",
    "import csv\n",
    "\n",
    "\n",
    "dataset = Dataset()\n",
    "# dataset.load('ratings-svd.pickle')\n",
    "dataset.load_csv('ratings20170627.csv', convert=lambda choice: rating_values[choice] if choice != 'love' else rating_values['favorite'])\n",
    "# dataset.load_csv('ratings-ml.csv')\n",
    "# dataset.load_csv('ratings-ml.csv', convert=lambda choice: 1 if float(choice) >= 2.5 else 0)\n",
    "\n",
    "NB_COMPONENTS = 20\n",
    "TEST_SIZE_RATE = 0.2"
   ]
  },
  {
   "cell_type": "code",
   "execution_count": 29,
   "metadata": {},
   "outputs": [
    {
     "name": "stdout",
     "output_type": "stream",
     "text": [
      "Death Note 1551\n",
      "L'Attaque des Titans 1435\n",
      "Fullmetal Alchemist: Brotherhood 1381\n",
      "Princesse Mononoké 1339\n",
      "Le Voyage de Chihiro 1330\n"
     ]
    }
   ],
   "source": [
    "from collections import Counter\n",
    "for work_id, _ in Counter(dataset.anonymized.X[:, 1]).most_common(5):\n",
    "    print(titles[work_id], _)"
   ]
  },
  {
   "cell_type": "code",
   "execution_count": 23,
   "metadata": {},
   "outputs": [
    {
     "data": {
      "text/plain": [
       "array([-0.00215913,  0.00161538,  0.00221507, -0.00084501,  0.00345967,\n",
       "        0.00143659,  0.00123555,  0.00088394,  0.00197162, -0.00327025,\n",
       "       -0.00140959,  0.00401382,  0.0008613 , -0.00023099, -0.00490457,\n",
       "       -0.00037542,  0.00018159,  0.00147499, -0.00247999,  0.00200885])"
      ]
     },
     "execution_count": 23,
     "metadata": {},
     "output_type": "execute_result"
    }
   ],
   "source": [
    "work_vectors[0]"
   ]
  },
  {
   "cell_type": "code",
   "execution_count": 110,
   "metadata": {},
   "outputs": [],
   "source": [
    "def get_train_test_stats(dataset):\n",
    "    i_train, i_test = train_test_split(range(dataset.anonymized.nb_users), test_size=TEST_SIZE_RATE)\n",
    "    r_train = []\n",
    "    r_test = []\n",
    "    inv_pos = {}\n",
    "    user_test_set = set(i_test)\n",
    "    nb_ratings = Counter()\n",
    "    for r, (encoded_user_id, encoded_work_id) in enumerate(dataset.anonymized.X):\n",
    "        inv_pos[(encoded_user_id, encoded_work_id)] = r\n",
    "        if encoded_user_id in user_test_set:\n",
    "            r_test.append(r)\n",
    "        else:\n",
    "            r_train.append(r)\n",
    "            nb_ratings[encoded_work_id] += 1\n",
    "#    popular_encoded_work_ids = get_popular(nb_ratings, NB_MOST_POPULAR)\n",
    "    print('Rating test set rate', len(r_test) / len(dataset.anonymized.X))\n",
    "    return i_test, r_train, r_test, nb_ratings, inv_pos"
   ]
  },
  {
   "cell_type": "code",
   "execution_count": 111,
   "metadata": {},
   "outputs": [],
   "source": [
    "def get_popular_subset(nb_ratings, nb_most_popular):\n",
    "    return np.array([work_id for work_id, _ in nb_ratings.most_common(nb_most_popular)])"
   ]
  },
  {
   "cell_type": "code",
   "execution_count": 112,
   "metadata": {},
   "outputs": [],
   "source": [
    "def get_truth_dict(dataset, r_test):\n",
    "    truth = defaultdict(dict)\n",
    "    for r in r_test:\n",
    "        user_id, work_id = dataset.anonymized.X[r]\n",
    "        truth[user_id][work_id] = dataset.anonymized.y[r]\n",
    "    return truth"
   ]
  },
  {
   "cell_type": "code",
   "execution_count": 113,
   "metadata": {},
   "outputs": [],
   "source": [
    "def sample_questions(method, rated_works, nb_questions, dpp=None):\n",
    "    if method == 'dpp':\n",
    "        dpp.subset(rated_works)\n",
    "        sampled_indices = dpp.sample_k(nb_questions)\n",
    "    elif method == 'random':\n",
    "        sampled_indices = random.sample(list(range(len(rated_works))), nb_questions)\n",
    "    elif method == 'popular':\n",
    "        sampled_indices = sorted(range(len(rated_works)), key=lambda i: nb_ratings[rated_works[i]], reverse=True)[:nb_questions]\n",
    "    elif method == 'bgs':\n",
    "        P = all_vectors[rated_works].dot(all_vectors[rated_works].T)\n",
    "        nb_works = len(rated_works)\n",
    "        # print(nb_works, nb_questions)\n",
    "        kept_indices = set(range(nb_works))\n",
    "        for _ in range(nb_works - nb_questions):\n",
    "            k_min = None\n",
    "            error_min = float('inf')\n",
    "            for k in kept_indices:\n",
    "                kept = list(kept_indices - set([k]))\n",
    "                try:\n",
    "                    error = np.trace(np.linalg.pinv(P[np.ix_(kept, kept)]))\n",
    "                except:\n",
    "                    print('I had to take', nb_questions, 'but I must stop at', len(kept_indices))\n",
    "                    return list(kept_indices)\n",
    "                if error < error_min:\n",
    "                    error_min = error\n",
    "                    k_min = k\n",
    "            kept_indices -= set([k_min])\n",
    "        sampled_indices = list(kept_indices)\n",
    "    return sampled_indices"
   ]
  },
  {
   "cell_type": "code",
   "execution_count": 114,
   "metadata": {
    "collapsed": true
   },
   "outputs": [],
   "source": [
    "AVERAGE_RATING = 2.5\n",
    "\n",
    "def collect_answers(all_vectors, asked_encoded_work_ids, user_truth, my_user_id, inv_pos):\n",
    "    \"\"\"print(sorted(user_truth.keys())[:5])\n",
    "    print(sorted(asked_encoded_work_ids)[:5])\"\"\"\n",
    "    X_vectors = []\n",
    "    y = []\n",
    "    y_binary = []\n",
    "    r_bonus = []\n",
    "    for encoded_work_id in sorted(asked_encoded_work_ids):\n",
    "        choice = user_truth.get(encoded_work_id)\n",
    "        if choice is not None:\n",
    "            X_vectors.append(all_vectors[encoded_work_id])\n",
    "            y.append(choice)\n",
    "            y_binary.append(1 if choice > AVERAGE_RATING else -1)\n",
    "            r_bonus.append(inv_pos[(my_user_id, encoded_work_id)])\n",
    "    return X_vectors, y, y_binary, r_bonus"
   ]
  },
  {
   "cell_type": "code",
   "execution_count": 115,
   "metadata": {},
   "outputs": [],
   "source": [
    "def validate_model(clf, all_vectors, user_truth, clf2=None):\n",
    "    encoded_work_ids, true_choices = zip(*user_truth.items())\n",
    "    encoded_work_ids = list(encoded_work_ids)\n",
    "    pred_choices = clf.predict(all_vectors[encoded_work_ids])\n",
    "    \"\"\"print(pred_choices[:5])\n",
    "    print(true_choices[:5])\n",
    "    if clf2:\n",
    "        print(clf2.predict(all_vectors[encoded_work_ids])[:5])\"\"\"\n",
    "    return model.compute_rmse(pred_choices, true_choices)"
   ]
  },
  {
   "cell_type": "code",
   "execution_count": 116,
   "metadata": {},
   "outputs": [
    {
     "name": "stdout",
     "output_type": "stream",
     "text": [
      "Rating test set rate 0.19022239110435582\n",
      "(9066, 20) works in total\n"
     ]
    }
   ],
   "source": [
    "from mangaki.utils.als import MangakiALS\n",
    "\n",
    "NB_COMPONENTS = 20\n",
    "model = MangakiALS(NB_COMPONENTS)\n",
    "model.set_parameters(dataset.anonymized.nb_users, dataset.anonymized.nb_works)\n",
    "i_test, r_train, r_test, nb_ratings, inv_pos = get_train_test_stats(dataset)\n",
    "truth = get_truth_dict(dataset, r_test)\n",
    "\n",
    "model.fit(dataset.anonymized.X[r_train], dataset.anonymized.y[r_train])\n",
    "all_vectors = model.VT.T\n",
    "print(all_vectors.shape, 'works in total')"
   ]
  },
  {
   "cell_type": "code",
   "execution_count": 34,
   "metadata": {},
   "outputs": [],
   "source": [
    "from mangaki.utils.pca import MangakiPCA\n",
    "from mangaki.utils.svd import MangakiSVD\n",
    "from mangaki.utils.als import MangakiALS\n",
    "from mangaki.utils.nmf import MangakiNMF\n",
    "\n",
    "NB_COMPONENTS = 20\n",
    "pca = MangakiPCA(NB_COMPONENTS)\n",
    "pca.set_parameters(dataset.anonymized.nb_users, dataset.anonymized.nb_works)\n",
    "pca.fit(dataset.anonymized.X, dataset.anonymized.y)"
   ]
  },
  {
   "cell_type": "code",
   "execution_count": 19,
   "metadata": {},
   "outputs": [],
   "source": [
    "from django.conf import settings\n",
    "import os\n",
    "titles = {}\n",
    "with open(os.path.join(settings.BASE_DIR, '../data', 'works20170627.csv')) as f:\n",
    "    for work_id, title, _ in csv.reader(f):\n",
    "        titles[int(work_id)] = title"
   ]
  },
  {
   "cell_type": "code",
   "execution_count": 35,
   "metadata": {},
   "outputs": [
    {
     "data": {
      "text/plain": [
       "9897"
      ]
     },
     "execution_count": 35,
     "metadata": {},
     "output_type": "execute_result"
    }
   ],
   "source": [
    "dataset.anonymized.nb_works"
   ]
  },
  {
   "cell_type": "code",
   "execution_count": 38,
   "metadata": {},
   "outputs": [
    {
     "name": "stdout",
     "output_type": "stream",
     "text": [
      "Top\n",
      "1 Princesse Mononoké 0.148678518307\n",
      "2 Nausicaä of the Valley of the Wind 0.137603820542\n",
      "3 Le Voyage de Chihiro 0.137461749169\n",
      "4 Le Château dans le ciel 0.13323066144\n",
      "5 Les Enfants Loups : Ame & Yuki 0.123292105394\n",
      "6 Toki wo Kakeru Shoujo 0.118029349866\n",
      "7 Tengen Toppa Gurren Lagann 0.116624678313\n",
      "8 Le Château ambulant 0.109595427199\n",
      "9 Mon voisin Totoro 0.109492930081\n",
      "10 Baccano! 0.107692591811\n",
      "11 Summer Wars 0.106783415066\n",
      "12 Mahou Shoujo Madoka★Magica 0.104793850054\n",
      "13 Steins;Gate 0.1042805601\n",
      "14 Cowboy Bebop 0.0974779471028\n",
      "15 Neon Genesis Evangelion 0.0964575520349\n",
      "16 Suzumiya Haruhi no Yuuutsu 0.0964500418499\n",
      "17 Porco Rosso 0.0929916447108\n",
      "18 Kiki la petite sorcière 0.0896137230914\n",
      "19 Suzumiya Haruhi no Shoushitsu 0.0854469733715\n",
      "20 Ghost in the Shell 0.0851082748897\n",
      "21 Durarara!! 0.0836483375018\n",
      "22 Barakamon 0.0824693903373\n",
      "23 Bakemonogatari 0.0810310797664\n",
      "24 5 centimètres par seconde 0.0797996149704\n",
      "25 Paprika 0.0793856226829\n",
      "26 The Garden of Words 0.0790163659013\n",
      "27 Shinsekai yori 0.0789726670047\n",
      "28 The Tale of The Princess Kaguya 0.0773287077034\n",
      "29 Grave of the Fireflies 0.0769486596159\n",
      "30 Psycho-Pass 0.0747230481384\n",
      "Bottom\n",
      "1 Naruto: Shippuuden\n",
      "2 Fairy Tail\n",
      "3 Naruto\n",
      "4 Bleach\n",
      "5 Sword Art Online\n",
      "6 One Piece\n",
      "7 Highschool of the Dead\n",
      "8 IS: Infinite Stratos\n",
      "9 Ao no Exorcist\n",
      "10 Sword Art Online II\n",
      "11 Naruto the Movie 2: Legend of the Stone of Gelel\n",
      "12 Rosario to Vampire\n",
      "13 Dragon Ball GT\n",
      "14 Fairy Tail\n",
      "15 High School DxD\n",
      "16 Tokyo Ghoul\n",
      "17 Akame ga Kill!\n",
      "18 To LOVE-Ru\n",
      "19 Mirai Nikki\n",
      "20 Rosario to Vampire Capu2\n",
      "21 Vampire Knight\n",
      "22 Black Butler\n",
      "23 Kiss x Sis\n",
      "24 Guilty Crown\n",
      "25 The irregular at magic high school\n",
      "26 Zero no Tsukaima\n",
      "27 Zero no Tsukaima: Princesses no Rondo\n",
      "28 Naruto\n",
      "29 Tokyo Ghoul √A\n",
      "30 Dragon Ball Z Movie 11: Bio-Broly\n"
     ]
    }
   ],
   "source": [
    "DIM = 0\n",
    "NB = 30\n",
    "work_vectors = pca.VT\n",
    "top = work_vectors[DIM, :].argsort()[::-1][:NB]\n",
    "bottom = work_vectors[DIM, :].argsort()[:NB]\n",
    "print('Top')\n",
    "for r, work_id in enumerate(top, start=1):\n",
    "    print(r, titles[work_id], work_vectors[DIM, work_id])\n",
    "print('Bottom')\n",
    "for r, work_id in enumerate(bottom, start=1):\n",
    "    print(r, titles[work_id])"
   ]
  },
  {
   "cell_type": "code",
   "execution_count": 36,
   "metadata": {},
   "outputs": [
    {
     "name": "stdout",
     "output_type": "stream",
     "text": [
      "Die Hard: With a Vengeance (1995)\n",
      "Stargate (1994)\n",
      "True Lies (1994)\n",
      "Jurassic Park (1993)\n",
      "Inception (2010)\n",
      "Clear and Present Danger (1994)\n",
      "Batman (1989)\n",
      "Batman Forever (1995)\n",
      "Ace Ventura: Pet Detective (1994)\n",
      "Outbreak (1995)\n"
     ]
    }
   ],
   "source": [
    "params = [-2, -2, 2, 1, 2]\n",
    "for work_id in np.array(params).dot(work_vectors).argsort()[::-1][:10]:\n",
    "    print(titles[work_id])"
   ]
  },
  {
   "cell_type": "code",
   "execution_count": 44,
   "metadata": {},
   "outputs": [],
   "source": [
    "import json\n",
    "with open('data.json', 'w') as f:\n",
    "    f.write(json.dumps({'titles': titles, 'work_vectors': work_vectors.tolist()}))"
   ]
  },
  {
   "cell_type": "code",
   "execution_count": 22,
   "metadata": {},
   "outputs": [
    {
     "ename": "NameError",
     "evalue": "name 'i_test' is not defined",
     "output_type": "error",
     "traceback": [
      "\u001b[0;31m---------------------------------------------------------------------------\u001b[0m",
      "\u001b[0;31mNameError\u001b[0m                                 Traceback (most recent call last)",
      "\u001b[0;32m<ipython-input-22-525cf5779f95>\u001b[0m in \u001b[0;36m<module>\u001b[0;34m()\u001b[0m\n\u001b[0;32m----> 1\u001b[0;31m \u001b[0mprint\u001b[0m\u001b[0;34m(\u001b[0m\u001b[0mi_test\u001b[0m\u001b[0;34m[\u001b[0m\u001b[0;34m:\u001b[0m\u001b[0;36m10\u001b[0m\u001b[0;34m]\u001b[0m\u001b[0;34m)\u001b[0m\u001b[0;34m\u001b[0m\u001b[0m\n\u001b[0m\u001b[1;32m      2\u001b[0m \u001b[0;34m[\u001b[0m\u001b[0mlen\u001b[0m\u001b[0;34m(\u001b[0m\u001b[0mtruth\u001b[0m\u001b[0;34m[\u001b[0m\u001b[0muser_id\u001b[0m\u001b[0;34m]\u001b[0m\u001b[0;34m)\u001b[0m \u001b[0;32mfor\u001b[0m \u001b[0muser_id\u001b[0m \u001b[0;32min\u001b[0m \u001b[0mi_test\u001b[0m\u001b[0;34m[\u001b[0m\u001b[0;34m:\u001b[0m\u001b[0;36m10\u001b[0m\u001b[0;34m]\u001b[0m\u001b[0;34m]\u001b[0m\u001b[0;34m\u001b[0m\u001b[0m\n",
      "\u001b[0;31mNameError\u001b[0m: name 'i_test' is not defined"
     ]
    }
   ],
   "source": [
    "print(i_test[:10])\n",
    "[len(truth[user_id]) for user_id in i_test[:10]]"
   ]
  },
  {
   "cell_type": "code",
   "execution_count": 118,
   "metadata": {},
   "outputs": [],
   "source": [
    "NB_MOST_POPULAR = 100  # None for all\n",
    "work_subset = get_popular_subset(nb_ratings, NB_MOST_POPULAR)\n",
    "vectors = all_vectors[work_subset]\n",
    "# dpp = MangakiProxyDPP(model.M.T)\n",
    "dpp = MangakiProxyDPP(all_vectors)"
   ]
  },
  {
   "cell_type": "code",
   "execution_count": 119,
   "metadata": {
    "collapsed": true
   },
   "outputs": [],
   "source": [
    "def get_volume(vectors):\n",
    "    return np.linalg.det(vectors.dot(vectors.T))"
   ]
  },
  {
   "cell_type": "code",
   "execution_count": 120,
   "metadata": {},
   "outputs": [],
   "source": [
    "# Test DPP\n",
    "N = 10\n",
    "K = 3\n",
    "rated_works = np.array(list(range(N)))\n",
    "from itertools import combinations\n",
    "all_dets = []\n",
    "for u in combinations(rated_works, K):\n",
    "    all_dets.append(sorted(u))\n",
    "all_dets.sort(key=lambda u: get_volume(all_vectors[rated_works[list(u)]]), reverse=True)"
   ]
  },
  {
   "cell_type": "code",
   "execution_count": 121,
   "metadata": {},
   "outputs": [
    {
     "name": "stdout",
     "output_type": "stream",
     "text": [
      "vol 0.128860984392 rank 78\n",
      "vol 0.622569162464 rank 38\n"
     ]
    }
   ],
   "source": [
    "K = 3\n",
    "sampled_indices = sorted(sample_questions('random', rated_works, K, dpp))\n",
    "X = all_vectors[rated_works[sampled_indices]]\n",
    "vol = np.linalg.det(X.dot(X.T))\n",
    "print('vol', vol, 'rank', all_dets.index(sampled_indices))\n",
    "sampled_indices = sorted(sample_questions('dpp', rated_works, K, dpp))\n",
    "X = all_vectors[rated_works[sampled_indices]]\n",
    "vol = np.linalg.det(X.dot(X.T))\n",
    "print('vol', vol, 'rank', all_dets.index(sampled_indices))"
   ]
  },
  {
   "cell_type": "code",
   "execution_count": 122,
   "metadata": {},
   "outputs": [
    {
     "data": {
      "text/plain": [
       "24.578811367323731"
      ]
     },
     "execution_count": 122,
     "metadata": {},
     "output_type": "execute_result"
    }
   ],
   "source": [
    "np.linalg.norm(model.VT[5])"
   ]
  },
  {
   "cell_type": "code",
   "execution_count": 123,
   "metadata": {},
   "outputs": [
    {
     "name": "stdout",
     "output_type": "stream",
     "text": [
      "(20, 9066)\n",
      "(20, 1, 9066)\n"
     ]
    }
   ],
   "source": [
    "print(model.VT.shape)\n",
    "print(model.VT[:, None].shape)"
   ]
  },
  {
   "cell_type": "code",
   "execution_count": 124,
   "metadata": {
    "collapsed": true
   },
   "outputs": [],
   "source": [
    "class MangakiNewUser:\n",
    "    def __init__(self, model, my_user_id):\n",
    "        self.user_id = my_user_id\n",
    "        self.model = model\n",
    "        # clf = LinearRegression(fit_intercept=False)\n",
    "        # clf2 = LogisticRegression(fit_intercept=False)\n",
    "        \"\"\"if len(set(yl)) >= 2:\n",
    "            happened += 1\n",
    "            clf2 = LogisticRegression(fit_intercept=False)\n",
    "            # clf.fit(X, y)\n",
    "            clf2.fit(X, yl)\n",
    "            clf.coef_ = clf2.coef_\n",
    "            clf.intercept_ = 0.\"\"\"\n",
    "\n",
    "    def fit(self, work_ids, choices):\n",
    "        # r_bonus\n",
    "        # self.model = MangakiALS(NB_COMPONENTS)\n",
    "        # self.model.set_parameters(dataset.anonymized.nb_users, dataset.anonymized.nb_works)\n",
    "        # self.model.fit(dataset.anonymized.X[r_train + r_bonus], dataset.anonymized.y[r_train + r_bonus])\n",
    "        mean = np.mean(choices)\n",
    "        self.model.means[self.user_id] = mean\n",
    "        bonus_ratings = {user_id: {work_id: choice - mean for work_id, choice in zip(work_ids, choices)}}\n",
    "        self.model.fit_user(user_id, bonus_ratings)\n",
    "    \n",
    "    def predict(self, work_ids):\n",
    "        return self.model.predict(np.array([[self.user_id, work_id] for work_id in work_ids]))"
   ]
  },
  {
   "cell_type": "code",
   "execution_count": 125,
   "metadata": {
    "collapsed": true
   },
   "outputs": [],
   "source": [
    "def printv(*s):\n",
    "    if VERBOSE:\n",
    "        print(*s)"
   ]
  },
  {
   "cell_type": "code",
   "execution_count": 140,
   "metadata": {},
   "outputs": [],
   "source": [
    "user_id = i_test[0]\n",
    "rated_works = list(truth[user_id].keys())"
   ]
  },
  {
   "cell_type": "code",
   "execution_count": 153,
   "metadata": {
    "collapsed": true
   },
   "outputs": [],
   "source": [
    "COVERAGE_VALUES = [5, 10, 20, 50]\n",
    "VERBOSE = False"
   ]
  },
  {
   "cell_type": "code",
   "execution_count": 155,
   "metadata": {},
   "outputs": [
    {
     "name": "stdout",
     "output_type": "stream",
     "text": [
      "135 personnes à tester\n",
      "User 243 rated 76 works\n",
      "dpp 5 Q\n",
      "random 5 Q\n",
      "bgs 5 Q\n",
      "dpp 10 Q\n",
      "random 10 Q\n",
      "bgs 10 Q\n",
      "dpp 20 Q\n",
      "random 20 Q\n",
      "bgs 20 Q\n",
      "dpp 50 Q\n",
      "random 50 Q\n",
      "bgs 50 Q\n",
      "User 499 rated 44 works\n",
      "dpp 5 Q\n",
      "random 5 Q\n",
      "bgs 5 Q\n",
      "dpp 10 Q\n",
      "random 10 Q\n",
      "bgs 10 Q\n",
      "dpp 20 Q\n",
      "random 20 Q\n",
      "bgs 20 Q\n",
      "dpp 50 Q\n",
      "random 50 Q\n",
      "bgs 50 Q\n",
      "User 650 rated 82 works\n",
      "dpp 5 Q\n",
      "random 5 Q\n",
      "bgs 5 Q\n",
      "dpp 10 Q\n",
      "random 10 Q\n",
      "bgs 10 Q\n",
      "dpp 20 Q\n",
      "random 20 Q\n",
      "bgs 20 Q\n",
      "dpp 50 Q\n",
      "random 50 Q\n",
      "bgs 50 Q\n",
      "User 665 rated 145 works\n",
      "dpp 5 Q\n",
      "random 5 Q\n",
      "bgs 5 Q\n",
      "dpp 10 Q\n",
      "random 10 Q\n",
      "bgs 10 Q\n",
      "dpp 20 Q\n",
      "random 20 Q\n",
      "bgs 20 Q\n",
      "dpp 50 Q\n",
      "random 50 Q\n",
      "bgs 50 Q\n",
      "User 48 rated 199 works\n",
      "dpp 5 Q\n",
      "random 5 Q\n",
      "bgs 5 Q\n",
      "dpp 10 Q\n",
      "random 10 Q\n",
      "bgs 10 Q\n",
      "dpp 20 Q\n",
      "random 20 Q\n",
      "bgs 20 Q\n",
      "dpp 50 Q\n",
      "random 50 Q\n",
      "bgs 50 Q\n",
      "User 147 rated 154 works\n",
      "dpp 5 Q\n",
      "random 5 Q\n",
      "bgs 5 Q\n",
      "dpp 10 Q\n",
      "random 10 Q\n",
      "bgs 10 Q\n",
      "dpp 20 Q\n",
      "random 20 Q\n",
      "bgs 20 Q\n",
      "dpp 50 Q\n",
      "random 50 Q\n",
      "bgs 50 Q\n",
      "User 17 rated 119 works\n",
      "dpp 5 Q\n",
      "random 5 Q\n",
      "bgs 5 Q\n",
      "dpp 10 Q\n",
      "random 10 Q\n",
      "bgs 10 Q\n",
      "dpp 20 Q\n",
      "random 20 Q\n",
      "bgs 20 Q\n",
      "dpp 50 Q\n"
     ]
    },
    {
     "ename": "AssertionError",
     "evalue": "",
     "output_type": "error",
     "traceback": [
      "\u001b[0;31m---------------------------------------------------------------------------\u001b[0m",
      "\u001b[0;31mAssertionError\u001b[0m                            Traceback (most recent call last)",
      "\u001b[0;32m<ipython-input-155-b6935759a3d3>\u001b[0m in \u001b[0;36m<module>\u001b[0;34m()\u001b[0m\n\u001b[1;32m     27\u001b[0m             \u001b[0msampled_indices\u001b[0m \u001b[0;34m=\u001b[0m \u001b[0mlist\u001b[0m\u001b[0;34m(\u001b[0m\u001b[0mset\u001b[0m\u001b[0;34m(\u001b[0m\u001b[0msample_questions\u001b[0m\u001b[0;34m(\u001b[0m\u001b[0mMETHOD\u001b[0m\u001b[0;34m,\u001b[0m \u001b[0mrated_works\u001b[0m\u001b[0;34m,\u001b[0m \u001b[0mnb_questions\u001b[0m\u001b[0;34m,\u001b[0m \u001b[0mdpp\u001b[0m\u001b[0;34m)\u001b[0m\u001b[0;34m)\u001b[0m\u001b[0;34m)\u001b[0m\u001b[0;34m\u001b[0m\u001b[0m\n\u001b[1;32m     28\u001b[0m             \u001b[0;31m# assert len(set(sampled_indices)) == len(sampled_indices)\u001b[0m\u001b[0;34m\u001b[0m\u001b[0;34m\u001b[0m\u001b[0m\n\u001b[0;32m---> 29\u001b[0;31m             \u001b[0;32massert\u001b[0m \u001b[0mlen\u001b[0m\u001b[0;34m(\u001b[0m\u001b[0msampled_indices\u001b[0m\u001b[0;34m)\u001b[0m \u001b[0;34m==\u001b[0m \u001b[0mnb_questions\u001b[0m\u001b[0;34m\u001b[0m\u001b[0m\n\u001b[0m\u001b[1;32m     30\u001b[0m             \u001b[0masked_encoded_work_ids\u001b[0m \u001b[0;34m=\u001b[0m \u001b[0msorted\u001b[0m\u001b[0;34m(\u001b[0m\u001b[0mrated_works\u001b[0m\u001b[0;34m[\u001b[0m\u001b[0msampled_indices\u001b[0m\u001b[0;34m]\u001b[0m\u001b[0;34m)\u001b[0m\u001b[0;34m\u001b[0m\u001b[0m\n\u001b[1;32m     31\u001b[0m             \u001b[0mprintv\u001b[0m\u001b[0;34m(\u001b[0m\u001b[0;34m'work_ids'\u001b[0m\u001b[0;34m,\u001b[0m \u001b[0masked_encoded_work_ids\u001b[0m\u001b[0;34m[\u001b[0m\u001b[0;34m:\u001b[0m\u001b[0;36m5\u001b[0m\u001b[0;34m]\u001b[0m\u001b[0;34m)\u001b[0m\u001b[0;34m\u001b[0m\u001b[0m\n",
      "\u001b[0;31mAssertionError\u001b[0m: "
     ]
    }
   ],
   "source": [
    "values = defaultdict(lambda: defaultdict(lambda: defaultdict(list)))\n",
    "c = 0\n",
    "happened = 0\n",
    "print(len(i_test), 'personnes à tester')\n",
    "for user_id in i_test:\n",
    "    cold_start = MangakiNewUser(model, user_id)\n",
    "    # Know the truth\n",
    "    user_truth = truth[user_id]\n",
    "    rated_works = np.array(list(user_truth.keys()))\n",
    "    print('User', user_id, 'rated', len(rated_works), 'works')\n",
    "    encoded_work_ids, true_choices = zip(*user_truth.items())\n",
    "    encoded_work_ids = list(encoded_work_ids)\n",
    "    # Get minimal RMSE\n",
    "    cold_start.fit(encoded_work_ids, true_choices)\n",
    "    y_pred = cold_start.model.predict(np.array([[user_id, work_id] for work_id in encoded_work_ids]))\n",
    "    rmse = model.compute_rmse(y_pred, true_choices)\n",
    "    printv('Minimal RMSE', rmse)\n",
    "    true_user_vector = cold_start.model.U[user_id].copy()\n",
    "    \n",
    "    for coverage in COVERAGE_VALUES:\n",
    "        for METHOD in ['dpp', 'random', 'bgs']:\n",
    "            print(METHOD, coverage, 'Q')\n",
    "            c += 1\n",
    "                        \n",
    "            nb_questions = max(1, round(coverage * len(rated_works) / 100))\n",
    "            printv('questions', nb_questions)\n",
    "            sampled_indices = list(set(sample_questions(METHOD, rated_works, nb_questions, dpp)))\n",
    "            # assert len(set(sampled_indices)) == len(sampled_indices)\n",
    "            assert len(sampled_indices) == nb_questions\n",
    "            asked_encoded_work_ids = sorted(rated_works[sampled_indices])\n",
    "            printv('work_ids', asked_encoded_work_ids[:5])\n",
    "            printv('vol', METHOD, ':', get_volume(all_vectors[asked_encoded_work_ids]))\n",
    "            \"\"\"print(sampled_indices)\n",
    "            print(len(user_truth.keys()), 'vus')\"\"\"\n",
    "            X_vectors, y, y_binary, r_bonus = collect_answers(all_vectors, asked_encoded_work_ids, user_truth, user_id, inv_pos)\n",
    "            printv(len(y), 'answers', y[:5])\n",
    "            values['count'][METHOD][coverage].append(len(y))\n",
    "            if not y:\n",
    "                continue\n",
    "            values['std'][METHOD][coverage].append(np.std(y))\n",
    "            \n",
    "            cold_start.fit(asked_encoded_work_ids, y)\n",
    "\n",
    "            y_pred = cold_start.predict(encoded_work_ids)\n",
    "            # printv('pred', y_pred[:5])\n",
    "            # printv('true', true_choices[:5])\n",
    "            rmse = model.compute_rmse(y_pred, true_choices)\n",
    "            values['rmse'][METHOD][coverage].append(rmse)\n",
    "            printv('RMSE', rmse)\n",
    "            delta = np.linalg.norm(cold_start.model.U[user_id] - true_user_vector)\n",
    "            # printv('Delta', delta)\n",
    "            values['delta'][METHOD][coverage].append(delta)\n",
    "\n",
    "        \"\"\"for key in values:\n",
    "            print(key, np.mean(values[key][METHOD][coverage]))\"\"\"\n",
    "# print('happened', happened, 'on', c, 'tries')"
   ]
  },
  {
   "cell_type": "code",
   "execution_count": 247,
   "metadata": {},
   "outputs": [
    {
     "name": "stdout",
     "output_type": "stream",
     "text": [
      "user 582\n"
     ]
    },
    {
     "data": {
      "text/plain": [
       "1.5801469661664793"
      ]
     },
     "execution_count": 247,
     "metadata": {},
     "output_type": "execute_result"
    }
   ],
   "source": [
    "print('user', user_id)\n",
    "y_pred = model.predict(np.array([[user_id, work_id] for work_id in user_truth]))\n",
    "# y_pred.shape\n",
    "model.compute_rmse(y_pred, true_choices)\n",
    "# true_choices"
   ]
  },
  {
   "cell_type": "code",
   "execution_count": 149,
   "metadata": {},
   "outputs": [],
   "source": [
    "my_mean = np.mean(list(user_truth.values()))\n",
    "# cold_start.svd.means[user_id]"
   ]
  },
  {
   "cell_type": "code",
   "execution_count": 150,
   "metadata": {},
   "outputs": [
    {
     "data": {
      "text/plain": [
       "defaultdict(<function __main__.<lambda>>,\n",
       "            {'count': defaultdict(<function __main__.<lambda>.<locals>.<lambda>>,\n",
       "                         {'bgs': defaultdict(list, {3: [2]}),\n",
       "                          'dpp': defaultdict(list, {3: [2]}),\n",
       "                          'random': defaultdict(list, {3: [2]})}),\n",
       "             'delta': defaultdict(<function __main__.<lambda>.<locals>.<lambda>>,\n",
       "                         {'bgs': defaultdict(list, {3: [0.71896729476800236]}),\n",
       "                          'dpp': defaultdict(list, {3: [0.93763350059265815]}),\n",
       "                          'random': defaultdict(list,\n",
       "                                      {3: [0.67866758804836058]})}),\n",
       "             'rmse': defaultdict(<function __main__.<lambda>.<locals>.<lambda>>,\n",
       "                         {'bgs': defaultdict(list, {3: [1.202588355078178]}),\n",
       "                          'dpp': defaultdict(list, {3: [0.96046784564112542]}),\n",
       "                          'random': defaultdict(list,\n",
       "                                      {3: [1.0365414022709392]})}),\n",
       "             'std': defaultdict(<function __main__.<lambda>.<locals>.<lambda>>,\n",
       "                         {'bgs': defaultdict(list, {3: [0.25]}),\n",
       "                          'dpp': defaultdict(list, {3: [0.75]}),\n",
       "                          'random': defaultdict(list, {3: [0.0]})})})"
      ]
     },
     "execution_count": 150,
     "metadata": {},
     "output_type": "execute_result"
    }
   ],
   "source": [
    "values"
   ]
  },
  {
   "cell_type": "code",
   "execution_count": 166,
   "metadata": {},
   "outputs": [
    {
     "name": "stdout",
     "output_type": "stream",
     "text": [
      "[ 0.45849884  0.20295351  0.01060655 -0.14983525  0.15905869  0.03013105\n",
      "  0.0355368   0.03880883 -0.08395405  0.04118043]\n",
      "[ 0.32692894  0.1939145  -0.06209887 -0.03899118  0.11547404 -0.02862005\n",
      "  0.09405135 -0.00727508  0.03293423 -0.08476905]\n"
     ]
    }
   ],
   "source": [
    "print(model.U[user_id])\n",
    "model.means[user_id] = my_mean\n",
    "bonus = {user_id: {work_id: user_truth[work_id] - my_mean for work_id in user_truth}}\n",
    "model.fit_user(user_id, bonus)\n",
    "print(model.U[user_id])\n",
    "model.M = model.U.dot(model.VT)"
   ]
  },
  {
   "cell_type": "code",
   "execution_count": 208,
   "metadata": {},
   "outputs": [
    {
     "data": {
      "text/plain": [
       "0.78020599438048166"
      ]
     },
     "execution_count": 208,
     "metadata": {},
     "output_type": "execute_result"
    }
   ],
   "source": [
    "encoded_work_ids, true_choices = zip(*user_truth.items())\n",
    "cold_start.fit(encoded_work_ids, true_choices)\n",
    "y_pred = model.predict(np.array([[user_id, work_id] for work_id in encoded_work_ids]))\n",
    "model.compute_rmse(y_pred, true_choices)"
   ]
  },
  {
   "cell_type": "code",
   "execution_count": 106,
   "metadata": {},
   "outputs": [
    {
     "data": {
      "image/png": "[encoded data removed]",
      "text/plain": [
       "<matplotlib.figure.Figure at 0x11cea9518>"
      ]
     },
     "metadata": {},
     "output_type": "display_data"
    }
   ],
   "source": [
    "import matplotlib.pyplot as plt\n",
    "from math import sqrt\n",
    "size = {'dpp': 4, 'random': 2, 'popular': 1, 'bgs': 2}\n",
    "color = {'dpp': 'orange', 'random': 'blue', 'popular': 'red', 'bgs': 'red'}\n",
    "plt.figure(figsize=(12, 10))\n",
    "for i, key in enumerate(values, start=1):\n",
    "    plt.subplot(2, 2, i)\n",
    "    # plt.figure(key)\n",
    "    for method in values[key]:\n",
    "        plt.errorbar(x=COVERAGE_VALUES,\n",
    "                     y=[np.mean(values[key][method][cov]) for cov in COVERAGE_VALUES],\n",
    "                     yerr=[1.96 * np.std(values[key][method][cov]) / sqrt(len(values[key][method][cov])) for cov in COVERAGE_VALUES],\n",
    "                     linewidth=size[method], fmt='o', color=color[method])\n",
    "    plt.ylabel(key)\n",
    "    plt.title(key)\n",
    "plt.show()"
   ]
  },
  {
   "cell_type": "code",
   "execution_count": 40,
   "metadata": {},
   "outputs": [
    {
     "name": "stdout",
     "output_type": "stream",
     "text": [
      "nan\n",
      "nan\n"
     ]
    },
    {
     "name": "stderr",
     "output_type": "stream",
     "text": [
      "/Users/jin/Sites/mangaki/venv/lib/python3.6/site-packages/numpy/core/fromnumeric.py:2889: RuntimeWarning: Mean of empty slice.\n",
      "  out=out, **kwargs)\n",
      "/Users/jin/Sites/mangaki/venv/lib/python3.6/site-packages/numpy/core/_methods.py:80: RuntimeWarning: invalid value encountered in double_scalars\n",
      "  ret = ret.dtype.type(ret / rcount)\n"
     ]
    }
   ],
   "source": [
    "print(np.mean(values['rmse']['dpp'][50]))\n",
    "print(np.mean(values['rmse']['random'][50]))"
   ]
  },
  {
   "cell_type": "code",
   "execution_count": 41,
   "metadata": {},
   "outputs": [
    {
     "data": {
      "text/plain": [
       "defaultdict(<function __main__.<lambda>>,\n",
       "            {'count': defaultdict(<function __main__.<lambda>.<locals>.<lambda>>,\n",
       "                         {'bgs': defaultdict(list, {3: [112]}),\n",
       "                          'dpp': defaultdict(list, {3: [3]}),\n",
       "                          'random': defaultdict(list, {3: [3]})}),\n",
       "             'delta': defaultdict(<function __main__.<lambda>.<locals>.<lambda>>,\n",
       "                         {'bgs': defaultdict(list,\n",
       "                                      {3: [0.095958386172840263]}),\n",
       "                          'dpp': defaultdict(list, {3: [0.97624766038318223]}),\n",
       "                          'random': defaultdict(list,\n",
       "                                      {3: [1.1667808721583457]})}),\n",
       "             'rmse': defaultdict(<function __main__.<lambda>.<locals>.<lambda>>,\n",
       "                         {'bgs': defaultdict(list, {3: [1.410436509522774]}),\n",
       "                          'dpp': defaultdict(list,\n",
       "                                      {3: [1.5413183909608457], 50: []}),\n",
       "                          'random': defaultdict(list,\n",
       "                                      {3: [1.577157774139603], 50: []})}),\n",
       "             'std': defaultdict(<function __main__.<lambda>.<locals>.<lambda>>,\n",
       "                         {'bgs': defaultdict(list, {3: [1.1127704756047183]}),\n",
       "                          'dpp': defaultdict(list, {3: [0.70710678118654757]}),\n",
       "                          'random': defaultdict(list,\n",
       "                                      {3: [1.6499158227686106]})})})"
      ]
     },
     "execution_count": 41,
     "metadata": {},
     "output_type": "execute_result"
    }
   ],
   "source": [
    "values"
   ]
  },
  {
   "cell_type": "code",
   "execution_count": 90,
   "metadata": {},
   "outputs": [
    {
     "data": {
      "text/plain": [
       "378"
      ]
     },
     "execution_count": 90,
     "metadata": {},
     "output_type": "execute_result"
    }
   ],
   "source": [
    "my_user_id = i_test[5]\n",
    "user_truth = truth[my_user_id]\n",
    "len(user_truth)"
   ]
  },
  {
   "cell_type": "code",
   "execution_count": 30,
   "metadata": {},
   "outputs": [],
   "source": [
    "cheat = MangakiSVD(NB_COMPONENTS)\n",
    "cheat.set_parameters(dataset.anonymized.nb_users, dataset.anonymized.nb_works)\n",
    "cheat.fit(dataset.anonymized.X, dataset.anonymized.y)"
   ]
  },
  {
   "cell_type": "code",
   "execution_count": 36,
   "metadata": {},
   "outputs": [
    {
     "name": "stdout",
     "output_type": "stream",
     "text": [
      "82 works rated\n"
     ]
    }
   ],
   "source": [
    "user_id = my_user_id\n",
    "user_truth = truth[user_id]\n",
    "print(len(user_truth), 'works rated')\n",
    "encoded_work_ids, true_choices = zip(*user_truth.items())\n",
    "encoded_work_ids = list(encoded_work_ids)\n",
    "y_pred = cheat.predict(np.array([[user_id, work_id] for work_id in encoded_work_ids]))"
   ]
  },
  {
   "cell_type": "code",
   "execution_count": 37,
   "metadata": {},
   "outputs": [
    {
     "data": {
      "text/plain": [
       "0.63301128407480212"
      ]
     },
     "execution_count": 37,
     "metadata": {},
     "output_type": "execute_result"
    }
   ],
   "source": [
    "cheat.compute_rmse(y_pred, true_choices)"
   ]
  },
  {
   "cell_type": "code",
   "execution_count": 38,
   "metadata": {},
   "outputs": [
    {
     "name": "stdout",
     "output_type": "stream",
     "text": [
      "[ 4.01940583  3.75381313  3.83171     4.04327339  4.19463093]\n",
      "(3.5, 3.0, 3.0, 4.0, 4.5)\n"
     ]
    }
   ],
   "source": [
    "print(y_pred[:5])\n",
    "print(true_choices[:5])"
   ]
  },
  {
   "cell_type": "code",
   "execution_count": 33,
   "metadata": {},
   "outputs": [
    {
     "data": {
      "text/plain": [
       "3.9911653488413967"
      ]
     },
     "execution_count": 33,
     "metadata": {},
     "output_type": "execute_result"
    }
   ],
   "source": [
    "y_pred = model.predict(np.array([[user_id, work_id] for work_id in encoded_work_ids]))\n",
    "model.compute_rmse(y_pred, true_choices)"
   ]
  },
  {
   "cell_type": "code",
   "execution_count": 34,
   "metadata": {},
   "outputs": [
    {
     "name": "stdout",
     "output_type": "stream",
     "text": [
      "[ 0.14470261 -0.41395963  0.48651871 -0.31400844 -0.44509364]\n",
      "(3.5, 3.0, 3.0, 4.0, 4.5)\n"
     ]
    }
   ],
   "source": [
    "print(y_pred[:5])\n",
    "print(true_choices[:5])"
   ]
  },
  {
   "cell_type": "code",
   "execution_count": 42,
   "metadata": {},
   "outputs": [
    {
     "name": "stdout",
     "output_type": "stream",
     "text": [
      "[ 0.96141088  4.69114602  0.18369855  3.11130014  5.41268555]\n",
      "(5.0, 4.0, 3.5, 5.0, 3.0)\n"
     ]
    },
    {
     "data": {
      "text/plain": [
       "4.9046470284311035"
      ]
     },
     "execution_count": 42,
     "metadata": {},
     "output_type": "execute_result"
    }
   ],
   "source": [
    "y_pred = clf.predict(all_vectors[encoded_work_ids])\n",
    "print(y_pred[:5])\n",
    "print(true_choices[:5])\n",
    "model.compute_rmse(y_pred, true_choices)"
   ]
  },
  {
   "cell_type": "code",
   "execution_count": 74,
   "metadata": {},
   "outputs": [
    {
     "name": "stderr",
     "output_type": "stream",
     "text": [
      "/Users/jin/Sites/mangaki/mangaki/mangaki/utils/svd.py:41: RuntimeWarning: invalid value encountered in double_scalars\n",
      "  means[i] = np.sum(matrix[i]) / np.sum(matrix[i] != 0)\n"
     ]
    }
   ],
   "source": [
    "r_bonus = []\n",
    "for r, (user_id, work_id) in enumerate(dataset.anonymized.X):\n",
    "    if user_id == my_user_id:\n",
    "        r_bonus.append(r)\n",
    "\n",
    "big = MangakiSVD(NB_COMPONENTS)\n",
    "big.set_parameters(dataset.anonymized.nb_users, dataset.anonymized.nb_works)\n",
    "big.fit(dataset.anonymized.X[r_train + r_bonus], dataset.anonymized.y[r_train + r_bonus])"
   ]
  },
  {
   "cell_type": "code",
   "execution_count": 76,
   "metadata": {},
   "outputs": [
    {
     "name": "stdout",
     "output_type": "stream",
     "text": [
      "[ 3.89258514  3.9176222   3.91470092  3.98430355  3.89990882  3.98331349\n",
      "  4.01747955  4.06884564  3.97676186  3.79887259  3.81377788  3.93377835\n",
      "  3.89652672  3.88009859  3.79983996]\n",
      "(3.0, 4.0, 4.0, 4.0, 4.0, 4.0, 5.0, 5.0, 4.0, 3.0, 2.0, 3.0, 4.0, 1.0, 3.0)\n"
     ]
    },
    {
     "data": {
      "text/plain": [
       "0.83551021742139298"
      ]
     },
     "execution_count": 76,
     "metadata": {},
     "output_type": "execute_result"
    }
   ],
   "source": [
    "y_pred = big.predict(np.array([[user_id, work_id] for work_id in encoded_work_ids]))\n",
    "print(y_pred[:15])\n",
    "print(true_choices[:15])\n",
    "big.compute_rmse(y_pred, true_choices)"
   ]
  },
  {
   "cell_type": "code",
   "execution_count": 39,
   "metadata": {},
   "outputs": [
    {
     "ename": "ImportError",
     "evalue": "cannot import name 'MangakiKNN'",
     "output_type": "error",
     "traceback": [
      "\u001b[0;31m---------------------------------------------------------------------------\u001b[0m",
      "\u001b[0;31mImportError\u001b[0m                               Traceback (most recent call last)",
      "\u001b[0;32m<ipython-input-39-f4c49e240d7e>\u001b[0m in \u001b[0;36m<module>\u001b[0;34m()\u001b[0m\n\u001b[0;32m----> 1\u001b[0;31m \u001b[0;32mfrom\u001b[0m \u001b[0mmangaki\u001b[0m\u001b[0;34m.\u001b[0m\u001b[0mutils\u001b[0m \u001b[0;32mimport\u001b[0m \u001b[0mMangakiKNN\u001b[0m\u001b[0;34m\u001b[0m\u001b[0m\n\u001b[0m\u001b[1;32m      2\u001b[0m \u001b[0;34m\u001b[0m\u001b[0m\n\u001b[1;32m      3\u001b[0m \u001b[0mknn\u001b[0m \u001b[0;34m=\u001b[0m \u001b[0mMangakiKNN\u001b[0m\u001b[0;34m(\u001b[0m\u001b[0;36m5\u001b[0m\u001b[0;34m)\u001b[0m\u001b[0;34m\u001b[0m\u001b[0m\n\u001b[1;32m      4\u001b[0m \u001b[0mknn\u001b[0m\u001b[0;34m.\u001b[0m\u001b[0mfit\u001b[0m\u001b[0;34m(\u001b[0m\u001b[0msvd\u001b[0m\u001b[0;34m.\u001b[0m\u001b[0mVT\u001b[0m\u001b[0;34m)\u001b[0m\u001b[0;34m\u001b[0m\u001b[0m\n\u001b[1;32m      5\u001b[0m \u001b[0mknn\u001b[0m\u001b[0;34m.\u001b[0m\u001b[0mpredict\u001b[0m\u001b[0;34m(\u001b[0m\u001b[0;34m)\u001b[0m\u001b[0;34m\u001b[0m\u001b[0m\n",
      "\u001b[0;31mImportError\u001b[0m: cannot import name 'MangakiKNN'"
     ]
    }
   ],
   "source": [
    "from mangaki.utils.knn import MangakiKNN\n",
    "\n",
    "knn = MangakiKNN(5)\n",
    "knn.fit(svd.VT.T)\n",
    "knn.get_neighbors()"
   ]
  },
  {
   "cell_type": "code",
   "execution_count": 42,
   "metadata": {},
   "outputs": [
    {
     "ename": "AttributeError",
     "evalue": "'dict_keys' object has no attribute 'index'",
     "output_type": "error",
     "traceback": [
      "\u001b[0;31m---------------------------------------------------------------------------\u001b[0m",
      "\u001b[0;31mAttributeError\u001b[0m                            Traceback (most recent call last)",
      "\u001b[0;32m<ipython-input-42-a5e4403cb9fd>\u001b[0m in \u001b[0;36m<module>\u001b[0;34m()\u001b[0m\n\u001b[0;32m----> 1\u001b[0;31m \u001b[0mtitles\u001b[0m\u001b[0;34m.\u001b[0m\u001b[0mkeys\u001b[0m\u001b[0;34m(\u001b[0m\u001b[0;34m)\u001b[0m\u001b[0;34m.\u001b[0m\u001b[0mindex\u001b[0m\u001b[0;34m(\u001b[0m\u001b[0;34m'Death Note'\u001b[0m\u001b[0;34m)\u001b[0m\u001b[0;34m\u001b[0m\u001b[0m\n\u001b[0m",
      "\u001b[0;31mAttributeError\u001b[0m: 'dict_keys' object has no attribute 'index'"
     ]
    }
   ],
   "source": [
    "titles.keys().index('Death Note')"
   ]
  },
  {
   "cell_type": "code",
   "execution_count": null,
   "metadata": {
    "collapsed": true
   },
   "outputs": [],
   "source": []
  }
 ],
 "metadata": {
  "kernelspec": {
   "display_name": "Django Shell-Plus",
   "language": "python",
   "name": "django_extensions"
  },
  "language_info": {
   "codemirror_mode": {
    "name": "ipython",
    "version": 3
   },
   "file_extension": ".py",
   "mimetype": "text/x-python",
   "name": "python",
   "nbconvert_exporter": "python",
   "pygments_lexer": "ipython3",
   "version": "3.6.1"
  }
 },
 "nbformat": 4,
 "nbformat_minor": 2
}
