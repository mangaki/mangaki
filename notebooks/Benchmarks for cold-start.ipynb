{
 "cells": [
  {
   "cell_type": "markdown",
   "metadata": {},
   "source": [
    "# Benchmarks for cold-start"
   ]
  },
  {
   "cell_type": "markdown",
   "metadata": {},
   "source": [
    "The idea is to compare DPP / random / mosaïque for the selection of the first items to rate for a newcomer."
   ]
  },
  {
   "cell_type": "markdown",
   "metadata": {},
   "source": [
    "## Preliminaries: DPP sampling"
   ]
  },
  {
   "cell_type": "markdown",
   "metadata": {},
   "source": [
    "Load vectors from the saved SVD"
   ]
  },
  {
   "cell_type": "code",
   "execution_count": 1,
   "metadata": {
    "collapsed": true
   },
   "outputs": [],
   "source": [
    "from mangaki.utils.data import Dataset\n",
    "dataset = Dataset()"
   ]
  },
  {
   "cell_type": "code",
   "execution_count": 2,
   "metadata": {
    "collapsed": false
   },
   "outputs": [
    {
     "ename": "FileNotFoundError",
     "evalue": "[Errno 2] No such file or directory: '/Users/jin/Sites/mangaki/mangaki/../pickles/svd-10.pickle'",
     "output_type": "error",
     "traceback": [
      "\u001b[0;31m---------------------------------------------------------------------------\u001b[0m",
      "\u001b[0;31mFileNotFoundError\u001b[0m                         Traceback (most recent call last)",
      "\u001b[0;32m<ipython-input-2-d04830f465fb>\u001b[0m in \u001b[0;36m<module>\u001b[0;34m()\u001b[0m\n\u001b[1;32m      1\u001b[0m \u001b[0;32mfrom\u001b[0m \u001b[0mmangaki\u001b[0m\u001b[0;34m.\u001b[0m\u001b[0mutils\u001b[0m\u001b[0;34m.\u001b[0m\u001b[0msvd\u001b[0m \u001b[0;32mimport\u001b[0m \u001b[0mMangakiSVD\u001b[0m\u001b[0;34m\u001b[0m\u001b[0m\n\u001b[1;32m      2\u001b[0m \u001b[0malgo\u001b[0m \u001b[0;34m=\u001b[0m \u001b[0mMangakiSVD\u001b[0m\u001b[0;34m(\u001b[0m\u001b[0;34m)\u001b[0m\u001b[0;34m\u001b[0m\u001b[0m\n\u001b[0;32m----> 3\u001b[0;31m \u001b[0malgo\u001b[0m\u001b[0;34m.\u001b[0m\u001b[0mload\u001b[0m\u001b[0;34m(\u001b[0m\u001b[0malgo\u001b[0m\u001b[0;34m.\u001b[0m\u001b[0mget_backup_filename\u001b[0m\u001b[0;34m(\u001b[0m\u001b[0;34m)\u001b[0m\u001b[0;34m)\u001b[0m  \u001b[0;31m# Trained on everything\u001b[0m\u001b[0;34m\u001b[0m\u001b[0m\n\u001b[0m\u001b[1;32m      4\u001b[0m \u001b[0mdataset\u001b[0m\u001b[0;34m.\u001b[0m\u001b[0mload\u001b[0m\u001b[0;34m(\u001b[0m\u001b[0;34m'ratings-'\u001b[0m \u001b[0;34m+\u001b[0m \u001b[0malgo\u001b[0m\u001b[0;34m.\u001b[0m\u001b[0mget_backup_filename\u001b[0m\u001b[0;34m(\u001b[0m\u001b[0;34m)\u001b[0m\u001b[0;34m)\u001b[0m\u001b[0;34m\u001b[0m\u001b[0m\n",
      "\u001b[0;32m/Users/jin/Sites/mangaki/mangaki/mangaki/utils/svd.py\u001b[0m in \u001b[0;36mload\u001b[0;34m(self, filename)\u001b[0m\n\u001b[1;32m     23\u001b[0m \u001b[0;34m\u001b[0m\u001b[0m\n\u001b[1;32m     24\u001b[0m     \u001b[0;32mdef\u001b[0m \u001b[0mload\u001b[0m\u001b[0;34m(\u001b[0m\u001b[0mself\u001b[0m\u001b[0;34m,\u001b[0m \u001b[0mfilename\u001b[0m\u001b[0;34m)\u001b[0m\u001b[0;34m:\u001b[0m\u001b[0;34m\u001b[0m\u001b[0m\n\u001b[0;32m---> 25\u001b[0;31m         \u001b[0mbackup\u001b[0m \u001b[0;34m=\u001b[0m \u001b[0msuper\u001b[0m\u001b[0;34m(\u001b[0m\u001b[0;34m)\u001b[0m\u001b[0;34m.\u001b[0m\u001b[0mload\u001b[0m\u001b[0;34m(\u001b[0m\u001b[0mfilename\u001b[0m\u001b[0;34m)\u001b[0m\u001b[0;34m\u001b[0m\u001b[0m\n\u001b[0m\u001b[1;32m     26\u001b[0m         \u001b[0mself\u001b[0m\u001b[0;34m.\u001b[0m\u001b[0mM\u001b[0m \u001b[0;34m=\u001b[0m \u001b[0mbackup\u001b[0m\u001b[0;34m.\u001b[0m\u001b[0mM\u001b[0m\u001b[0;34m\u001b[0m\u001b[0m\n\u001b[1;32m     27\u001b[0m         \u001b[0mself\u001b[0m\u001b[0;34m.\u001b[0m\u001b[0mU\u001b[0m \u001b[0;34m=\u001b[0m \u001b[0mbackup\u001b[0m\u001b[0;34m.\u001b[0m\u001b[0mU\u001b[0m\u001b[0;34m\u001b[0m\u001b[0m\n",
      "\u001b[0;32m/Users/jin/Sites/mangaki/mangaki/mangaki/utils/common.py\u001b[0m in \u001b[0;36mload\u001b[0;34m(self, filename)\u001b[0m\n\u001b[1;32m     32\u001b[0m \u001b[0;34m\u001b[0m\u001b[0m\n\u001b[1;32m     33\u001b[0m     \u001b[0;32mdef\u001b[0m \u001b[0mload\u001b[0m\u001b[0;34m(\u001b[0m\u001b[0mself\u001b[0m\u001b[0;34m,\u001b[0m \u001b[0mfilename\u001b[0m\u001b[0;34m)\u001b[0m\u001b[0;34m:\u001b[0m\u001b[0;34m\u001b[0m\u001b[0m\n\u001b[0;32m---> 34\u001b[0;31m         \u001b[0;32mwith\u001b[0m \u001b[0mopen\u001b[0m\u001b[0;34m(\u001b[0m\u001b[0mself\u001b[0m\u001b[0;34m.\u001b[0m\u001b[0mget_backup_path\u001b[0m\u001b[0;34m(\u001b[0m\u001b[0mfilename\u001b[0m\u001b[0;34m)\u001b[0m\u001b[0;34m,\u001b[0m \u001b[0;34m'rb'\u001b[0m\u001b[0;34m)\u001b[0m \u001b[0;32mas\u001b[0m \u001b[0mf\u001b[0m\u001b[0;34m:\u001b[0m\u001b[0;34m\u001b[0m\u001b[0m\n\u001b[0m\u001b[1;32m     35\u001b[0m             \u001b[0mbackup\u001b[0m \u001b[0;34m=\u001b[0m \u001b[0mpickle\u001b[0m\u001b[0;34m.\u001b[0m\u001b[0mload\u001b[0m\u001b[0;34m(\u001b[0m\u001b[0mf\u001b[0m\u001b[0;34m)\u001b[0m\u001b[0;34m\u001b[0m\u001b[0m\n\u001b[1;32m     36\u001b[0m         \u001b[0;32mreturn\u001b[0m \u001b[0mbackup\u001b[0m\u001b[0;34m\u001b[0m\u001b[0m\n",
      "\u001b[0;31mFileNotFoundError\u001b[0m: [Errno 2] No such file or directory: '/Users/jin/Sites/mangaki/mangaki/../pickles/svd-10.pickle'"
     ]
    }
   ],
   "source": [
    "from mangaki.utils.svd import MangakiSVD\n",
    "algo = MangakiSVD()\n",
    "algo.load(algo.get_backup_filename())  # Trained on everything\n",
    "dataset.load('ratings-' + algo.get_backup_filename())"
   ]
  },
  {
   "cell_type": "code",
   "execution_count": null,
   "metadata": {
    "collapsed": true
   },
   "outputs": [],
   "source": []
  },
  {
   "cell_type": "code",
   "execution_count": 4,
   "metadata": {
    "collapsed": false
   },
   "outputs": [],
   "source": [
    "import numpy as np\n",
    "rated_by_jj = np.array(User.objects.get(id=1).rating_set.values_list('work', 'work__title', 'choice'), dtype=[('work_id', 'i2'), ('work_title', 'U128'), ('choice', 'S8')])"
   ]
  },
  {
   "cell_type": "code",
   "execution_count": 5,
   "metadata": {
    "collapsed": false
   },
   "outputs": [],
   "source": [
    "rated_works = rated_by_jj['work_id']\n",
    "encoded_work_ids = dataset.encode_works(rated_works)"
   ]
  },
  {
   "cell_type": "code",
   "execution_count": 6,
   "metadata": {
    "collapsed": false
   },
   "outputs": [],
   "source": [
    "vectors = algo.VT.T[encoded_work_ids]\n",
    "L = vectors.dot(vectors.T)"
   ]
  },
  {
   "cell_type": "code",
   "execution_count": 7,
   "metadata": {
    "collapsed": false
   },
   "outputs": [],
   "source": [
    "D, V = np.linalg.eig(L.T)\n",
    "D = np.real(D)\n",
    "V = np.real(V)"
   ]
  },
  {
   "cell_type": "markdown",
   "metadata": {},
   "source": [
    "If we want to summarize JJ's profile, which ratings should we keep?"
   ]
  },
  {
   "cell_type": "code",
   "execution_count": 8,
   "metadata": {
    "collapsed": false
   },
   "outputs": [
    {
     "name": "stdout",
     "output_type": "stream",
     "text": [
      "[(  34, 'K-On!', b'wontsee') (   9, 'Elfen Lied', b'willsee')\n",
      " ( 150, 'Danshi Koukousei no Nichijou', b'willsee')\n",
      " (1973, 'Fate/stay night: Unlimited Blade Works (TV) - Prologue', b'willsee')\n",
      " (1563, 'Ponyo sur la falaise', b'like')]\n"
     ]
    }
   ],
   "source": [
    "from mangaki.utils import dpplib\n",
    "sampled_indices = list(map(int, dpplib.sample_k(5, D, V)))\n",
    "print(rated_by_jj[sampled_indices])\n",
    "dpp_works = rated_works[sampled_indices]\n",
    "\n",
    "def get_dpp_works(k):\n",
    "    sampled_indices = list(map(int, dpplib.sample_k(k, D, V)))\n",
    "    # print(rated_by_jj[sampled_indices])\n",
    "    return rated_works[sampled_indices]\n",
    "\n",
    "import random\n",
    "def get_random_works(k):\n",
    "    return np.array(random.sample(list(rated_works), k))"
   ]
  },
  {
   "cell_type": "markdown",
   "metadata": {},
   "source": [
    "## Simulation"
   ]
  },
  {
   "cell_type": "code",
   "execution_count": 17,
   "metadata": {
    "collapsed": false
   },
   "outputs": [
    {
     "name": "stdout",
     "output_type": "stream",
     "text": [
      "536 ratings for JJ\n"
     ]
    }
   ],
   "source": [
    "print(Rating.objects.filter(user_id=1).count(), 'ratings for JJ')\n",
    "ds = Dataset()\n",
    "anonymized = ds.make_anonymous_data(Rating.objects.all())"
   ]
  },
  {
   "cell_type": "code",
   "execution_count": 18,
   "metadata": {
    "collapsed": false
   },
   "outputs": [],
   "source": [
    "def select_works_to_rate():\n",
    "    if METHOD == 'dpp':\n",
    "        kept_works = get_dpp_works(NB_WORKS)\n",
    "    else:\n",
    "        kept_works = get_random_works(NB_WORKS)\n",
    "    return kept_works"
   ]
  },
  {
   "cell_type": "code",
   "execution_count": 19,
   "metadata": {
    "collapsed": false
   },
   "outputs": [],
   "source": [
    "def split_train_test(kept_works):\n",
    "    i_train = []\n",
    "    i_test = []\n",
    "    my_encoded_user_id = ds.encode_user[1]\n",
    "    encoded_kept_works = set(ds.encode_works(kept_works))\n",
    "    for i, (encoded_user_id, encoded_work_id) in enumerate(anonymized.X):\n",
    "        if encoded_user_id == my_encoded_user_id and encoded_work_id not in encoded_kept_works:\n",
    "            i_test.append(i)\n",
    "        else:\n",
    "            i_train.append(i)\n",
    "    return i_train, i_test"
   ]
  },
  {
   "cell_type": "code",
   "execution_count": 34,
   "metadata": {
    "collapsed": false
   },
   "outputs": [],
   "source": [
    "from mangaki.utils.knn import MangakiKNN\n",
    "from sklearn.metrics import mean_squared_error\n",
    "def compute_error(i_train, i_test):\n",
    "    knn = MangakiKNN(40)\n",
    "    knn.set_parameters(anonymized.nb_users, anonymized.nb_works)\n",
    "    knn.fit(anonymized.X[i_train], anonymized.y[i_train])\n",
    "    my_encoded_user_id = ds.encode_user[1]\n",
    "    neighbors = knn.get_neighbors([my_encoded_user_id])[0]\n",
    "    # print([User.objects.get(id=user_id) for user_id in ds.decode_users(neighbors)])\n",
    "    y_pred = knn.predict(anonymized.X[i_test])\n",
    "    print('predicted:', y_pred[:5])\n",
    "    print('was:', anonymized.y[i_test][:5])\n",
    "    rmse = mean_squared_error(anonymized.y[i_test], y_pred) ** 0.5\n",
    "    print('rmse:', rmse)\n",
    "    top_pred_indices = y_pred.argsort()[-20:]\n",
    "    # top_pred_indices = anonymized.y[i_test].argsort()[-20:]\n",
    "    print('predicted:', y_pred[top_pred_indices])\n",
    "    print('was:', anonymized.y[i_test][top_pred_indices])\n",
    "    rmse = mean_squared_error(anonymized.y[i_test][top_pred_indices], y_pred[top_pred_indices]) ** 0.5\n",
    "    print('rmse:', rmse)\n",
    "    for work_id in [ds.decode_work[encoded_work_id] for _, encoded_work_id in anonymized.X[i_test][top_pred_indices]]:\n",
    "        print(Work.objects.get(id=work_id).title)\n",
    "    # print('full predict')\n",
    "    # knn.predict(np.array([(1522, ds.encode_work[13811])]), True)\n",
    "    return rmse"
   ]
  },
  {
   "cell_type": "code",
   "execution_count": 41,
   "metadata": {
    "collapsed": true
   },
   "outputs": [],
   "source": [
    "def run_simulation():\n",
    "    kept_works = select_works_to_rate()\n",
    "    i_train, i_test = split_train_test(kept_works)\n",
    "    print('train size', len(i_train))\n",
    "    print('test size', len(i_test))\n",
    "    rmse = compute_error(i_train, i_test)\n",
    "    print(NB_WORKS, METHOD, rmse)"
   ]
  },
  {
   "cell_type": "markdown",
   "metadata": {},
   "source": [
    "## Results (number of works asked, strategy, RMSE)\n",
    "\n",
    "- 10 DPP 1.09488816919 1.1020390692\n",
    "- 20 DPP 1.0957652159900086\n",
    "- 50 DPP 1.06436560838\n",
    "- 100 DPP 1.0724727205\n",
    "- 500 DPP 1.27818830679 0.848657862475 (possibly overfitting)\n",
    "\n",
    "- 10 RND 1.09689215268 1.08273857127\n",
    "- 20 RND 1.11930399192\n",
    "- 50 RND 1.06455730002\n",
    "- 100 RND 1.06357987938\n",
    "- 500 RND 0.825381153284 0.754057572138"
   ]
  },
  {
   "cell_type": "code",
   "execution_count": 42,
   "metadata": {
    "collapsed": true
   },
   "outputs": [],
   "source": [
    "NB_WORKS = 10\n",
    "METHOD = 'dpp'"
   ]
  },
  {
   "cell_type": "code",
   "execution_count": 43,
   "metadata": {
    "collapsed": false
   },
   "outputs": [
    {
     "name": "stdout",
     "output_type": "stream",
     "text": [
      "train size 317355\n",
      "test size 526\n",
      "[array([ 855,  279, 1050,  873, 1155, 1799,  103,  893, 1892,  745, 1761,\n",
      "       1235,  101, 1239,  406, 1567,  634, 1441,  438, 1244, 1134, 1664,\n",
      "        610,  169,  912, 1222,  129, 1687,  159,  407,  758,  593,  962,\n",
      "        551, 1323,  785,  570, 1485, 1814, 1401])]\n",
      "predicted: [ 0.  0.  0.  0.  0.]\n",
      "was: [-0.5 -0.5 -0.5  0.5  0.5]\n",
      "rmse: 1.23206181617\n",
      "predicted: [ 1.14453807  1.14509658  1.15560294  1.16562679  1.20279494  1.22436833\n",
      "  1.22739906  1.26143443  1.26331597  1.2685274   1.31005521  1.31468137\n",
      "  1.39853659  1.42103941  1.43096924  1.6688064   1.68547088  1.70220729\n",
      "  1.72033654  1.72612439]\n",
      "was: [ 0.5  2.   2.  -0.5  4.   0.5  4.   2.   2.   2.   2.   0.5  0.1  4.   2.\n",
      "  0.5  0.5  2.   4.   2. ]\n",
      "rmse: 1.41820288426\n",
      "Angel Beats!\n",
      "Mahou Shoujo Madoka★Magica\n",
      "Toki wo Kakeru Shoujo\n",
      "Kill la Kill\n",
      "Suzumiya Haruhi no Yuuutsu\n",
      "Fullmetal Alchemist\n",
      "Les Enfants Loups : Ame & Yuki\n",
      "Code Geass: Hangyaku no Lelouch R2\n",
      "Durarara!!\n",
      "Nausicaä of the Valley of the Wind\n",
      "Le Château dans le ciel\n",
      "Psycho-Pass\n",
      "Mon voisin Totoro\n",
      "No Game No Life\n",
      "Le Château ambulant\n",
      "FullMetal Alchemist\n",
      "Fullmetal Alchemist: Brotherhood\n",
      "Death Note\n",
      "Princesse Mononoké\n",
      "L'Attaque des Titans\n",
      "10 dpp 1.41820288426\n"
     ]
    }
   ],
   "source": [
    "run_simulation()"
   ]
  },
  {
   "cell_type": "markdown",
   "metadata": {},
   "source": [
    "Still needs to be done:\n",
    "- run simulation on several users (how many works should be kept?)\n",
    "- try a different number of neighbors\n",
    "- should we evaluate the strategy on the whole profile or just the top recommendations?\n",
    "- try other models than MangakiKNN (but others are slow)"
   ]
  },
  {
   "cell_type": "markdown",
   "metadata": {},
   "source": [
    "## SVD"
   ]
  },
  {
   "cell_type": "code",
   "execution_count": 14,
   "metadata": {
    "collapsed": false
   },
   "outputs": [],
   "source": [
    "encoded_user_id = dataset.encode_work[1]\n",
    "X_test = np.array([(encoded_user_id, dataset.encode_work[work_id]) for work_id in rated_works])"
   ]
  },
  {
   "cell_type": "code",
   "execution_count": 23,
   "metadata": {
    "collapsed": false
   },
   "outputs": [
    {
     "name": "stdout",
     "output_type": "stream",
     "text": [
      "(1, 'Death Note', b'like')\n",
      "(13, 'Code Geass: Hangyaku no Lelouch R2', b'like')\n",
      "(2, 'Code Geass: Hangyaku no Lelouch', b'neutral')\n",
      "(5, \"L'Attaque des Titans\", b'like')\n",
      "(127, 'Hunter x Hunter', b'wontsee')\n",
      "(2417, \"Kuroko's Basketball 2\", b'willsee')\n",
      "(9385, 'Parasyte -the maxim-', b'willsee')\n",
      "(107, 'Kuroko no Basket', b'willsee')\n",
      "(7, 'Fullmetal Alchemist: Brotherhood', b'willsee')\n",
      "(46, 'Psycho-Pass', b'willsee')\n"
     ]
    }
   ],
   "source": [
    "y_pred = algo.predict(X_test)\n",
    "top_recommended = y_pred.argsort()[-10:]\n",
    "for i in top_recommended:\n",
    "    print(rated_by_jj[i])"
   ]
  },
  {
   "cell_type": "code",
   "execution_count": 21,
   "metadata": {
    "collapsed": false
   },
   "outputs": [
    {
     "data": {
      "text/plain": [
       "(array([   1,   13,    2,    5,  127, 2417, 9385,  107,    7,   46], dtype=int16),\n",
       " array([ 1.6811598 ,  1.76624399,  1.76966227,  1.83171241,  1.85026713,\n",
       "         1.8516618 ,  1.90392899,  2.01091566,  2.07686592,  2.4513739 ]))"
      ]
     },
     "execution_count": 21,
     "metadata": {},
     "output_type": "execute_result"
    }
   ],
   "source": [
    "rated_works[top_recommended], y_pred[top_recommended]"
   ]
  },
  {
   "cell_type": "code",
   "execution_count": 68,
   "metadata": {
    "collapsed": false
   },
   "outputs": [],
   "source": [
    "from mangaki.utils.values import rating_values\n",
    "y_test = np.array(list(map(lambda x: rating_values[x.decode('utf-8')], rated_by_jj['choice'])))"
   ]
  },
  {
   "cell_type": "code",
   "execution_count": 37,
   "metadata": {
    "collapsed": false
   },
   "outputs": [
    {
     "data": {
      "text/plain": [
       "1.3342711646750836"
      ]
     },
     "execution_count": 37,
     "metadata": {},
     "output_type": "execute_result"
    }
   ],
   "source": [
    "rmse = mean_squared_error(y_test, y_pred) ** 0.5\n",
    "rmse"
   ]
  },
  {
   "cell_type": "code",
   "execution_count": 61,
   "metadata": {
    "collapsed": false
   },
   "outputs": [],
   "source": [
    "from sklearn.linear_model import LinearRegression\n",
    "clf = LinearRegression(fit_intercept=False)"
   ]
  },
  {
   "cell_type": "code",
   "execution_count": 46,
   "metadata": {
    "collapsed": false
   },
   "outputs": [
    {
     "name": "stderr",
     "output_type": "stream",
     "text": [
      "/Users/jin/Sites/mangaki/venv/lib/python3.6/site-packages/scipy/linalg/basic.py:884: RuntimeWarning: internal gelsd driver lwork query error, required iwork dimension not returned. This is likely the result of LAPACK bug 0038, fixed in LAPACK 3.2.2 (released July 21, 2010). Falling back to 'gelss' driver.\n",
      "  warnings.warn(mesg, RuntimeWarning)\n"
     ]
    },
    {
     "data": {
      "text/plain": [
       "LinearRegression(copy_X=True, fit_intercept=False, n_jobs=1, normalize=False)"
      ]
     },
     "execution_count": 46,
     "metadata": {},
     "output_type": "execute_result"
    }
   ],
   "source": [
    "X_reg = algo.VT.T[dataset.encode_works(rated_works)]\n",
    "clf.fit(X_reg, y_test)"
   ]
  },
  {
   "cell_type": "code",
   "execution_count": 54,
   "metadata": {
    "collapsed": false
   },
   "outputs": [
    {
     "data": {
      "text/plain": [
       "1.0812074357558288"
      ]
     },
     "execution_count": 54,
     "metadata": {},
     "output_type": "execute_result"
    }
   ],
   "source": [
    "y_reg_pred = clf.predict(X_reg)\n",
    "rmse = mean_squared_error(y_test, y_reg_pred) ** 0.5\n",
    "rmse"
   ]
  },
  {
   "cell_type": "code",
   "execution_count": 137,
   "metadata": {
    "collapsed": false
   },
   "outputs": [
    {
     "name": "stdout",
     "output_type": "stream",
     "text": [
      "[22, 171, 153, 250, 373, 251, 306, 442, 272, 291, 20, 331, 200, 301, 395, 341, 286, 375, 38, 258]\n"
     ]
    }
   ],
   "source": [
    "sampled_indices = list(map(int, dpplib.sample_k(20, D, V)))\n",
    "print(sampled_indices)"
   ]
  },
  {
   "cell_type": "code",
   "execution_count": 138,
   "metadata": {
    "collapsed": false
   },
   "outputs": [
    {
     "data": {
      "text/plain": [
       "2.9427890870750679"
      ]
     },
     "execution_count": 138,
     "metadata": {},
     "output_type": "execute_result"
    }
   ],
   "source": [
    "clf = LinearRegression(fit_intercept=False)\n",
    "clf.fit(X_reg[sampled_indices], y_test[sampled_indices])\n",
    "y_reg_pred = clf.predict(X_reg)\n",
    "rmse = mean_squared_error(y_test, y_reg_pred) ** 0.5\n",
    "rmse"
   ]
  },
  {
   "cell_type": "code",
   "execution_count": 72,
   "metadata": {
    "collapsed": false
   },
   "outputs": [
    {
     "name": "stdout",
     "output_type": "stream",
     "text": [
      "[(  16, 'Steins;Gate', b'favorite') (  19, 'Mirai Nikki', b'willsee')\n",
      " (  46, 'Psycho-Pass', b'willsee') (  55, 'No Game No Life', b'favorite')\n",
      " (4369, \"Attaque Des Titans (l')\", b'willsee')\n",
      " (5001, 'Death note', b'like') (   1, 'Death Note', b'like')\n",
      " (   2, 'Code Geass: Hangyaku no Lelouch', b'neutral')\n",
      " (  13, 'Code Geass: Hangyaku no Lelouch R2', b'like')\n",
      " (   5, \"L'Attaque des Titans\", b'like')]\n",
      "[(    8, 'Fullmetal Alchemist', b'willsee')\n",
      " (  195, 'Fullmetal Alchemist: Brotherhood OVA Collection', b'willsee')\n",
      " (   18, 'Fairy Tail', b'willsee')\n",
      " (    7, 'Fullmetal Alchemist: Brotherhood', b'willsee')\n",
      " (   17, 'Naruto: Shippuuden', b'wontsee')\n",
      " (  126, 'Dragon Ball GT', b'willsee')\n",
      " (  125, 'Fullmetal Alchemist: The Conqueror of Shamballa', b'willsee')\n",
      " (   27, 'One Piece', b'wontsee') (10505, 'Dog Days', b'willsee')\n",
      " (  844, 'Card Captor Sakura', b'favorite')]\n"
     ]
    }
   ],
   "source": [
    "top_recommended = y_reg_pred.argsort()[-10:]\n",
    "print(rated_by_jj[top_recommended])\n",
    "bottom_recommended = y_reg_pred.argsort()[:10]\n",
    "print(rated_by_jj[bottom_recommended])"
   ]
  },
  {
   "cell_type": "code",
   "execution_count": 100,
   "metadata": {
    "collapsed": false
   },
   "outputs": [
    {
     "data": {
      "text/plain": [
       "2.3143075293148456"
      ]
     },
     "execution_count": 100,
     "metadata": {},
     "output_type": "execute_result"
    }
   ],
   "source": [
    "sampled_indices = random.sample(range(len(rated_works)), 10)\n",
    "clf = LinearRegression(fit_intercept=False)\n",
    "clf.fit(X_reg[sampled_indices], y_test[sampled_indices])\n",
    "y_reg_pred = clf.predict(X_reg)\n",
    "rmse = mean_squared_error(y_test, y_reg_pred) ** 0.5\n",
    "rmse"
   ]
  },
  {
   "cell_type": "markdown",
   "metadata": {
    "collapsed": true
   },
   "source": [
    "## Clean SVD"
   ]
  },
  {
   "cell_type": "code",
   "execution_count": 3,
   "metadata": {
    "collapsed": false
   },
   "outputs": [],
   "source": [
    "from mangaki.utils.data import Dataset\n",
    "from mangaki.utils.svd import MangakiSVD\n",
    "from sklearn.model_selection import train_test_split\n",
    "from collections import Counter, defaultdict\n",
    "import numpy as np\n",
    "from mangaki.utils.dpp import MangakiProxyDPP\n",
    "from sklearn.linear_model import LinearRegression, LogisticRegression\n",
    "import random\n",
    "import csv\n",
    "\n",
    "\n",
    "dataset = Dataset()\n",
    "# dataset.load('ratings-svd.pickle')\n",
    "dataset.load_csv('ratings-ml.csv')\n",
    "\n",
    "NB_COMPONENTS = 20\n",
    "TEST_SIZE_RATE = 0.2"
   ]
  },
  {
   "cell_type": "code",
   "execution_count": 4,
   "metadata": {
    "collapsed": false
   },
   "outputs": [],
   "source": [
    "def get_train_test_stats(dataset):\n",
    "    i_train, i_test = train_test_split(range(dataset.anonymized.nb_users), test_size=TEST_SIZE_RATE)\n",
    "    r_train = []\n",
    "    r_test = []\n",
    "    inv_pos = {}\n",
    "    user_test_set = set(i_test)\n",
    "    nb_ratings = Counter()\n",
    "    for r, (encoded_user_id, encoded_work_id) in enumerate(dataset.anonymized.X):\n",
    "        inv_pos[(encoded_user_id, encoded_work_id)] = r\n",
    "        if encoded_user_id in user_test_set:\n",
    "            r_test.append(r)\n",
    "        else:\n",
    "            r_train.append(r)\n",
    "            nb_ratings[encoded_work_id] += 1\n",
    "#    popular_encoded_work_ids = get_popular(nb_ratings, NB_MOST_POPULAR)\n",
    "    print('Rating test set rate', len(r_test) / len(dataset.anonymized.X))\n",
    "    return i_test, r_train, r_test, nb_ratings, inv_pos"
   ]
  },
  {
   "cell_type": "code",
   "execution_count": 5,
   "metadata": {
    "collapsed": false
   },
   "outputs": [],
   "source": [
    "def get_popular_subset(nb_ratings, nb_most_popular):\n",
    "    return np.array([work_id for work_id, _ in nb_ratings.most_common(nb_most_popular)])"
   ]
  },
  {
   "cell_type": "code",
   "execution_count": 6,
   "metadata": {
    "collapsed": false
   },
   "outputs": [],
   "source": [
    "def get_truth_dict(dataset, r_test):\n",
    "    truth = defaultdict(dict)\n",
    "    for r in r_test:\n",
    "        user_id, work_id = dataset.anonymized.X[r]\n",
    "        truth[user_id][work_id] = dataset.anonymized.y[r]\n",
    "    return truth"
   ]
  },
  {
   "cell_type": "code",
   "execution_count": 7,
   "metadata": {
    "collapsed": true
   },
   "outputs": [],
   "source": [
    "def sample_questions(method, rated_works, nb_questions, dpp=None):\n",
    "    if method == 'dpp':\n",
    "        dpp.subset(rated_works)\n",
    "        sampled_indices = dpp.sample_k(nb_questions)\n",
    "    elif method == 'random':\n",
    "        sampled_indices = random.sample(list(range(len(rated_works))), nb_questions)\n",
    "    elif method == 'popular':\n",
    "        sampled_indices = sorted(range(len(rated_works)), key=lambda i: nb_ratings[rated_works[i]], reverse=True)[:nb_questions]\n",
    "    return sampled_indices"
   ]
  },
  {
   "cell_type": "code",
   "execution_count": 177,
   "metadata": {
    "collapsed": true
   },
   "outputs": [],
   "source": [
    "AVERAGE_RATING = 2.5\n",
    "\n",
    "def collect_answers(all_vectors, asked_encoded_work_ids, user_truth, my_user_id, inv_pos):\n",
    "    \"\"\"print(sorted(user_truth.keys())[:5])\n",
    "    print(sorted(asked_encoded_work_ids)[:5])\"\"\"\n",
    "    X_vectors = []\n",
    "    y = []\n",
    "    y_binary = []\n",
    "    r_bonus = []\n",
    "    for encoded_work_id in sorted(asked_encoded_work_ids):\n",
    "        choice = user_truth.get(encoded_work_id)\n",
    "        if choice is not None:\n",
    "            X_vectors.append(all_vectors[encoded_work_id])\n",
    "            y.append(choice)\n",
    "            y_binary.append(1 if choice > AVERAGE_RATING else -1)\n",
    "            r_bonus.append(inv_pos[(my_user_id, encoded_work_id)])\n",
    "    return X_vectors, y, y_binary, r_bonus"
   ]
  },
  {
   "cell_type": "code",
   "execution_count": 9,
   "metadata": {
    "collapsed": false
   },
   "outputs": [],
   "source": [
    "def validate_model(clf, all_vectors, user_truth, clf2=None):\n",
    "    encoded_work_ids, true_choices = zip(*user_truth.items())\n",
    "    encoded_work_ids = list(encoded_work_ids)\n",
    "    pred_choices = clf.predict(all_vectors[encoded_work_ids])\n",
    "    \"\"\"print(pred_choices[:5])\n",
    "    print(true_choices[:5])\n",
    "    if clf2:\n",
    "        print(clf2.predict(all_vectors[encoded_work_ids])[:5])\"\"\"\n",
    "    return model.compute_rmse(pred_choices, true_choices)"
   ]
  },
  {
   "cell_type": "code",
   "execution_count": 229,
   "metadata": {
    "collapsed": false
   },
   "outputs": [
    {
     "name": "stdout",
     "output_type": "stream",
     "text": [
      "Rating test set rate 0.1828126874925003\n",
      "(9066, 20) works in total\n"
     ]
    }
   ],
   "source": [
    "from mangaki.utils.als import MangakiALS\n",
    "\n",
    "NB_COMPONENTS = 20\n",
    "model = MangakiALS(NB_COMPONENTS)\n",
    "model.set_parameters(dataset.anonymized.nb_users, dataset.anonymized.nb_works)\n",
    "i_test, r_train, r_test, nb_ratings, inv_pos = get_train_test_stats(dataset)\n",
    "truth = get_truth_dict(dataset, r_test)\n",
    "\n",
    "model.fit(dataset.anonymized.X[r_train], dataset.anonymized.y[r_train])\n",
    "all_vectors = model.VT.T\n",
    "print(all_vectors.shape, 'works in total')"
   ]
  },
  {
   "cell_type": "code",
   "execution_count": 230,
   "metadata": {
    "collapsed": false
   },
   "outputs": [],
   "source": [
    "similarity = model.M.T.dot(model.M)"
   ]
  },
  {
   "cell_type": "code",
   "execution_count": 268,
   "metadata": {
    "collapsed": false
   },
   "outputs": [
    {
     "name": "stdout",
     "output_type": "stream",
     "text": [
      "[205, 657, 223, 613, 468, 545, 100, 89, 529, 345]\n"
     ]
    },
    {
     "data": {
      "text/plain": [
       "[319, 205, 63, 201, 279, 98, 24, 55, 20, 20]"
      ]
     },
     "execution_count": 268,
     "metadata": {},
     "output_type": "execute_result"
    }
   ],
   "source": [
    "print(i_test[:10])\n",
    "[len(truth[user_id]) for user_id in i_test[:10]]"
   ]
  },
  {
   "cell_type": "code",
   "execution_count": 235,
   "metadata": {
    "collapsed": false
   },
   "outputs": [],
   "source": [
    "NB_MOST_POPULAR = 100  # None for all\n",
    "work_subset = get_popular_subset(nb_ratings, NB_MOST_POPULAR)\n",
    "vectors = all_vectors[work_subset]\n",
    "# dpp = MangakiProxyDPP(model.M.T)\n",
    "dpp = MangakiProxyDPP(all_vectors)"
   ]
  },
  {
   "cell_type": "code",
   "execution_count": 236,
   "metadata": {
    "collapsed": true
   },
   "outputs": [],
   "source": [
    "def get_volume(vectors):\n",
    "    return np.linalg.det(vectors.dot(vectors.T))"
   ]
  },
  {
   "cell_type": "code",
   "execution_count": 237,
   "metadata": {
    "collapsed": false
   },
   "outputs": [
    {
     "name": "stdout",
     "output_type": "stream",
     "text": [
      "vol 0.275101245708 rank 56\n",
      "vol 4.22752029084 rank 2\n"
     ]
    }
   ],
   "source": [
    "# Test DPP\n",
    "N = 10\n",
    "K = 3\n",
    "rated_works = np.array(list(range(N)))\n",
    "from itertools import combinations\n",
    "all_dets = []\n",
    "for u in combinations(rated_works, K):\n",
    "    all_dets.append(sorted(u))\n",
    "all_dets.sort(key=lambda u: get_volume(all_vectors[rated_works[list(u)]]), reverse=True)\n",
    "sampled_indices = sorted(sample_questions('random', rated_works, 3, dpp))\n",
    "X = all_vectors[rated_works[sampled_indices]]\n",
    "vol = np.linalg.det(X.dot(X.T))\n",
    "print('vol', vol, 'rank', all_dets.index(sampled_indices))\n",
    "sampled_indices = sorted(sample_questions('dpp', rated_works, 3, dpp))\n",
    "X = all_vectors[rated_works[sampled_indices]]\n",
    "vol = np.linalg.det(X.dot(X.T))\n",
    "print('vol', vol, 'rank', all_dets.index(sampled_indices))"
   ]
  },
  {
   "cell_type": "code",
   "execution_count": 238,
   "metadata": {
    "collapsed": false
   },
   "outputs": [
    {
     "data": {
      "text/plain": [
       "30.294799835414469"
      ]
     },
     "execution_count": 238,
     "metadata": {},
     "output_type": "execute_result"
    }
   ],
   "source": [
    "np.linalg.norm(model.VT[5])"
   ]
  },
  {
   "cell_type": "code",
   "execution_count": 239,
   "metadata": {
    "collapsed": false
   },
   "outputs": [
    {
     "name": "stdout",
     "output_type": "stream",
     "text": [
      "(20, 9066)\n",
      "(20, 1, 9066)\n"
     ]
    }
   ],
   "source": [
    "print(model.VT.shape)\n",
    "print(model.VT[:, None].shape)"
   ]
  },
  {
   "cell_type": "code",
   "execution_count": 240,
   "metadata": {
    "collapsed": true
   },
   "outputs": [],
   "source": [
    "class MangakiNewUser:\n",
    "    def __init__(self, model, my_user_id):\n",
    "        self.user_id = my_user_id\n",
    "        self.model = model\n",
    "        # clf = LinearRegression(fit_intercept=False)\n",
    "        # clf2 = LogisticRegression(fit_intercept=False)\n",
    "        \"\"\"if len(set(yl)) >= 2:\n",
    "            happened += 1\n",
    "            clf2 = LogisticRegression(fit_intercept=False)\n",
    "            # clf.fit(X, y)\n",
    "            clf2.fit(X, yl)\n",
    "            clf.coef_ = clf2.coef_\n",
    "            clf.intercept_ = 0.\"\"\"\n",
    "\n",
    "    def fit(self, work_ids, choices):\n",
    "        # r_bonus\n",
    "        # self.model = MangakiALS(NB_COMPONENTS)\n",
    "        # self.model.set_parameters(dataset.anonymized.nb_users, dataset.anonymized.nb_works)\n",
    "        # self.model.fit(dataset.anonymized.X[r_train + r_bonus], dataset.anonymized.y[r_train + r_bonus])\n",
    "        mean = np.mean(choices)\n",
    "        self.model.means[self.user_id] = mean\n",
    "        bonus_ratings = {user_id: {work_id: choice - mean for work_id, choice in zip(work_ids, choices)}}\n",
    "        self.model.fit_user(user_id, bonus_ratings)\n",
    "    \n",
    "    def predict(self, work_ids):\n",
    "        return self.model.predict(np.array([[self.user_id, work_id] for work_id in work_ids]))"
   ]
  },
  {
   "cell_type": "code",
   "execution_count": 241,
   "metadata": {
    "collapsed": true
   },
   "outputs": [],
   "source": [
    "def printv(*s):\n",
    "    if VERBOSE:\n",
    "        print(*s)"
   ]
  },
  {
   "cell_type": "code",
   "execution_count": 275,
   "metadata": {
    "collapsed": false
   },
   "outputs": [
    {
     "name": "stdout",
     "output_type": "stream",
     "text": [
      "135 personnes à tester\n"
     ]
    }
   ],
   "source": [
    "COVERAGE_VALUES = [3, 5, 10, 20]\n",
    "VERBOSE = False\n",
    "values = defaultdict(lambda: defaultdict(lambda: defaultdict(list)))\n",
    "c = 0\n",
    "happened = 0\n",
    "print(len(i_test), 'personnes à tester')\n",
    "for user_id in i_test:\n",
    "    cold_start = MangakiNewUser(model, user_id)\n",
    "    # Know the truth\n",
    "    user_truth = truth[user_id]\n",
    "    encoded_work_ids, true_choices = zip(*user_truth.items())\n",
    "    encoded_work_ids = list(encoded_work_ids)\n",
    "    # Get minimal RMSE\n",
    "    cold_start.fit(encoded_work_ids, true_choices)\n",
    "    y_pred = cold_start.model.predict(np.array([[user_id, work_id] for work_id in encoded_work_ids]))\n",
    "    rmse = model.compute_rmse(y_pred, true_choices)\n",
    "    printv('Minimal RMSE', rmse)\n",
    "    true_user_vector = cold_start.model.U[user_id].copy()\n",
    "    \n",
    "    for coverage in COVERAGE_VALUES:\n",
    "        for METHOD in ['dpp', 'random', 'popular']:\n",
    "            printv(METHOD, coverage, 'Q')\n",
    "            c += 1\n",
    "            \n",
    "            rated_works = np.array(list(user_truth.keys()))\n",
    "            printv('User', user_id, 'rated', len(rated_works), 'works')\n",
    "            nb_questions = max(1, round(coverage * len(rated_works) / 100))\n",
    "            printv('questions', nb_questions)\n",
    "            sampled_indices = list(set(sample_questions(METHOD, rated_works, nb_questions, dpp)))\n",
    "            # assert len(set(sampled_indices)) == len(sampled_indices)\n",
    "            asked_encoded_work_ids = sorted(rated_works[sampled_indices])\n",
    "            printv('work_ids', asked_encoded_work_ids[:5])\n",
    "            printv('vol', METHOD, ':', get_volume(all_vectors[asked_encoded_work_ids]))\n",
    "            \"\"\"print(sampled_indices)\n",
    "            print(len(user_truth.keys()), 'vus')\"\"\"\n",
    "            X_vectors, y, y_binary, r_bonus = collect_answers(all_vectors, asked_encoded_work_ids, user_truth, user_id, inv_pos)\n",
    "            printv(len(y), 'answers', y[:5])\n",
    "            values['count'][METHOD][coverage].append(len(y))\n",
    "            if not y:\n",
    "                continue\n",
    "            values['std'][METHOD][coverage].append(np.std(y))\n",
    "            \n",
    "            printv(len(r_bonus), 'bonus ratings')\n",
    "            cold_start.fit(asked_encoded_work_ids, y)\n",
    "\n",
    "            y_pred = cold_start.predict(encoded_work_ids)\n",
    "            printv('pred', y_pred[:5])\n",
    "            printv('true', true_choices[:5])\n",
    "            rmse = model.compute_rmse(y_pred, true_choices)\n",
    "            values['rmse'][METHOD][coverage].append(rmse)\n",
    "            printv('RMSE', rmse)\n",
    "            delta = np.linalg.norm(cold_start.model.U[user_id] - true_user_vector)\n",
    "            printv('Delta', delta)\n",
    "            values['delta'][METHOD][coverage].append(delta)\n",
    "\n",
    "        \"\"\"for key in values:\n",
    "            print(key, np.mean(values[key][METHOD][coverage]))\"\"\"\n",
    "# print('happened', happened, 'on', c, 'tries')"
   ]
  },
  {
   "cell_type": "code",
   "execution_count": 247,
   "metadata": {
    "collapsed": false
   },
   "outputs": [
    {
     "name": "stdout",
     "output_type": "stream",
     "text": [
      "user 582\n"
     ]
    },
    {
     "data": {
      "text/plain": [
       "1.5801469661664793"
      ]
     },
     "execution_count": 247,
     "metadata": {},
     "output_type": "execute_result"
    }
   ],
   "source": [
    "print('user', user_id)\n",
    "y_pred = model.predict(np.array([[user_id, work_id] for work_id in user_truth]))\n",
    "# y_pred.shape\n",
    "model.compute_rmse(y_pred, true_choices)\n",
    "# true_choices"
   ]
  },
  {
   "cell_type": "code",
   "execution_count": 165,
   "metadata": {
    "collapsed": false
   },
   "outputs": [],
   "source": [
    "my_mean = np.mean(list(user_truth.values()))\n",
    "# cold_start.svd.means[user_id]"
   ]
  },
  {
   "cell_type": "code",
   "execution_count": 166,
   "metadata": {
    "collapsed": false
   },
   "outputs": [
    {
     "name": "stdout",
     "output_type": "stream",
     "text": [
      "[ 0.45849884  0.20295351  0.01060655 -0.14983525  0.15905869  0.03013105\n",
      "  0.0355368   0.03880883 -0.08395405  0.04118043]\n",
      "[ 0.32692894  0.1939145  -0.06209887 -0.03899118  0.11547404 -0.02862005\n",
      "  0.09405135 -0.00727508  0.03293423 -0.08476905]\n"
     ]
    }
   ],
   "source": [
    "print(model.U[user_id])\n",
    "model.means[user_id] = my_mean\n",
    "bonus = {user_id: {work_id: user_truth[work_id] - my_mean for work_id in user_truth}}\n",
    "model.fit_user(user_id, bonus)\n",
    "print(model.U[user_id])\n",
    "model.M = model.U.dot(model.VT)"
   ]
  },
  {
   "cell_type": "code",
   "execution_count": 208,
   "metadata": {
    "collapsed": false
   },
   "outputs": [
    {
     "data": {
      "text/plain": [
       "0.78020599438048166"
      ]
     },
     "execution_count": 208,
     "metadata": {},
     "output_type": "execute_result"
    }
   ],
   "source": [
    "encoded_work_ids, true_choices = zip(*user_truth.items())\n",
    "cold_start.fit(encoded_work_ids, true_choices)\n",
    "y_pred = model.predict(np.array([[user_id, work_id] for work_id in encoded_work_ids]))\n",
    "model.compute_rmse(y_pred, true_choices)"
   ]
  },
  {
   "cell_type": "code",
   "execution_count": 276,
   "metadata": {
    "collapsed": false
   },
   "outputs": [
    {
     "data": {
      "image/png": "[encoded data removed]",
      "text/plain": [
       "<matplotlib.figure.Figure at 0x115052a58>"
      ]
     },
     "metadata": {},
     "output_type": "display_data"
    }
   ],
   "source": [
    "import matplotlib.pyplot as plt\n",
    "from math import sqrt\n",
    "size = {'dpp': 4, 'random': 2, 'popular': 1}\n",
    "color = {'dpp': 'orange', 'random': 'blue', 'popular': 'red'}\n",
    "plt.figure(figsize=(12, 10))\n",
    "for i, key in enumerate(values, start=1):\n",
    "    plt.subplot(2, 2, i)\n",
    "    # plt.figure(key)\n",
    "    for method in values[key]:\n",
    "        plt.errorbar(x=COVERAGE_VALUES,\n",
    "                     y=[np.mean(values[key][method][cov]) for cov in COVERAGE_VALUES],\n",
    "                     yerr=[1.96 * np.std(values[key][method][cov]) / sqrt(len(values[key][method][cov])) for cov in COVERAGE_VALUES],\n",
    "                     linewidth=size[method], fmt='o', color=color[method])\n",
    "    plt.ylabel(key)\n",
    "    plt.title(key)\n",
    "plt.show()"
   ]
  },
  {
   "cell_type": "code",
   "execution_count": 250,
   "metadata": {
    "collapsed": false
   },
   "outputs": [
    {
     "name": "stdout",
     "output_type": "stream",
     "text": [
      "1.36904813733\n",
      "1.37515510523\n"
     ]
    }
   ],
   "source": [
    "print(np.mean(values['rmse']['dpp'][50]))\n",
    "print(np.mean(values['rmse']['random'][50]))"
   ]
  },
  {
   "cell_type": "code",
   "execution_count": 90,
   "metadata": {
    "collapsed": false
   },
   "outputs": [
    {
     "data": {
      "text/plain": [
       "378"
      ]
     },
     "execution_count": 90,
     "metadata": {},
     "output_type": "execute_result"
    }
   ],
   "source": [
    "my_user_id = i_test[5]\n",
    "user_truth = truth[my_user_id]\n",
    "len(user_truth)"
   ]
  },
  {
   "cell_type": "code",
   "execution_count": 30,
   "metadata": {
    "collapsed": false
   },
   "outputs": [],
   "source": [
    "cheat = MangakiSVD(NB_COMPONENTS)\n",
    "cheat.set_parameters(dataset.anonymized.nb_users, dataset.anonymized.nb_works)\n",
    "cheat.fit(dataset.anonymized.X, dataset.anonymized.y)"
   ]
  },
  {
   "cell_type": "code",
   "execution_count": 36,
   "metadata": {
    "collapsed": false
   },
   "outputs": [
    {
     "name": "stdout",
     "output_type": "stream",
     "text": [
      "82 works rated\n"
     ]
    }
   ],
   "source": [
    "user_id = my_user_id\n",
    "user_truth = truth[user_id]\n",
    "print(len(user_truth), 'works rated')\n",
    "encoded_work_ids, true_choices = zip(*user_truth.items())\n",
    "encoded_work_ids = list(encoded_work_ids)\n",
    "y_pred = cheat.predict(np.array([[user_id, work_id] for work_id in encoded_work_ids]))"
   ]
  },
  {
   "cell_type": "code",
   "execution_count": 37,
   "metadata": {
    "collapsed": false
   },
   "outputs": [
    {
     "data": {
      "text/plain": [
       "0.63301128407480212"
      ]
     },
     "execution_count": 37,
     "metadata": {},
     "output_type": "execute_result"
    }
   ],
   "source": [
    "cheat.compute_rmse(y_pred, true_choices)"
   ]
  },
  {
   "cell_type": "code",
   "execution_count": 38,
   "metadata": {
    "collapsed": false
   },
   "outputs": [
    {
     "name": "stdout",
     "output_type": "stream",
     "text": [
      "[ 4.01940583  3.75381313  3.83171     4.04327339  4.19463093]\n",
      "(3.5, 3.0, 3.0, 4.0, 4.5)\n"
     ]
    }
   ],
   "source": [
    "print(y_pred[:5])\n",
    "print(true_choices[:5])"
   ]
  },
  {
   "cell_type": "code",
   "execution_count": 33,
   "metadata": {
    "collapsed": false
   },
   "outputs": [
    {
     "data": {
      "text/plain": [
       "3.9911653488413967"
      ]
     },
     "execution_count": 33,
     "metadata": {},
     "output_type": "execute_result"
    }
   ],
   "source": [
    "y_pred = model.predict(np.array([[user_id, work_id] for work_id in encoded_work_ids]))\n",
    "model.compute_rmse(y_pred, true_choices)"
   ]
  },
  {
   "cell_type": "code",
   "execution_count": 34,
   "metadata": {
    "collapsed": false
   },
   "outputs": [
    {
     "name": "stdout",
     "output_type": "stream",
     "text": [
      "[ 0.14470261 -0.41395963  0.48651871 -0.31400844 -0.44509364]\n",
      "(3.5, 3.0, 3.0, 4.0, 4.5)\n"
     ]
    }
   ],
   "source": [
    "print(y_pred[:5])\n",
    "print(true_choices[:5])"
   ]
  },
  {
   "cell_type": "code",
   "execution_count": 42,
   "metadata": {
    "collapsed": false
   },
   "outputs": [
    {
     "name": "stdout",
     "output_type": "stream",
     "text": [
      "[ 0.96141088  4.69114602  0.18369855  3.11130014  5.41268555]\n",
      "(5.0, 4.0, 3.5, 5.0, 3.0)\n"
     ]
    },
    {
     "data": {
      "text/plain": [
       "4.9046470284311035"
      ]
     },
     "execution_count": 42,
     "metadata": {},
     "output_type": "execute_result"
    }
   ],
   "source": [
    "y_pred = clf.predict(all_vectors[encoded_work_ids])\n",
    "print(y_pred[:5])\n",
    "print(true_choices[:5])\n",
    "model.compute_rmse(y_pred, true_choices)"
   ]
  },
  {
   "cell_type": "code",
   "execution_count": 74,
   "metadata": {
    "collapsed": false
   },
   "outputs": [
    {
     "name": "stderr",
     "output_type": "stream",
     "text": [
      "/Users/jin/Sites/mangaki/mangaki/mangaki/utils/svd.py:41: RuntimeWarning: invalid value encountered in double_scalars\n",
      "  means[i] = np.sum(matrix[i]) / np.sum(matrix[i] != 0)\n"
     ]
    }
   ],
   "source": [
    "r_bonus = []\n",
    "for r, (user_id, work_id) in enumerate(dataset.anonymized.X):\n",
    "    if user_id == my_user_id:\n",
    "        r_bonus.append(r)\n",
    "\n",
    "big = MangakiSVD(NB_COMPONENTS)\n",
    "big.set_parameters(dataset.anonymized.nb_users, dataset.anonymized.nb_works)\n",
    "big.fit(dataset.anonymized.X[r_train + r_bonus], dataset.anonymized.y[r_train + r_bonus])"
   ]
  },
  {
   "cell_type": "code",
   "execution_count": 76,
   "metadata": {
    "collapsed": false
   },
   "outputs": [
    {
     "name": "stdout",
     "output_type": "stream",
     "text": [
      "[ 3.89258514  3.9176222   3.91470092  3.98430355  3.89990882  3.98331349\n",
      "  4.01747955  4.06884564  3.97676186  3.79887259  3.81377788  3.93377835\n",
      "  3.89652672  3.88009859  3.79983996]\n",
      "(3.0, 4.0, 4.0, 4.0, 4.0, 4.0, 5.0, 5.0, 4.0, 3.0, 2.0, 3.0, 4.0, 1.0, 3.0)\n"
     ]
    },
    {
     "data": {
      "text/plain": [
       "0.83551021742139298"
      ]
     },
     "execution_count": 76,
     "metadata": {},
     "output_type": "execute_result"
    }
   ],
   "source": [
    "y_pred = big.predict(np.array([[user_id, work_id] for work_id in encoded_work_ids]))\n",
    "print(y_pred[:15])\n",
    "print(true_choices[:15])\n",
    "big.compute_rmse(y_pred, true_choices)"
   ]
  },
  {
   "cell_type": "code",
   "execution_count": null,
   "metadata": {
    "collapsed": true
   },
   "outputs": [],
   "source": []
  }
 ],
 "metadata": {
  "kernelspec": {
   "display_name": "Django Shell-Plus",
   "language": "python",
   "name": "django_extensions"
  }
 },
 "nbformat": 4,
 "nbformat_minor": 2
}
