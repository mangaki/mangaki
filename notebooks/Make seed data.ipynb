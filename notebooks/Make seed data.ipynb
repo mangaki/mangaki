{
 "cells": [
  {
   "cell_type": "code",
   "execution_count": 2,
   "metadata": {
    "collapsed": false
   },
   "outputs": [
    {
     "data": {
      "text/plain": [
       "15177"
      ]
     },
     "execution_count": 2,
     "metadata": {},
     "output_type": "execute_result"
    }
   ],
   "source": [
    "Work.objects.count()"
   ]
  },
  {
   "cell_type": "code",
   "execution_count": 7,
   "metadata": {
    "collapsed": false
   },
   "outputs": [
    {
     "data": {
      "text/plain": [
       "(0, {})"
      ]
     },
     "execution_count": 7,
     "metadata": {},
     "output_type": "execute_result"
    }
   ],
   "source": [
    "NB_WORKS_LIMIT = 20\n",
    "NB_USERS_LIMIT = 200\n",
    "\n",
    "SearchIssue.objects.all().delete()\n",
    "# Profile.objects.all().delete()  # Keeping some profiles would be better\n",
    "Suggestion.objects.all().delete()\n",
    "Recommendation.objects.all().delete()\n",
    "Pairing.objects.all().delete()\n",
    "SocialApp.objects.all().delete()\n",
    "Session.objects.all().delete()\n",
    "ContentType.objects.all().delete()\n",
    "# Reference.objects.all().delete()"
   ]
  },
  {
   "cell_type": "code",
   "execution_count": 8,
   "metadata": {
    "collapsed": false
   },
   "outputs": [],
   "source": [
    "from collections import Counter\n",
    "nb = Counter(Rating.objects.values_list('work_id', flat=True))\n",
    "if NB_WORKS_LIMIT:\n",
    "    work_ids = list(Work.objects.values_list('id', flat=True))\n",
    "    work_ids.sort(key=lambda work_id: -nb[work_id])\n",
    "    Work.objects.exclude(id__in=work_ids[:NB_WORKS_LIMIT]).delete()"
   ]
  },
  {
   "cell_type": "code",
   "execution_count": 9,
   "metadata": {
    "collapsed": false
   },
   "outputs": [],
   "source": [
    "if NB_WORKS_LIMIT:\n",
    "    bundle = []\n",
    "    for artist_ids in Work.objects.values_list('artists'):\n",
    "        bundle.extend(artist_ids)\n",
    "    kept_artist_ids = list(set([x for x in bundle if x is not None]))\n",
    "    Artist.objects.exclude(id__in=kept_artist_ids).delete()"
   ]
  },
  {
   "cell_type": "code",
   "execution_count": 10,
   "metadata": {
    "collapsed": false
   },
   "outputs": [
    {
     "data": {
      "text/plain": [
       "42"
      ]
     },
     "execution_count": 10,
     "metadata": {},
     "output_type": "execute_result"
    }
   ],
   "source": [
    "Artist.objects.count()"
   ]
  },
  {
   "cell_type": "code",
   "execution_count": 11,
   "metadata": {
    "collapsed": false
   },
   "outputs": [
    {
     "data": {
      "text/plain": [
       "20"
      ]
     },
     "execution_count": 11,
     "metadata": {},
     "output_type": "execute_result"
    }
   ],
   "source": [
    "Work.objects.count()"
   ]
  },
  {
   "cell_type": "code",
   "execution_count": 12,
   "metadata": {
    "collapsed": false
   },
   "outputs": [
    {
     "data": {
      "text/plain": [
       "23236"
      ]
     },
     "execution_count": 12,
     "metadata": {},
     "output_type": "execute_result"
    }
   ],
   "source": [
    "Rating.objects.count()"
   ]
  },
  {
   "cell_type": "code",
   "execution_count": 13,
   "metadata": {
    "collapsed": true
   },
   "outputs": [],
   "source": [
    "max_user_id = max(User.objects.values_list('id', flat=True))"
   ]
  },
  {
   "cell_type": "code",
   "execution_count": 14,
   "metadata": {
    "collapsed": false
   },
   "outputs": [
    {
     "data": {
      "text/plain": [
       "(47007,\n",
       " {'account.EmailAddress': 1925,\n",
       "  'account.EmailConfirmation': 1867,\n",
       "  'admin.LogEntry': 581,\n",
       "  'auth.User': 1942,\n",
       "  'auth.User_groups': 2,\n",
       "  'auth.User_user_permissions': 0,\n",
       "  'irl.Attendee': 10,\n",
       "  'mangaki.Neighborship': 17460,\n",
       "  'mangaki.Pairing': 0,\n",
       "  'mangaki.Profile': 1940,\n",
       "  'mangaki.Rating': 21179,\n",
       "  'mangaki.Recommendation': 0,\n",
       "  'mangaki.SearchIssue': 0,\n",
       "  'socialaccount.SocialAccount': 101,\n",
       "  'socialaccount.SocialToken': 0})"
      ]
     },
     "execution_count": 14,
     "metadata": {},
     "output_type": "execute_result"
    }
   ],
   "source": [
    "import random\n",
    "chosen = User.objects.order_by('?')[:NB_USERS_LIMIT]\n",
    "kept_ids = chosen.values_list('id', flat=True)\n",
    "User.objects.exclude(id__in=kept_ids).delete()"
   ]
  },
  {
   "cell_type": "code",
   "execution_count": 15,
   "metadata": {
    "collapsed": false
   },
   "outputs": [
    {
     "data": {
      "text/plain": [
       "200"
      ]
     },
     "execution_count": 15,
     "metadata": {},
     "output_type": "execute_result"
    }
   ],
   "source": [
    "User.objects.count()"
   ]
  },
  {
   "cell_type": "code",
   "execution_count": 16,
   "metadata": {
    "collapsed": false
   },
   "outputs": [],
   "source": [
    "from django.utils import timezone\n",
    "new_ids = random.sample(range(max_user_id + 1, max_user_id + 201), 200)\n",
    "for user, new_id in zip(User.objects.all(), new_ids):\n",
    "    old_id = user.id\n",
    "    user.pk = new_id\n",
    "    user.username = str(new_id)\n",
    "    user.is_superuser = False\n",
    "    user.set_password('mangaki')\n",
    "    user.email = '%d@mangaki.fr' % new_id\n",
    "    user.date_joined = timezone.now()\n",
    "    user.last_login = timezone.now()\n",
    "    user.save()\n",
    "    old_user = User.objects.get(id=old_id)\n",
    "    old_user.rating_set.update(user=user)\n",
    "    # old_user.profile.user = user\n",
    "    old_user.delete()"
   ]
  },
  {
   "cell_type": "code",
   "execution_count": 17,
   "metadata": {
    "collapsed": false
   },
   "outputs": [
    {
     "data": {
      "text/plain": [
       "<QuerySet [<User: 2195>, <User: 2212>, <User: 2288>, <User: 2353>, <User: 2237>, <User: 2318>, <User: 2259>, <User: 2316>, <User: 2293>, <User: 2266>, <User: 2307>, <User: 2311>, <User: 2159>, <User: 2292>, <User: 2221>, <User: 2277>, <User: 2169>, <User: 2285>, <User: 2333>, <User: 2240>, '...(remaining elements truncated)...']>"
      ]
     },
     "execution_count": 17,
     "metadata": {},
     "output_type": "execute_result"
    }
   ],
   "source": [
    "User.objects.all()"
   ]
  },
  {
   "cell_type": "markdown",
   "metadata": {},
   "source": [
    "Now, please make ``./mangaki/manage.py dumpdata > fixtures/seed_data.json``"
   ]
  },
  {
   "cell_type": "code",
   "execution_count": 21,
   "metadata": {
    "collapsed": false
   },
   "outputs": [
    {
     "data": {
      "text/plain": [
       "Counter({'auth.user': 200,\n",
       "         'irl.event': 38,\n",
       "         'irl.location': 2,\n",
       "         'irl.partner': 12,\n",
       "         'mangaki.artist': 48,\n",
       "         'mangaki.artistspelling': 48,\n",
       "         'mangaki.category': 3,\n",
       "         'mangaki.editor': 24,\n",
       "         'mangaki.genre': 34,\n",
       "         'mangaki.page': 4,\n",
       "         'mangaki.rating': 3161,\n",
       "         'mangaki.reference': 30,\n",
       "         'mangaki.role': 5,\n",
       "         'mangaki.staff': 100,\n",
       "         'mangaki.studio': 50,\n",
       "         'mangaki.top': 3,\n",
       "         'mangaki.work': 40})"
      ]
     },
     "execution_count": 21,
     "metadata": {},
     "output_type": "execute_result"
    }
   ],
   "source": [
    "from collections import Counter\n",
    "import json\n",
    "j = json.load(open('../fixtures/seed_data.json'))\n",
    "# Currently\n",
    "\"\"\"Counter({'auth.group': 1,  # May be removed\n",
    "         'auth.user': 200,\n",
    "         'irl.event': 38,     # May be removed\n",
    "         'irl.location': 2,   # May be removed\n",
    "         'irl.partner': 12,   # May be removed\n",
    "         'mangaki.artist': 42,\n",
    "         'mangaki.artistspelling': 42,\n",
    "         'mangaki.category': 3,\n",
    "         'mangaki.editor': 167,\n",
    "         'mangaki.genre': 34,\n",
    "         'mangaki.page': 4,\n",
    "         'mangaki.profile': 200,\n",
    "         'mangaki.rating': 2057,\n",
    "         'mangaki.reference': 29,\n",
    "         'mangaki.role': 5,\n",
    "         'mangaki.staff': 60,\n",
    "         'mangaki.studio': 50,\n",
    "         'mangaki.top': 4,\n",
    "         'mangaki.work': 20,\n",
    "         'sites.site': 1})    # May be removed\"\"\"\n",
    "Counter(entry['model'] for entry in j)"
   ]
  }
 ],
 "metadata": {
  "kernelspec": {
   "display_name": "Django Shell-Plus",
   "language": "python",
   "name": "django_extensions"
  },
  "language_info": {
   "codemirror_mode": {
    "name": "ipython",
    "version": 3
   },
   "file_extension": ".py",
   "mimetype": "text/x-python",
   "name": "python",
   "nbconvert_exporter": "python",
   "pygments_lexer": "ipython3",
   "version": "3.6.0"
  }
 },
 "nbformat": 4,
 "nbformat_minor": 0
}
