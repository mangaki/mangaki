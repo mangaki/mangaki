{
 "cells": [
  {
   "cell_type": "code",
   "execution_count": 1,
   "metadata": {
    "collapsed": false
   },
   "outputs": [],
   "source": [
    "import numpy as np\n",
    "import pandas\n",
    "\n",
    "ratings = pandas.read_csv('../data/ratings.csv', header=None, names=['User', 'Work', 'Choice'])\n",
    "works = pandas.read_csv('../data/works.csv', header=None, index_col=0, names=['Title'])\n",
    "\n",
    "class BaseEmbedding:\n",
    "    def __init__(self, ratings=None, works=None):\n",
    "        if ratings is None:\n",
    "            ratings = pandas.read_csv('../data/ratings.csv', header=None, names=['User', 'Work', 'Choice'])\n",
    "        if works is None:\n",
    "            works = pandas.read_csv('../data/works.csv', header=None, index_col=0, names=['Title'])\n",
    "            \n",
    "        self.ratings = ratings\n",
    "        self.works = works\n",
    "        self.nb_users = ratings['User'].max() + 1\n",
    "        self.nb_works = ratings['Work'].max() + 1\n",
    "\n",
    "    def most_similar(self, work_id, topn=8):\n",
    "        res = self._get_most_similar(work_id, topn)\n",
    "        similar = self.works.loc[res[1]]\n",
    "        similar['Similarity'] = pandas.Series(res[0], index=similar.index)\n",
    "        return similar"
   ]
  },
  {
   "cell_type": "markdown",
   "metadata": {},
   "source": [
    "# Embedding par SVD de la matrice objets-objets\n",
    "\n",
    "On va construire une matrice carrée symmétrique comptant le nombre d'utilisateur qui ont donné la même note à deux œuvres, i.e. en position `(i, j)` on aura le nombre d'utilisateur ayant donné la même note à l'œuvre `i` et à l'œuvre `j`. On normalise ensuite cette matrice par la racine carrée du produit des sommes par ligne et par colonne (pour éviter des coefficients disproportionnés sur les œuvres populaires), et on utilise ensuite le résultat d'une SVD comme embedding des œuvres. Enfin, pour déterminer la similarité entre deux œuvres, on utilisera le cosinus des angles entre les vecteurs."
   ]
  },
  {
   "cell_type": "code",
   "execution_count": 2,
   "metadata": {
    "collapsed": false
   },
   "outputs": [],
   "source": [
    "from sklearn.decomposition import TruncatedSVD\n",
    "from sklearn.neighbors import NearestNeighbors\n",
    "import scipy.sparse as sp\n",
    "\n",
    "class SVDEmbedding(BaseEmbedding):\n",
    "    def __init__(self, *choices_list, size=100, **kwargs):\n",
    "        super().__init__(**kwargs)\n",
    "        self._compute_svd(*choices_list, size=size)\n",
    "        self._compute_nn()\n",
    "        \n",
    "    def _matrix_for(self, choices):\n",
    "        \"\"\"Construit une matrice binaire `n_users` x `n_works` telle que en position (i, j)\n",
    "        se trouve un 0 ssi l'utilisateur `i` à donné à l'œuvre `j` une note contenue dans `choices`\"\"\"\n",
    "        elems = self.ratings[self.ratings['Choice'].isin(choices)].as_matrix()\n",
    "        return sp.csc_matrix((np.ones(len(elems)), (elems[:,0], elems[:,1])), shape=(self.nb_users, self.nb_works))\n",
    "    \n",
    "    def _cooccurrences_for(self, choices):\n",
    "        \"\"\"Construit une matrice carrée symmétrique `n_works` x `n_works` telle que en position (i, j)\n",
    "        se trouve le nombre d'utilisateurs ayant donné aux œuvres `i` et `j` une note contenue dans `choices`.\"\"\"\n",
    "        matrix = self._matrix_for(choices)\n",
    "        return matrix.T.dot(matrix)\n",
    "    \n",
    "    def _compute_svd(self, *choices_list, size):\n",
    "        cooccurrences = np.sum(self._cooccurrences_for(choices) for choices in choices_list)\n",
    "        # Normalisation\n",
    "        cooccurrences = np.nan_to_num(cooccurrences / np.sqrt(cooccurrences.sum(axis=1).dot(cooccurrences.sum(axis=0))))\n",
    "        self._svd = TruncatedSVD(size).fit(cooccurrences)\n",
    "        \n",
    "    def _compute_nn(self):\n",
    "        assert hasattr(self, '_svd')\n",
    "        self._nn = NearestNeighbors(algorithm='brute', metric='cosine').fit(self._svd.components_.T)\n",
    "        \n",
    "    def _get_most_similar(self, work_id, n_neighbors):\n",
    "        assert hasattr(self, '_svd') and hasattr(self, '_nn')\n",
    "        res = self._nn.kneighbors(self._svd.components_[:,[work_id]].T, n_neighbors=n_neighbors + 1)\n",
    "        return (1 - res[0].ravel(), res[1].ravel())"
   ]
  },
  {
   "cell_type": "code",
   "execution_count": 3,
   "metadata": {
    "collapsed": false
   },
   "outputs": [],
   "source": [
    "# On considère les ensemble de notes {'dislike'}, {'neutral'}, et {'like', 'favorite'} pour\n",
    "# compter les cas où la même note a été donnée à des œuvres. N'hésitez pas à expérimenter avec des ensembles différents !\n",
    "svd_embedding = SVDEmbedding({'dislike'}, {'neutral'}, {'like', 'favorite'}, ratings=ratings, works=works)"
   ]
  },
  {
   "cell_type": "code",
   "execution_count": 4,
   "metadata": {
    "collapsed": false
   },
   "outputs": [
    {
     "data": {
      "text/html": [
       "<div>\n",
       "<table border=\"1\" class=\"dataframe\">\n",
       "  <thead>\n",
       "    <tr style=\"text-align: right;\">\n",
       "      <th></th>\n",
       "      <th>Title</th>\n",
       "    </tr>\n",
       "  </thead>\n",
       "  <tbody>\n",
       "    <tr>\n",
       "      <th>1184</th>\n",
       "      <td>Mahou Shoujo Madoka★Magica Movie 3: Hangyaku n...</td>\n",
       "    </tr>\n",
       "    <tr>\n",
       "      <th>1773</th>\n",
       "      <td>Mahou Shoujo Madoka★Magica</td>\n",
       "    </tr>\n",
       "    <tr>\n",
       "      <th>1890</th>\n",
       "      <td>Puella Magi Madoka Magica the Movie Part II: E...</td>\n",
       "    </tr>\n",
       "    <tr>\n",
       "      <th>2969</th>\n",
       "      <td>Puella Magi Madoka Magica the Movie Part III: ...</td>\n",
       "    </tr>\n",
       "    <tr>\n",
       "      <th>4985</th>\n",
       "      <td>Puella Magi Madoka Magica</td>\n",
       "    </tr>\n",
       "    <tr>\n",
       "      <th>7265</th>\n",
       "      <td>Puella Magi Madoka Magica - The different story</td>\n",
       "    </tr>\n",
       "    <tr>\n",
       "      <th>7753</th>\n",
       "      <td>Puella Magi Madoka Magica the Movie Part I: Be...</td>\n",
       "    </tr>\n",
       "  </tbody>\n",
       "</table>\n",
       "</div>"
      ],
      "text/plain": [
       "                                                  Title\n",
       "1184  Mahou Shoujo Madoka★Magica Movie 3: Hangyaku n...\n",
       "1773                         Mahou Shoujo Madoka★Magica\n",
       "1890  Puella Magi Madoka Magica the Movie Part II: E...\n",
       "2969  Puella Magi Madoka Magica the Movie Part III: ...\n",
       "4985                          Puella Magi Madoka Magica\n",
       "7265    Puella Magi Madoka Magica - The different story\n",
       "7753  Puella Magi Madoka Magica the Movie Part I: Be..."
      ]
     },
     "execution_count": 4,
     "metadata": {},
     "output_type": "execute_result"
    }
   ],
   "source": [
    "works[works['Title'].str.contains('Madoka')]"
   ]
  },
  {
   "cell_type": "code",
   "execution_count": 5,
   "metadata": {
    "collapsed": false
   },
   "outputs": [
    {
     "data": {
      "text/html": [
       "<div>\n",
       "<table border=\"1\" class=\"dataframe\">\n",
       "  <thead>\n",
       "    <tr style=\"text-align: right;\">\n",
       "      <th></th>\n",
       "      <th>Title</th>\n",
       "      <th>Similarity</th>\n",
       "    </tr>\n",
       "  </thead>\n",
       "  <tbody>\n",
       "    <tr>\n",
       "      <th>1773</th>\n",
       "      <td>Mahou Shoujo Madoka★Magica</td>\n",
       "      <td>1.000000</td>\n",
       "    </tr>\n",
       "    <tr>\n",
       "      <th>6508</th>\n",
       "      <td>Suzumiya Haruhi no Yuuutsu</td>\n",
       "      <td>0.876875</td>\n",
       "    </tr>\n",
       "    <tr>\n",
       "      <th>5596</th>\n",
       "      <td>Bakemonogatari</td>\n",
       "      <td>0.871906</td>\n",
       "    </tr>\n",
       "    <tr>\n",
       "      <th>5514</th>\n",
       "      <td>Shinsekai yori</td>\n",
       "      <td>0.864335</td>\n",
       "    </tr>\n",
       "    <tr>\n",
       "      <th>2969</th>\n",
       "      <td>Puella Magi Madoka Magica the Movie Part III: ...</td>\n",
       "      <td>0.863351</td>\n",
       "    </tr>\n",
       "    <tr>\n",
       "      <th>6939</th>\n",
       "      <td>Clannad: After Story</td>\n",
       "      <td>0.857464</td>\n",
       "    </tr>\n",
       "    <tr>\n",
       "      <th>5129</th>\n",
       "      <td>Steins;Gate</td>\n",
       "      <td>0.854376</td>\n",
       "    </tr>\n",
       "    <tr>\n",
       "      <th>2874</th>\n",
       "      <td>5 centimètres par seconde</td>\n",
       "      <td>0.850551</td>\n",
       "    </tr>\n",
       "    <tr>\n",
       "      <th>2819</th>\n",
       "      <td>Tengen Toppa Gurren Lagann</td>\n",
       "      <td>0.848705</td>\n",
       "    </tr>\n",
       "  </tbody>\n",
       "</table>\n",
       "</div>"
      ],
      "text/plain": [
       "                                                  Title  Similarity\n",
       "1773                         Mahou Shoujo Madoka★Magica    1.000000\n",
       "6508                         Suzumiya Haruhi no Yuuutsu    0.876875\n",
       "5596                                     Bakemonogatari    0.871906\n",
       "5514                                     Shinsekai yori    0.864335\n",
       "2969  Puella Magi Madoka Magica the Movie Part III: ...    0.863351\n",
       "6939                               Clannad: After Story    0.857464\n",
       "5129                                        Steins;Gate    0.854376\n",
       "2874                          5 centimètres par seconde    0.850551\n",
       "2819                         Tengen Toppa Gurren Lagann    0.848705"
      ]
     },
     "execution_count": 5,
     "metadata": {},
     "output_type": "execute_result"
    }
   ],
   "source": [
    "svd_embedding.most_similar(1773)"
   ]
  },
  {
   "cell_type": "markdown",
   "metadata": {},
   "source": [
    "# Embedding par `item2vec`\n",
    "\n",
    "Comme dans https://arxiv.org/abs/1603.04259, on applique simplement le modèle `word2vec` aux utilisateurs. En fait, on considère comme une \"phrase\" l'ensemble des œuvres auxquelles un utilisateur a donné une certaine note, et on utilise un modèle qui permet d'apprendre un embedding des mots en fonction de leur contexte. L'avantage de cette méthode, c'est qu'on se fiche un peu de la façon dont ces \"phrases\" sont construites : ainsi on peut utiliser l'ensemble des œuvres auxquelles un utilisateur à donné une certaine note comme ici, mais on pourrait aussi ajouter l'ensemble des œuvres faites par un certain réalisateur, d'un certain genre, etc."
   ]
  },
  {
   "cell_type": "code",
   "execution_count": 6,
   "metadata": {
    "collapsed": false
   },
   "outputs": [],
   "source": [
    "import gensim\n",
    "import random\n",
    "\n",
    "class Item2VecEmbedding(BaseEmbedding):\n",
    "    def __init__(self, *choices_list, size=100, min_count=2, **kwargs):\n",
    "        super().__init__(**kwargs)\n",
    "        self.docs = []\n",
    "        for choices in choices_list:\n",
    "            elems = self.ratings[self.ratings['Choice'].isin(choices)][['User', 'Work']].as_matrix()\n",
    "            docs = [[] for _ in range(self.nb_users)]\n",
    "            for user_id, work_id in elems:\n",
    "                docs[user_id].append(str(work_id))\n",
    "            self.docs.extend(docs)\n",
    "        max_len = max(len(doc) for doc in self.docs)\n",
    "        self._word2vec = gensim.models.Word2Vec(self.docs, size=size, window=max_len+1, min_count=min_count, iter=10, sg=1)\n",
    "        \n",
    "    def _get_most_similar(self, work_id, n_neighbors):\n",
    "        res = self._word2vec.most_similar(str(work_id), topn=n_neighbors)\n",
    "        return ([1.] + [x for _, x in res], [work_id] + [int(x) for x, _ in res])"
   ]
  },
  {
   "cell_type": "code",
   "execution_count": 7,
   "metadata": {
    "collapsed": false
   },
   "outputs": [],
   "source": [
    "# On considère les ensemble {'neutral'}, {'dislike'} et {'like', 'favorite'} pour créer les \"phrases\".\n",
    "# N'hésitez pas à expérimenter avec des valeurs différentes\n",
    "embedding = Item2VecEmbedding({'neutral'}, {'dislike'}, {'like', 'favorite'}, ratings=ratings, works=works)"
   ]
  },
  {
   "cell_type": "code",
   "execution_count": 8,
   "metadata": {
    "collapsed": false
   },
   "outputs": [
    {
     "data": {
      "text/html": [
       "<div>\n",
       "<table border=\"1\" class=\"dataframe\">\n",
       "  <thead>\n",
       "    <tr style=\"text-align: right;\">\n",
       "      <th></th>\n",
       "      <th>Title</th>\n",
       "      <th>Similarity</th>\n",
       "    </tr>\n",
       "  </thead>\n",
       "  <tbody>\n",
       "    <tr>\n",
       "      <th>1773</th>\n",
       "      <td>Mahou Shoujo Madoka★Magica</td>\n",
       "      <td>1.000000</td>\n",
       "    </tr>\n",
       "    <tr>\n",
       "      <th>6508</th>\n",
       "      <td>Suzumiya Haruhi no Yuuutsu</td>\n",
       "      <td>0.868187</td>\n",
       "    </tr>\n",
       "    <tr>\n",
       "      <th>4846</th>\n",
       "      <td>Suzumiya Haruhi no Shoushitsu</td>\n",
       "      <td>0.856526</td>\n",
       "    </tr>\n",
       "    <tr>\n",
       "      <th>2969</th>\n",
       "      <td>Puella Magi Madoka Magica the Movie Part III: ...</td>\n",
       "      <td>0.849504</td>\n",
       "    </tr>\n",
       "    <tr>\n",
       "      <th>5596</th>\n",
       "      <td>Bakemonogatari</td>\n",
       "      <td>0.845459</td>\n",
       "    </tr>\n",
       "    <tr>\n",
       "      <th>7753</th>\n",
       "      <td>Puella Magi Madoka Magica the Movie Part I: Be...</td>\n",
       "      <td>0.811497</td>\n",
       "    </tr>\n",
       "    <tr>\n",
       "      <th>1692</th>\n",
       "      <td>Durarara!!</td>\n",
       "      <td>0.801910</td>\n",
       "    </tr>\n",
       "    <tr>\n",
       "      <th>2819</th>\n",
       "      <td>Tengen Toppa Gurren Lagann</td>\n",
       "      <td>0.799095</td>\n",
       "    </tr>\n",
       "    <tr>\n",
       "      <th>6603</th>\n",
       "      <td>Hyouka</td>\n",
       "      <td>0.796405</td>\n",
       "    </tr>\n",
       "  </tbody>\n",
       "</table>\n",
       "</div>"
      ],
      "text/plain": [
       "                                                  Title  Similarity\n",
       "1773                         Mahou Shoujo Madoka★Magica    1.000000\n",
       "6508                         Suzumiya Haruhi no Yuuutsu    0.868187\n",
       "4846                      Suzumiya Haruhi no Shoushitsu    0.856526\n",
       "2969  Puella Magi Madoka Magica the Movie Part III: ...    0.849504\n",
       "5596                                     Bakemonogatari    0.845459\n",
       "7753  Puella Magi Madoka Magica the Movie Part I: Be...    0.811497\n",
       "1692                                         Durarara!!    0.801910\n",
       "2819                         Tengen Toppa Gurren Lagann    0.799095\n",
       "6603                                             Hyouka    0.796405"
      ]
     },
     "execution_count": 8,
     "metadata": {},
     "output_type": "execute_result"
    }
   ],
   "source": [
    "embedding.most_similar(1773)"
   ]
  }
 ],
 "metadata": {
  "kernelspec": {
   "display_name": "Python 3",
   "language": "python",
   "name": "python3"
  },
  "language_info": {
   "codemirror_mode": {
    "name": "ipython",
    "version": 3
   },
   "file_extension": ".py",
   "mimetype": "text/x-python",
   "name": "python",
   "nbconvert_exporter": "python",
   "pygments_lexer": "ipython3",
   "version": "3.5.1"
  }
 },
 "nbformat": 4,
 "nbformat_minor": 0
}
