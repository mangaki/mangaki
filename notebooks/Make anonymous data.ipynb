{
 "cells": [
  {
   "cell_type": "code",
   "execution_count": 1,
   "metadata": {},
   "outputs": [],
   "source": [
    "from mangaki.utils.data import Dataset\n",
    "\n",
    "triplets = Rating.objects.values_list('user_id', 'work_id', 'choice')\n",
    "titles = Work.objects.order_by('id').values_list('id', 'title')\n",
    "dataset = Dataset()"
   ]
  },
  {
   "cell_type": "code",
   "execution_count": 2,
   "metadata": {},
   "outputs": [],
   "source": [
    "anonymized = dataset.make_anonymous_data(triplets, convert=str)\n",
    "dataset.titles = dict(titles)"
   ]
  },
  {
   "cell_type": "code",
   "execution_count": 3,
   "metadata": {},
   "outputs": [
    {
     "name": "stdout",
     "output_type": "stream",
     "text": [
      "Already exists. Continue? [y/n] y\n"
     ]
    }
   ],
   "source": [
    "dataset.save_csv()"
   ]
  },
  {
   "cell_type": "code",
   "execution_count": 8,
   "metadata": {},
   "outputs": [
    {
     "name": "stdout",
     "output_type": "stream",
     "text": [
      "É knows 164 titles\n",
      "Maduesu knows 60 titles\n",
      "jj knows 158 titles\n",
      "=> 303 titles in total\n"
     ]
    }
   ],
   "source": [
    "works = set()\n",
    "for username in ['É', 'Maduesu', 'jj']:\n",
    "    known_titles = User.objects.get(username=username).rating_set.exclude(choice__in=['willsee', 'wontsee']).values_list('work__title', flat=True)\n",
    "    print(username, 'knows', len(known_titles), 'titles')\n",
    "    works.update(known_titles)\n",
    "print('=>', len(works), 'titles in total')"
   ]
  }
 ],
 "metadata": {
  "kernelspec": {
   "display_name": "Django Shell-Plus",
   "language": "python",
   "name": "django_extensions"
  },
  "language_info": {
   "codemirror_mode": {
    "name": "ipython",
    "version": 3
   },
   "file_extension": ".py",
   "mimetype": "text/x-python",
   "name": "python",
   "nbconvert_exporter": "python",
   "pygments_lexer": "ipython3",
   "version": "3.6.1"
  }
 },
 "nbformat": 4,
 "nbformat_minor": 1
}
