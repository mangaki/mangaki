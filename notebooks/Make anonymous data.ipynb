{
 "cells": [
  {
   "cell_type": "code",
   "execution_count": 1,
   "metadata": {
    "collapsed": false
   },
   "outputs": [],
   "source": [
    "import random, csv\n",
    "\n",
    "triplets = []\n",
    "users = set()\n",
    "works = set()\n",
    "for user_id, work_id, rating in Rating.objects.values_list('user_id', 'work_id', 'choice'):\n",
    "    users.add(user_id)\n",
    "    works.add(work_id)\n",
    "    triplets.append((user_id, work_id, rating))\n",
    "random.shuffle(triplets)\n",
    "\n",
    "anonymous_u = list(range(len(users)))\n",
    "anonymous_w = list(range(len(works)))\n",
    "random.shuffle(anonymous_u)\n",
    "random.shuffle(anonymous_w)\n",
    "encode_user = dict(zip(users, anonymous_u))\n",
    "encode_work = dict(zip(works, anonymous_w))\n",
    "\n",
    "with open('ratings.csv', 'w', newline='') as csvfile:\n",
    "    data = csv.writer(csvfile, delimiter=',', quotechar='', quoting=csv.QUOTE_NONE)\n",
    "    for user_id, work_id, rating in triplets:\n",
    "        data.writerow([encode_user[user_id], encode_work[work_id], rating])\n",
    "\n",
    "with open('works.csv', 'w', newline='') as csvfile:\n",
    "    data = csv.writer(csvfile, delimiter=',')\n",
    "    for work_id, title in Work.objects.order_by('id').values_list('id', 'title'):\n",
    "        if work_id in encode_work:\n",
    "            data.writerow([encode_work[work_id], title])"
   ]
  },
  {
   "cell_type": "code",
   "execution_count": 2,
   "metadata": {
    "collapsed": false
   },
   "outputs": [
    {
     "name": "stdout",
     "output_type": "stream",
     "text": [
      "164\n",
      "60\n",
      "154\n"
     ]
    },
    {
     "data": {
      "text/plain": [
       "299"
      ]
     },
     "execution_count": 2,
     "metadata": {},
     "output_type": "execute_result"
    }
   ],
   "source": [
    "works = set()\n",
    "for username in ['É', 'Maduesu', 'jj']:\n",
    "    # How many likes, dislikes, neutral?\n",
    "    print(len(User.objects.get(username=username).rating_set.exclude(choice__in=['willsee', 'wontsee']).values_list('work__title', flat=True)))\n",
    "    works.update(User.objects.get(username=username).rating_set.exclude(choice__in=['willsee', 'wontsee']).values_list('work__title', flat=True))\n",
    "len(works)  # Works shared together"
   ]
  },
  {
   "cell_type": "code",
   "execution_count": null,
   "metadata": {
    "collapsed": true
   },
   "outputs": [],
   "source": []
  }
 ],
 "metadata": {
  "kernelspec": {
   "display_name": "Django Shell-Plus",
   "language": "python",
   "name": "django_extensions"
  },
  "language_info": {
   "codemirror_mode": {
    "name": "ipython",
    "version": 3
   },
   "file_extension": ".py",
   "mimetype": "text/x-python",
   "name": "python",
   "nbconvert_exporter": "python",
   "pygments_lexer": "ipython3",
   "version": "3.6.0"
  }
 },
 "nbformat": 4,
 "nbformat_minor": 0
}
