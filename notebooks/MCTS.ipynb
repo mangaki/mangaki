{
 "cells": [
  {
   "cell_type": "code",
   "execution_count": 2,
   "metadata": {
    "collapsed": true
   },
   "outputs": [],
   "source": [
    "from mangaki.utils.als import MangakiALS\n",
    "from mangaki.utils.data import Dataset\n",
    "from mangaki.utils.algo import fit_algo\n",
    "\n",
    "#ratings = Rating.objects.values_list('user_id', 'work_id', 'choice')\n",
    "#fit_algo('als', ratings)\n",
    "algo = MangakiALS(20)\n",
    "algo.load(algo.get_backup_filename())\n",
    "dataset = Dataset()\n",
    "dataset.load('ratings-' + algo.get_backup_filename())"
   ]
  },
  {
   "cell_type": "code",
   "execution_count": 15,
   "metadata": {
    "collapsed": true
   },
   "outputs": [],
   "source": [
    "class Tree:\n",
    "    def __init__(self):\n",
    "        pass\n",
    "\n",
    "    def get_bulk(self, history = None):\n",
    "        if history is None:\n",
    "            return [13, 15, 131, 137, 8765]\n",
    "        else:\n",
    "            print('second run')\n",
    "            return [2569, 2336, 3393, 3400, 1089]"
   ]
  },
  {
   "cell_type": "code",
   "execution_count": 16,
   "metadata": {
    "collapsed": true
   },
   "outputs": [],
   "source": [
    "import numpy as np\n",
    "\n",
    "class NewUser:\n",
    "    def __init__(self, model, my_user_id, truth):\n",
    "        self.user_id = my_user_id\n",
    "        self.model = model\n",
    "        self.truth = truth\n",
    "        self.history = []\n",
    "        # clf = LinearRegression(fit_intercept=False)\n",
    "        # clf2 = LogisticRegression(fit_intercept=False)\n",
    "        \"\"\"if len(set(yl)) >= 2:\n",
    "            happened += 1\n",
    "            clf2 = LogisticRegression(fit_intercept=False)\n",
    "            # clf.fit(X, y)\n",
    "            clf2.fit(X, yl)\n",
    "            clf.coef_ = clf2.coef_\n",
    "            clf.intercept_ = 0.\"\"\"\n",
    "\n",
    "    def ask(self, work_ids):\n",
    "        # r_bonus\n",
    "        # self.model = MangakiALS(NB_COMPONENTS)\n",
    "        # self.model.set_parameters(dataset.anonymized.nb_users, dataset.anonymized.nb_works)\n",
    "        # self.model.fit(dataset.anonymized.X[r_train + r_bonus], dataset.anonymized.y[r_train + r_bonus])\n",
    "        replied = []\n",
    "        choices = []\n",
    "        for work_id in work_ids:\n",
    "            if work_id in self.truth:\n",
    "                replied.append(work_id)\n",
    "                choices.append(self.truth[work_id])\n",
    "        self.history.append((work_ids, replied, choices))\n",
    "        #print(replied, choices)\n",
    "        print('Reply rate', len(choices) / len(work_ids))\n",
    "        mean = np.mean(choices)\n",
    "        self.model.means[self.user_id] = mean\n",
    "        bonus_ratings = {self.user_id: {work_id: choice - mean for work_id, choice in zip(work_ids, choices)}}\n",
    "        print(bonus_ratings)\n",
    "        self.model.fit_user(self.user_id, bonus_ratings)\n",
    "    \n",
    "    def predict(self, work_ids):\n",
    "        return self.model.predict(np.array([[self.user_id, work_id] for work_id in work_ids]))\n",
    "\n",
    "    def get_truth(self, work_ids):\n",
    "        return [self.truth.get(work_id) for work_id in work_ids]\n",
    "\n",
    "    def compute_error(self, work_ids):\n",
    "        y_pred = self.predict(work_ids)\n",
    "        print(y_pred)\n",
    "        y_true = self.get_truth(work_ids)\n",
    "        print('was:', y_true)\n",
    "        print('RMSE:', self.model.compute_rmse(y_pred, y_true))\n",
    "    \n",
    "    def get_history(self):\n",
    "        flat_history = {}\n",
    "        for work_ids, replied, choices in self.history:\n",
    "            for work_id, choice in zip(replied, choices):\n",
    "                flat_history[work_id] = choice\n",
    "        return flat_history"
   ]
  },
  {
   "cell_type": "code",
   "execution_count": 22,
   "metadata": {
    "collapsed": true
   },
   "outputs": [],
   "source": [
    "def get_truth(my_user_id, dataset):\n",
    "    truth = {}\n",
    "    for (user_id, work_id), choice in zip(dataset.anonymized.X, dataset.anonymized.y):\n",
    "        if user_id == my_user_id:\n",
    "            truth[work_id] = choice\n",
    "    return truth\n",
    "\n",
    "truth = get_truth(1036, dataset)"
   ]
  },
  {
   "cell_type": "code",
   "execution_count": 23,
   "metadata": {
    "scrolled": false
   },
   "outputs": [
    {
     "name": "stdout",
     "output_type": "stream",
     "text": [
      "[ 0.48629922  0.48119145  0.10084038 -0.2811303   1.53073638  0.64427437\n",
      "  0.57450067  1.05109368]\n",
      "was: [None, None, 0.10000000000000001, None, 2.0, None, None, 2.0]\n",
      "RMSE: 0.611182530697\n",
      "[13, 15, 131, 137, 8765]\n",
      "Reply rate 0.4\n",
      "{1036: {13: -2.0, 15: 2.0}}\n",
      "[ 0.13802336  0.13291559 -0.24743548 -0.62940616  1.18246052  0.29599851\n",
      "  0.2262248   0.70281782]\n",
      "was: [None, None, 0.10000000000000001, None, 2.0, None, None, 2.0]\n",
      "RMSE: 0.907701095584\n",
      "second run\n",
      "[2569, 2336, 3393, 3400, 1089]\n",
      "Reply rate 0.4\n",
      "{1036: {2569: -0.95000000000000007, 2336: 0.94999999999999996}}\n",
      "[ 1.18802336  1.18291559  0.80256452  0.42059384  2.23246052  1.34599851\n",
      "  1.2762248   1.75281782]\n",
      "was: [None, None, 0.10000000000000001, None, 2.0, None, None, 2.0]\n",
      "RMSE: 0.450456739622\n"
     ]
    }
   ],
   "source": [
    "JURY = [137, 1089, 2569, 2336, 3393, 3400, 3900, 242]\n",
    "\n",
    "user = NewUser(algo, 1036, truth)\n",
    "# ALS train\n",
    "user.compute_error(JURY)\n",
    "# Restart with multistage tree\n",
    "tree = Tree()\n",
    "work_ids = tree.get_bulk()\n",
    "#work_ids = list(truth.keys())[:5]\n",
    "print(work_ids)\n",
    "user.ask(work_ids)\n",
    "#user.compute_error(work_ids)\n",
    "user.compute_error(JURY)\n",
    "work_ids = tree.get_bulk(user.get_history())\n",
    "print(work_ids)\n",
    "user.ask(work_ids)\n",
    "#user.compute_error(work_ids)\n",
    "user.compute_error(JURY)"
   ]
  },
  {
   "cell_type": "code",
   "execution_count": 12,
   "metadata": {},
   "outputs": [],
   "source": [
    "dataset.titles = {}\n",
    "for work_id, title in Work.objects.values_list('id', 'title'):\n",
    "    dataset.titles[work_id] = title"
   ]
  },
  {
   "cell_type": "code",
   "execution_count": 20,
   "metadata": {},
   "outputs": [
    {
     "data": {
      "text/plain": [
       "[[13, 'Death Note', 2.0],\n",
       " [53, 'Berry Dynamite', 2.0],\n",
       " [74, 'Magi - The Labyrinth of Magic', 2.0],\n",
       " [242, 'Naruto', 0.10000000000000001],\n",
       " [364, 'Gourmet solitaire (le)', 2.0],\n",
       " [400, 'Tokyo ghoul', 2.0],\n",
       " [445, '20th century boys', 0.10000000000000001],\n",
       " [449, 'Lost Paradise', 0.10000000000000001],\n",
       " [517, 'Monster', 2.0],\n",
       " [571, 'Acid Town', 0.5],\n",
       " [588, 'Nausicaa', 2.0],\n",
       " [704, 'Bride Stories', 2.0],\n",
       " [716, \"Vision d'Escaflowne\", 0.10000000000000001],\n",
       " [717, 'Bamboo Blade', 0.5],\n",
       " [718, 'To Love', -2.0]]"
      ]
     },
     "execution_count": 20,
     "metadata": {},
     "output_type": "execute_result"
    }
   ],
   "source": [
    "sorted([key, dataset.titles[dataset.decode_work[key]], truth[key]] for key in truth.keys())[:15]"
   ]
  },
  {
   "cell_type": "code",
   "execution_count": 98,
   "metadata": {},
   "outputs": [
    {
     "data": {
      "text/plain": [
       "array([[ 852, 5546],\n",
       "       [1596, 8593],\n",
       "       [1036, 6178],\n",
       "       ..., \n",
       "       [ 426,  401],\n",
       "       [1139, 5611],\n",
       "       [ 665, 9257]])"
      ]
     },
     "execution_count": 98,
     "metadata": {},
     "output_type": "execute_result"
    }
   ],
   "source": [
    "dataset.anonymized.X"
   ]
  }
 ],
 "metadata": {
  "kernelspec": {
   "display_name": "Django Shell-Plus",
   "language": "python",
   "name": "django_extensions"
  }
 },
 "nbformat": 4,
 "nbformat_minor": 2
}
