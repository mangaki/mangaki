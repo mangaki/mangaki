{
 "cells": [
  {
   "cell_type": "code",
   "execution_count": 2,
   "metadata": {},
   "outputs": [],
   "source": [
    "from mangaki.utils.svd import MangakiSVD\n",
    "from mangaki.utils.als import MangakiALS\n",
    "from mangaki.utils.pca import MangakiPCA\n",
    "from mangaki.utils.knn import MangakiKNN\n",
    "import numpy as np\n",
    "from mangaki.utils.values import rating_values\n",
    "from mangaki.utils.data import Dataset\n",
    "\n",
    "#ratings = pandas.read_csv('../data/ratings-ml.csv', header=None).as_matrix()\n",
    "#works = pandas.read_csv('../data/works-ml.csv', header=None).as_matrix()\n",
    "dataset = Dataset()\n",
    "#triplets = Rating.objects.values_list('user_id', 'work_id', 'choice')\n",
    "#titles = Work.objects.values_list('id', 'title')\n",
    "#dataset.make_anonymous_data(triplets, convert=lambda choice: rating_values[choice])\n",
    "#dataset.titles = dict(titles)\n",
    "#dataset.load_csv('ratings.csv', convert=lambda choice: rating_values[choice])"
   ]
  },
  {
   "cell_type": "code",
   "execution_count": 3,
   "metadata": {},
   "outputs": [],
   "source": [
    "# dataset.save('coucou.lol')\n",
    "dataset.load('coucou.lol')"
   ]
  },
  {
   "cell_type": "code",
   "execution_count": 4,
   "metadata": {},
   "outputs": [
    {
     "name": "stdout",
     "output_type": "stream",
     "text": [
      "Computing M: (1993 × 9249)\n",
      "Chrono: fill and center matrix [0q, 881ms]\n",
      "Shapes (1993, 20) (20,) (20, 9249)\n",
      "Chrono: factor matrix [0q, 1384ms]\n"
     ]
    },
    {
     "data": {
      "text/plain": [
       "1.0504167907083839"
      ]
     },
     "execution_count": 4,
     "metadata": {},
     "output_type": "execute_result"
    }
   ],
   "source": [
    "svd = MangakiSVD(20)\n",
    "svd.set_parameters(dataset.anonymized.nb_users, dataset.anonymized.nb_works)\n",
    "svd.fit(dataset.anonymized.X, dataset.anonymized.y)\n",
    "\n",
    "svd.compute_rmse(svd.predict(dataset.anonymized.X), dataset.anonymized.y)\n",
    "# PCA 1.509\n",
    "# KNN 1.159\n",
    "# SVD 1.088\n",
    "# ALS 0.821"
   ]
  },
  {
   "cell_type": "code",
   "execution_count": 5,
   "metadata": {},
   "outputs": [
    {
     "name": "stdout",
     "output_type": "stream",
     "text": [
      "[ 0.62849342  0.3102376   0.41391743  1.51274366 -0.44330492  1.72244485\n",
      "  1.00221141  1.47542882  1.6800057   1.32631059 -0.31028602  0.06093976\n",
      "  1.49894137 -1.96755594  1.23170452 -0.77305132  1.5538647   0.1093994\n",
      "  0.63371204  1.76863607]\n",
      "[ 0.5 -2.  -0.5  2.  -2.  -2.  -2.   2.   2.   2.  -0.5 -0.5  2.  -2.   2.\n",
      " -2.   2.  -0.5  0.1  2. ]\n"
     ]
    }
   ],
   "source": [
    "print(svd.predict(dataset.anonymized.X)[:20])\n",
    "print(dataset.anonymized.y[:20])"
   ]
  },
  {
   "cell_type": "code",
   "execution_count": 6,
   "metadata": {},
   "outputs": [],
   "source": [
    "encoded_popular = dataset.encode_works(Work.objects.popular().values_list('id', flat=True)[:100])"
   ]
  },
  {
   "cell_type": "code",
   "execution_count": 7,
   "metadata": {},
   "outputs": [],
   "source": [
    "from mangaki.utils.dpp import MangakiDPP\n",
    "dpp = MangakiDPP(encoded_popular, svd.VT.T[encoded_popular])\n",
    "# dpp.set\n",
    "dpp.preprocess()"
   ]
  },
  {
   "cell_type": "code",
   "execution_count": 18,
   "metadata": {},
   "outputs": [],
   "source": [
    "sampled_items = dpp.sample_k(6)\n",
    "vectors = svd.VT.T"
   ]
  },
  {
   "cell_type": "code",
   "execution_count": 19,
   "metadata": {},
   "outputs": [
    {
     "name": "stdout",
     "output_type": "stream",
     "text": [
      "20 Durarara!!\n",
      "106 Mon voisin Totoro\n",
      "1973 Fate/stay night: Unlimited Blade Works (TV) - Prologue\n",
      "6 Bleach\n",
      "8 Fullmetal Alchemist\n",
      "43 Kill la Kill\n"
     ]
    }
   ],
   "source": [
    "for encoded_work_id in sampled_items:\n",
    "    work_id = dataset.decode_work[encoded_work_id]\n",
    "    print(work_id, dataset.titles[work_id])"
   ]
  },
  {
   "cell_type": "code",
   "execution_count": 20,
   "metadata": {},
   "outputs": [],
   "source": [
    "X = vectors[sampled_items]\n",
    "# 1..-1\n",
    "# X = svd.VT.T[np.array(sampled_items)[np.array([0, 3, 4, 5, 6, 7, 8, 9])]]"
   ]
  },
  {
   "cell_type": "code",
   "execution_count": 21,
   "metadata": {},
   "outputs": [
    {
     "data": {
      "text/plain": [
       "array([[ 0.49426624,  0.50573376],\n",
       "       [ 0.48525023,  0.51474977],\n",
       "       [ 0.5068761 ,  0.4931239 ],\n",
       "       [ 0.53019504,  0.46980496],\n",
       "       [ 0.47527726,  0.52472274],\n",
       "       [ 0.49145904,  0.50854096]])"
      ]
     },
     "execution_count": 21,
     "metadata": {},
     "output_type": "execute_result"
    }
   ],
   "source": [
    "from sklearn.linear_model import LogisticRegression\n",
    "# from sklearn.linear_model import LinearRegression\n",
    "\n",
    "clf = LogisticRegression(fit_intercept=False)\n",
    "# clf = LinearRegression(fit_intercept=False)\n",
    "clf.fit(X, [1, 1, -1, -1, 1, 1])\n",
    "#pred = clf.coef_[0]\n",
    "predx, predy = clf.coef_[0][:2]\n",
    "clf.predict_proba(X)"
   ]
  },
  {
   "cell_type": "code",
   "execution_count": 22,
   "metadata": {},
   "outputs": [
    {
     "data": {
      "text/plain": [
       "(0.23513121223512387, -0.023064798815166338)"
      ]
     },
     "execution_count": 22,
     "metadata": {},
     "output_type": "execute_result"
    }
   ],
   "source": [
    "#clf.coef_\n",
    "predx, predy"
   ]
  },
  {
   "cell_type": "code",
   "execution_count": 24,
   "metadata": {},
   "outputs": [
    {
     "ename": "NameError",
     "evalue": "name 'works' is not defined",
     "output_type": "error",
     "traceback": [
      "\u001b[0;31m---------------------------------------------------------------------------\u001b[0m",
      "\u001b[0;31mNameError\u001b[0m                                 Traceback (most recent call last)",
      "\u001b[0;32m<ipython-input-24-d6aec6b321eb>\u001b[0m in \u001b[0;36m<module>\u001b[0;34m()\u001b[0m\n\u001b[1;32m     41\u001b[0m         \u001b[0mself\u001b[0m\u001b[0;34m.\u001b[0m\u001b[0mdisplay\u001b[0m\u001b[0;34m(\u001b[0m\u001b[0mx\u001b[0m\u001b[0;34m,\u001b[0m \u001b[0my\u001b[0m\u001b[0;34m)\u001b[0m\u001b[0;34m\u001b[0m\u001b[0m\n\u001b[1;32m     42\u001b[0m \u001b[0;34m\u001b[0m\u001b[0m\n\u001b[0;32m---> 43\u001b[0;31m \u001b[0mtitles\u001b[0m \u001b[0;34m=\u001b[0m \u001b[0mworks\u001b[0m\u001b[0;34m[\u001b[0m\u001b[0;34m:\u001b[0m\u001b[0;34m,\u001b[0m \u001b[0;36m1\u001b[0m\u001b[0;34m]\u001b[0m\u001b[0;34m.\u001b[0m\u001b[0mtolist\u001b[0m\u001b[0;34m(\u001b[0m\u001b[0;34m)\u001b[0m\u001b[0;34m\u001b[0m\u001b[0m\n\u001b[0m\u001b[1;32m     44\u001b[0m \u001b[0mviz\u001b[0m \u001b[0;34m=\u001b[0m \u001b[0mMangakiViz\u001b[0m\u001b[0;34m(\u001b[0m\u001b[0mtitles\u001b[0m\u001b[0;34m,\u001b[0m \u001b[0msvd\u001b[0m\u001b[0;34m.\u001b[0m\u001b[0mVT\u001b[0m\u001b[0;34m.\u001b[0m\u001b[0mT\u001b[0m\u001b[0;34m,\u001b[0m \u001b[0mpopular\u001b[0m\u001b[0;34m,\u001b[0m \u001b[0msampled_items\u001b[0m\u001b[0;34m)\u001b[0m\u001b[0;34m\u001b[0m\u001b[0m\n\u001b[1;32m     45\u001b[0m \u001b[0;31m# viz.where_am_i((-0.61951029531106994, -0.15674103238147402))  # Old Ryan\u001b[0m\u001b[0;34m\u001b[0m\u001b[0;34m\u001b[0m\u001b[0m\n",
      "\u001b[0;31mNameError\u001b[0m: name 'works' is not defined"
     ]
    }
   ],
   "source": [
    "%matplotlib notebook\n",
    "import matplotlib.pyplot as plt\n",
    "\n",
    "class MangakiViz:\n",
    "    label = None\n",
    "    def __init__(self, titles, coords, drawn, featured):\n",
    "        fig = plt.figure()\n",
    "        self.label = {}\n",
    "        for p_id in drawn:\n",
    "            x, y = coords[p_id, 0], coords[p_id, 1]\n",
    "            self.label[(x, y)] = titles[p_id]\n",
    "            if p_id in featured:\n",
    "                plt.plot(x, y, 'sb')  # Special points\n",
    "                self.display(x, y)\n",
    "            else:\n",
    "                plt.plot(x, y, '+g', picker=5)\n",
    "        # plt.plot(jjx, jjy, 'or')\n",
    "        # plt.plot(predx, predy, 'og')\n",
    "        fig.canvas.mpl_connect('pick_event', self.onpick)\n",
    "    \n",
    "    def display(self, x, y):\n",
    "        plt.annotate(self.label[(x, y)], xy=(x, y), xycoords='data',\n",
    "            xytext=(-30, -30), textcoords='offset points',\n",
    "            arrowprops=dict(arrowstyle=\"->\",\n",
    "                            connectionstyle=\"arc3,rad=.2\")\n",
    "            )\n",
    "    \n",
    "    def where_am_i(self, point):\n",
    "        plt.plot(point[0], point[1], 'or')\n",
    "    \n",
    "    def draw_history(self, history):\n",
    "        plt.plot(history[:, 0], history[:, 1], 'og')\n",
    "    \n",
    "    def onpick(self, event):\n",
    "        thisline = event.artist\n",
    "        xdata = thisline.get_xdata()\n",
    "        ydata = thisline.get_ydata()\n",
    "        ind = event.ind\n",
    "        points = tuple(zip(xdata[ind], ydata[ind]))\n",
    "        x, y = points[0]\n",
    "        self.display(x, y)\n",
    "\n",
    "titles = works[:, 1].tolist()\n",
    "viz = MangakiViz(titles, svd.VT.T, popular, sampled_items)\n",
    "# viz.where_am_i((-0.61951029531106994, -0.15674103238147402))  # Old Ryan\n",
    "viz.where_am_i((clf.coef_[0][:2]))"
   ]
  },
  {
   "cell_type": "code",
   "execution_count": 17,
   "metadata": {},
   "outputs": [
    {
     "ename": "IndexError",
     "evalue": "index 1587 is out of bounds for axis 0 with size 668",
     "output_type": "error",
     "traceback": [
      "\u001b[0;31m---------------------------------------------------------------------------\u001b[0m",
      "\u001b[0;31mIndexError\u001b[0m                                Traceback (most recent call last)",
      "\u001b[0;32m<ipython-input-17-b7d1f6a848e8>\u001b[0m in \u001b[0;36m<module>\u001b[0;34m()\u001b[0m\n\u001b[0;32m----> 1\u001b[0;31m \u001b[0mjj\u001b[0m \u001b[0;34m=\u001b[0m \u001b[0msvd\u001b[0m\u001b[0;34m.\u001b[0m\u001b[0mU\u001b[0m\u001b[0;34m[\u001b[0m\u001b[0mJJ\u001b[0m\u001b[0;34m]\u001b[0m\u001b[0;34m\u001b[0m\u001b[0m\n\u001b[0m\u001b[1;32m      2\u001b[0m \u001b[0;32mfor\u001b[0m \u001b[0mwork_id\u001b[0m \u001b[0;32min\u001b[0m \u001b[0msampled_items\u001b[0m\u001b[0;34m:\u001b[0m\u001b[0;34m\u001b[0m\u001b[0m\n\u001b[1;32m      3\u001b[0m     \u001b[0mprint\u001b[0m\u001b[0;34m(\u001b[0m\u001b[0mtitles\u001b[0m\u001b[0;34m[\u001b[0m\u001b[0mwork_id\u001b[0m\u001b[0;34m]\u001b[0m\u001b[0;34m,\u001b[0m \u001b[0mround\u001b[0m\u001b[0;34m(\u001b[0m\u001b[0mjj\u001b[0m\u001b[0;34m.\u001b[0m\u001b[0mdot\u001b[0m\u001b[0;34m(\u001b[0m\u001b[0msvd\u001b[0m\u001b[0;34m.\u001b[0m\u001b[0mVT\u001b[0m\u001b[0;34m.\u001b[0m\u001b[0mT\u001b[0m\u001b[0;34m[\u001b[0m\u001b[0mwork_id\u001b[0m\u001b[0;34m]\u001b[0m\u001b[0;34m)\u001b[0m\u001b[0;34m,\u001b[0m \u001b[0;36m6\u001b[0m\u001b[0;34m)\u001b[0m\u001b[0;34m)\u001b[0m\u001b[0;34m\u001b[0m\u001b[0m\n",
      "\u001b[0;31mIndexError\u001b[0m: index 1587 is out of bounds for axis 0 with size 668"
     ]
    }
   ],
   "source": [
    "jj = svd.U[JJ]\n",
    "for work_id in sampled_items:\n",
    "    print(titles[work_id], round(jj.dot(svd.VT.T[work_id]), 6))"
   ]
  },
  {
   "cell_type": "code",
   "execution_count": 9,
   "metadata": {
    "collapsed": true
   },
   "outputs": [],
   "source": [
    "svd.VT = svd.VT_"
   ]
  },
  {
   "cell_type": "code",
   "execution_count": 15,
   "metadata": {
    "collapsed": true
   },
   "outputs": [],
   "source": [
    "u = pandas.read_csv('~/code/qna/notebooks/u.csv').as_matrix()\n",
    "v = pandas.read_csv('~/code/qna/notebooks/v.csv').as_matrix()\n",
    "history = pandas.read_csv('~/code/qna/notebooks/testlog.csv').as_matrix()"
   ]
  },
  {
   "cell_type": "code",
   "execution_count": 27,
   "metadata": {},
   "outputs": [
    {
     "ename": "TypeError",
     "evalue": "'int' object is not subscriptable",
     "output_type": "error",
     "traceback": [
      "\u001b[0;31m---------------------------------------------------------------------------\u001b[0m",
      "\u001b[0;31mTypeError\u001b[0m                                 Traceback (most recent call last)",
      "\u001b[0;32m<ipython-input-27-62ef790f5a7d>\u001b[0m in \u001b[0;36m<module>\u001b[0;34m()\u001b[0m\n\u001b[0;32m----> 1\u001b[0;31m \u001b[0mtitles\u001b[0m \u001b[0;34m=\u001b[0m \u001b[0mv\u001b[0m\u001b[0;34m[\u001b[0m\u001b[0;34m:\u001b[0m\u001b[0;34m,\u001b[0m \u001b[0;36m0\u001b[0m\u001b[0;34m]\u001b[0m\u001b[0;34m.\u001b[0m\u001b[0mtolist\u001b[0m\u001b[0;34m(\u001b[0m\u001b[0;34m)\u001b[0m\u001b[0;34m\u001b[0m\u001b[0m\n\u001b[0m\u001b[1;32m      2\u001b[0m \u001b[0mcoords\u001b[0m \u001b[0;34m=\u001b[0m \u001b[0mv\u001b[0m\u001b[0;34m[\u001b[0m\u001b[0;34m:\u001b[0m\u001b[0;34m,\u001b[0m \u001b[0;34m[\u001b[0m\u001b[0;36m1\u001b[0m\u001b[0;34m,\u001b[0m \u001b[0;36m2\u001b[0m\u001b[0;34m]\u001b[0m\u001b[0;34m]\u001b[0m\u001b[0;34m\u001b[0m\u001b[0m\n\u001b[1;32m      3\u001b[0m \u001b[0mdrawn\u001b[0m \u001b[0;34m=\u001b[0m \u001b[0mrange\u001b[0m\u001b[0;34m(\u001b[0m\u001b[0;36m150\u001b[0m\u001b[0;34m)\u001b[0m\u001b[0;34m\u001b[0m\u001b[0m\n\u001b[1;32m      4\u001b[0m \u001b[0mfeatured\u001b[0m \u001b[0;34m=\u001b[0m \u001b[0;34m[\u001b[0m\u001b[0;34m]\u001b[0m\u001b[0;34m\u001b[0m\u001b[0m\n\u001b[1;32m      5\u001b[0m \u001b[0mviz\u001b[0m \u001b[0;34m=\u001b[0m \u001b[0mMangakiViz\u001b[0m\u001b[0;34m(\u001b[0m\u001b[0mtitles\u001b[0m\u001b[0;34m,\u001b[0m \u001b[0mcoords\u001b[0m\u001b[0;34m,\u001b[0m \u001b[0mdrawn\u001b[0m\u001b[0;34m,\u001b[0m \u001b[0mfeatured\u001b[0m\u001b[0;34m)\u001b[0m\u001b[0;34m\u001b[0m\u001b[0m\n",
      "\u001b[0;31mTypeError\u001b[0m: 'int' object is not subscriptable"
     ]
    }
   ],
   "source": [
    "titles = v[:, 0].tolist()\n",
    "coords = v[:, [1, 2]]\n",
    "drawn = range(150)\n",
    "featured = []\n",
    "viz = MangakiViz(titles, coords, drawn, featured)\n",
    "viz.where_am_i(u[1372][[1,2]])\n",
    "viz.draw_history(history[:, [1, 2]])"
   ]
  },
  {
   "cell_type": "code",
   "execution_count": 131,
   "metadata": {},
   "outputs": [
    {
     "data": {
      "text/plain": [
       "(-0.61951029531106994, -0.15674103238147402)"
      ]
     },
     "execution_count": 131,
     "metadata": {},
     "output_type": "execute_result"
    }
   ],
   "source": [
    "predx, predy"
   ]
  },
  {
   "cell_type": "code",
   "execution_count": 86,
   "metadata": {
    "collapsed": true
   },
   "outputs": [],
   "source": [
    "contestants = list(zip(range(len(titles)), titles, clf.predict_proba(svd.VT.T)))\n",
    "# contestants.sort(key=lambda x: abs(x[2][1] - 0.5))\n",
    "contestants.sort(key=lambda x: x[2][0])"
   ]
  },
  {
   "cell_type": "code",
   "execution_count": 87,
   "metadata": {},
   "outputs": [
    {
     "data": {
      "text/plain": [
       "[(4692, 'Fullmetal Alchemist: Brotherhood', array([ 0.47216452,  0.52783548])),\n",
       " (5908, 'Fullmetal Alchemist', array([ 0.47536968,  0.52463032])),\n",
       " (2769, 'Clannad', array([ 0.47963831,  0.52036169])),\n",
       " (1239, 'Clannad: After Story', array([ 0.48216401,  0.51783599])),\n",
       " (5894, 'Angel Beats!', array([ 0.48639984,  0.51360016])),\n",
       " (2236,\n",
       "  'Fullmetal Alchemist: Brotherhood OVA Collection',\n",
       "  array([ 0.48786182,  0.51213818])),\n",
       " (898, 'Toradora!', array([ 0.48877736,  0.51122264])),\n",
       " (8078,\n",
       "  'Clannad After Story: Another World, Kyou Chapter',\n",
       "  array([ 0.49040025,  0.50959975])),\n",
       " (2676, 'Death Note', array([ 0.49061045,  0.50938955])),\n",
       " (3509, 'FullMetal Alchemist', array([ 0.49087285,  0.50912715])),\n",
       " (5147, 'Spice & Wolf', array([ 0.49166404,  0.50833596])),\n",
       " (2112, 'Spice & Wolf II', array([ 0.49182697,  0.50817303])),\n",
       " (3395, 'Clannad - Movie', array([ 0.49185913,  0.50814087])),\n",
       " (7851,\n",
       "  'Clannad: Another World, Tomoyo Chapter',\n",
       "  array([ 0.49202264,  0.50797736])),\n",
       " (6555, 'Elfen Lied', array([ 0.49259725,  0.50740275])),\n",
       " (8690,\n",
       "  'Ano Hi Mita Hana no Namae wo Bokutachi wa Mada Shiranai.',\n",
       "  array([ 0.49268316,  0.50731684])),\n",
       " (7461, 'Spice and Wolf II', array([ 0.49309776,  0.50690224])),\n",
       " (5435,\n",
       "  'Fullmetal Alchemist: Premium OVA Collection',\n",
       "  array([ 0.49332375,  0.50667625])),\n",
       " (3512, 'Dragon Ball Z', array([ 0.49345361,  0.50654639])),\n",
       " (3152,\n",
       "  'Fullmetal Alchemist: The Sacred Star of Milos',\n",
       "  array([ 0.49350003,  0.50649997])),\n",
       " (2752, 'Naruto: Shippuuden', array([ 0.49396369,  0.50603631])),\n",
       " (4410,\n",
       "  'Fullmetal Alchemist - Edition reliée',\n",
       "  array([ 0.49400234,  0.50599766])),\n",
       " (2440, 'Fullmetal Alchemist: Reflections', array([ 0.49430095,  0.50569905])),\n",
       " (5596,\n",
       "  'Fullmetal Alchemist: The Conqueror of Shamballa',\n",
       "  array([ 0.49445912,  0.50554088])),\n",
       " (6356, 'Card Captor Sakura', array([ 0.49462898,  0.50537102])),\n",
       " (4223, 'Sakurasou no Pet na Kanojo', array([ 0.49482744,  0.50517256])),\n",
       " (6752, 'Angel Beats!: Another Epilogue', array([ 0.4948768,  0.5051232])),\n",
       " (5776, 'Kanon (2006)', array([ 0.49503928,  0.50496072])),\n",
       " (4784, 'K-On!', array([ 0.49505329,  0.50494671])),\n",
       " (1083, 'Naruto', array([ 0.49535386,  0.50464614])),\n",
       " (6184, 'Kaichou wa Maid-sama!', array([ 0.49548364,  0.50451636])),\n",
       " (7169, 'Death note', array([ 0.4954978,  0.5045022])),\n",
       " (119, 'Lucky☆Star', array([ 0.49549959,  0.50450041])),\n",
       " (1796, 'Chuunibyou demo Koi ga Shitai!', array([ 0.49559323,  0.50440677])),\n",
       " (3310, 'Golden Time', array([ 0.49561631,  0.50438369])),\n",
       " (2557, 'Kimi ni Todoke', array([ 0.49564143,  0.50435857])),\n",
       " (1723, 'K-ON! The Movie', array([ 0.49566744,  0.50433256])),\n",
       " (3345, 'Waiting in the Summer', array([ 0.49568613,  0.50431387])),\n",
       " (2925, 'ef ~ A Tale of Memories', array([ 0.49571899,  0.50428101])),\n",
       " (3480, 'Bunny Drop', array([ 0.49573565,  0.50426435])),\n",
       " (3664, 'K-On!!', array([ 0.49584303,  0.50415697])),\n",
       " (8077, 'Great Teacher Onizuka', array([ 0.495884,  0.504116])),\n",
       " (667, 'Higurashi no Naku Koro ni', array([ 0.49603173,  0.50396827])),\n",
       " (6704,\n",
       "  'Kami nomi zo Shiru Sekai (Que sa volonté soit faite)',\n",
       "  array([ 0.49618409,  0.50381591])),\n",
       " (3715, 'Kokoro Connect', array([ 0.49635994,  0.50364006])),\n",
       " (8600, 'Shuffle!', array([ 0.49636393,  0.50363607])),\n",
       " (441, 'Chobits', array([ 0.49640789,  0.50359211])),\n",
       " (5206, 'Kokoro Connect: Michi Random', array([ 0.49650814,  0.50349186])),\n",
       " (5281, 'Higurashi no Naku Koro ni Kai', array([ 0.49664866,  0.50335134])),\n",
       " (1791,\n",
       "  'Ground Control to Psychoelectric Girl',\n",
       "  array([ 0.49670033,  0.50329967])),\n",
       " (6602, 'City Hunter', array([ 0.49674551,  0.50325449])),\n",
       " (5099, 'Suzumiya Haruhi no Yuuutsu', array([ 0.49675431,  0.50324569])),\n",
       " (1530, 'Working!!', array([ 0.4968641,  0.5031359])),\n",
       " (5356, 'ef ~ A Tale of Melodies', array([ 0.4968668,  0.5031332])),\n",
       " (6007, 'Non Non Biyori', array([ 0.49687544,  0.50312456])),\n",
       " (1030, 'Nisemonogatari', array([ 0.4969677,  0.5030323])),\n",
       " (1116, 'Bakemonogatari', array([ 0.49698812,  0.50301188])),\n",
       " (680, 'Hataraku Maou-sama!', array([ 0.49699748,  0.50300252])),\n",
       " (1720, 'Phantom: Requiem for the Phantom', array([ 0.49701123,  0.50298877])),\n",
       " (3868, 'Cardcaptor Sakura: The Movie', array([ 0.49703865,  0.50296135])),\n",
       " (8067, 'Hyouka', array([ 0.49707668,  0.50292332])),\n",
       " (5843, 'Steins;Gate: Egoistic Poriomania', array([ 0.49709419,  0.50290581])),\n",
       " (546, 'Suzumiya Haruhi no Shoushitsu', array([ 0.49713264,  0.50286736])),\n",
       " (972, 'Brynhildr in the Darkness', array([ 0.49719113,  0.50280887])),\n",
       " (2728, 'Another', array([ 0.49723906,  0.50276094])),\n",
       " (2914,\n",
       "  'Suzumiya Haruhi no Yuuutsu (2009)',\n",
       "  array([ 0.49726462,  0.50273538])),\n",
       " (1258, 'Time of Eve (Movie)', array([ 0.49727773,  0.50272227])),\n",
       " (8151, 'Amagami SS', array([ 0.49729609,  0.50270391])),\n",
       " (1678, 'Higashi no Eden', array([ 0.49731619,  0.50268381])),\n",
       " (6726, 'Nisekoi', array([ 0.49742758,  0.50257242])),\n",
       " (1669, 'City Hunter', array([ 0.49744024,  0.50255976])),\n",
       " (2634,\n",
       "  'Card Captor Sakura Movie 2: The Sealed Card',\n",
       "  array([ 0.49744155,  0.50255845])),\n",
       " (2243, 'Noir', array([ 0.49749671,  0.50250329])),\n",
       " (6285, 'Hidamari Sketch', array([ 0.4975171,  0.5024829])),\n",
       " (6524, 'Love Hina', array([ 0.49752835,  0.50247165])),\n",
       " (8363, 'Dragon Ball', array([ 0.49753825,  0.50246175])),\n",
       " (7555, 'Nodame Cantabile Paris Hen', array([ 0.49754464,  0.50245536])),\n",
       " (5929,\n",
       "  'The \"Hentai\" Prince and the Stony Cat.',\n",
       "  array([ 0.49758535,  0.50241465])),\n",
       " (1115, 'Gosick', array([ 0.49761183,  0.50238817])),\n",
       " (1875,\n",
       "  'Lucky☆Star: Original na Visual to Animation',\n",
       "  array([ 0.4976379,  0.5023621])),\n",
       " (7250, 'Nodame Cantabile', array([ 0.49763808,  0.50236192])),\n",
       " (1763, 'Diabolik Lovers', array([ 0.49764171,  0.50235829])),\n",
       " (3076, 'Kimi ni Todoke 2nd Season', array([ 0.4976444,  0.5023556])),\n",
       " (2072, 'K-On!: Live House!', array([ 0.49764719,  0.50235281])),\n",
       " (2412, 'Koe de Oshigoto!', array([ 0.49764875,  0.50235125])),\n",
       " (4731, 'High school of the dead', array([ 0.49766758,  0.50233242])),\n",
       " (5510, 'My Ordinary Life', array([ 0.49768499,  0.50231501])),\n",
       " (6465, 'Spice and Wolf', array([ 0.49772106,  0.50227894])),\n",
       " (5770, 'Dennou Coil', array([ 0.49773007,  0.50226993])),\n",
       " (6965, 'Shakugan no Shana', array([ 0.49777076,  0.50222924])),\n",
       " (2175,\n",
       "  'Berserk: The Golden Age Arc II - The Battle for Doldrey',\n",
       "  array([ 0.49782421,  0.50217579])),\n",
       " (8369, 'Air', array([ 0.49782794,  0.50217206])),\n",
       " (1142,\n",
       "  'The Melancholy of Haruhi-chan Suzumiya',\n",
       "  array([ 0.49783547,  0.50216453])),\n",
       " (782, 'Amagi Brilliant Park', array([ 0.49783619,  0.50216381])),\n",
       " (7906, 'Karin, Chibi Vampire', array([ 0.49786304,  0.50213696])),\n",
       " (7221, 'Usagi Drop Specials', array([ 0.49786664,  0.50213336])),\n",
       " (4176, 'Dragon Ball', array([ 0.49787727,  0.50212273])),\n",
       " (5452, 'Prunus Girl', array([ 0.49789307,  0.50210693])),\n",
       " (1312, 'Steins;Gate', array([ 0.49790598,  0.50209402])),\n",
       " (4648, 'The World God Only Knows II', array([ 0.49790971,  0.50209029])),\n",
       " (8613, 'The Garden of Words', array([ 0.4979402,  0.5020598])),\n",
       " (4765, 'Tonari no Kaibutsu-kun', array([ 0.49798371,  0.50201629])),\n",
       " (4096, 'Black Butler', array([ 0.49800372,  0.50199628])),\n",
       " (7328, 'My Teen Romantic Comedy SNAFU', array([ 0.49802213,  0.50197787])),\n",
       " (3741, 'Full Metal Panic!', array([ 0.49802565,  0.50197435])),\n",
       " (5025, 'Shangri-La', array([ 0.49804293,  0.50195707])),\n",
       " (1834,\n",
       "  'Code Geass: Lelouch of the Rebellion R2 Special Edition Zero Requiem',\n",
       "  array([ 0.49804801,  0.50195199])),\n",
       " (7285, 'Attache-moi', array([ 0.4980603,  0.5019397])),\n",
       " (5192, 'Zero no Tsukaima', array([ 0.49806405,  0.50193595])),\n",
       " (8139, 'YuruYuri: Happy Go Lily', array([ 0.49806984,  0.50193016])),\n",
       " (5643,\n",
       "  'The World God Only Knows: Goddesses',\n",
       "  array([ 0.49809878,  0.50190122])),\n",
       " (1518, 'One Week Friends', array([ 0.49809953,  0.50190047])),\n",
       " (7800, 'THE IDOLM@STER', array([ 0.49812953,  0.50187047])),\n",
       " (4143,\n",
       "  'Puella Magi Madoka Magica the Movie Part I: Beginnings',\n",
       "  array([ 0.49813899,  0.50186101])),\n",
       " (51,\n",
       "  'Kami nomi zo Shiru Sekai: Tenri-hen',\n",
       "  array([ 0.49814951,  0.50185049])),\n",
       " (7058,\n",
       "  'DanMachi - Dungeon ni Deai wo Motomeru no wa Machigatteiru Darou ka',\n",
       "  array([ 0.49814975,  0.50185025])),\n",
       " (329, 'Lovely★Complex', array([ 0.49815034,  0.50184966])),\n",
       " (5096,\n",
       "  'Hanasaku Iroha ~Blossoms for Tomorrow~',\n",
       "  array([ 0.49815351,  0.50184649])),\n",
       " (8044,\n",
       "  'Berserk: The Golden Age Arc I - The Egg of the King',\n",
       "  array([ 0.49816398,  0.50183602])),\n",
       " (870,\n",
       "  'Code Geass: Lelouch of the Rebellion Special Edition Black Rebellion',\n",
       "  array([ 0.49817778,  0.50182222])),\n",
       " (5980, 'Cardcaptor Sakura Specials', array([ 0.49819194,  0.50180806])),\n",
       " (472, 'Fate/stay night', array([ 0.49820016,  0.50179984])),\n",
       " (6743, 'One Piece', array([ 0.49820871,  0.50179129])),\n",
       " (3590, 'Humanity Has Declined', array([ 0.4982206,  0.5017794])),\n",
       " (1441, 'Shakugan no Shana II', array([ 0.49822534,  0.50177466])),\n",
       " (6663, \"King's Game\", array([ 0.49823431,  0.50176569])),\n",
       " (4186, 'Sound of the Sky', array([ 0.49824728,  0.50175272])),\n",
       " (7226, 'Your Lie in April', array([ 0.49826045,  0.50173955])),\n",
       " (8024, 'Hell Girl', array([ 0.49826248,  0.50173752])),\n",
       " (6310, 'Azumanga Daioh', array([ 0.49828242,  0.50171758])),\n",
       " (6066, 'Vampire Knight', array([ 0.49829162,  0.50170838])),\n",
       " (818, 'Love Live! School Idol Project', array([ 0.49830442,  0.50169558])),\n",
       " (6147, 'La Maison en Petits Cubes', array([ 0.4983535,  0.5016465])),\n",
       " (488, \"Darwin's Game\", array([ 0.49835474,  0.50164526])),\n",
       " (6030, 'Coeurs à coeurs', array([ 0.49835635,  0.50164365])),\n",
       " (7429,\n",
       "  'Steins;Gate: Fuka Ryouiki no Déjà vu',\n",
       "  array([ 0.49837327,  0.50162673])),\n",
       " (8159, 'Junketsu no Maria', array([ 0.49837403,  0.50162597])),\n",
       " (5194, 'Strawberry Marshmallow', array([ 0.49837463,  0.50162537])),\n",
       " (2576,\n",
       "  'Nekomonogatari Black: Tsubasa Family',\n",
       "  array([ 0.49838786,  0.50161214])),\n",
       " (0, 'Minami-ke', array([ 0.49839199,  0.50160801])),\n",
       " (5108, \"Kino's Journey\", array([ 0.49840485,  0.50159515])),\n",
       " (3134,\n",
       "  'Love, Chunibyo & Other Delusions: Heart Throb',\n",
       "  array([ 0.49841041,  0.50158959])),\n",
       " (2019, 'YuruYuri Season 2', array([ 0.49842329,  0.50157671])),\n",
       " (5139, 'Tamako Market', array([ 0.49843563,  0.50156437])),\n",
       " (2309, 'NHK ni Youkoso!', array([ 0.49844101,  0.50155899])),\n",
       " (7914, 'Soul Eater Not !', array([ 0.49845803,  0.50154197])),\n",
       " (3802, 'Boku wa Tomodachi ga Sukunai', array([ 0.49848791,  0.50151209])),\n",
       " (2581, 'Blue Spring Ride', array([ 0.49849059,  0.50150941])),\n",
       " (1785, 'Baka to Test to Shoukanjuu', array([ 0.4984959,  0.5015041])),\n",
       " (5943, 'Ga-Rei-Zero', array([ 0.4984974,  0.5015026]))]"
      ]
     },
     "execution_count": 87,
     "metadata": {},
     "output_type": "execute_result"
    }
   ],
   "source": [
    "contestants[:150]  # Hai to Gensou no Grimgar"
   ]
  },
  {
   "cell_type": "code",
   "execution_count": 192,
   "metadata": {},
   "outputs": [
    {
     "name": "stdout",
     "output_type": "stream",
     "text": [
      "519 ratings\n"
     ]
    },
    {
     "data": {
      "text/plain": [
       "LogisticRegression(C=1.0, class_weight=None, dual=False, fit_intercept=False,\n",
       "          intercept_scaling=1, max_iter=100, multi_class='ovr', n_jobs=1,\n",
       "          penalty='l2', random_state=None, solver='liblinear', tol=0.0001,\n",
       "          verbose=0, warm_start=False)"
      ]
     },
     "execution_count": 192,
     "metadata": {},
     "output_type": "execute_result"
    }
   ],
   "source": [
    "class Data:\n",
    "    def __init__(self):\n",
    "        self.sampled_items = sampled_items.tolist()\n",
    "        # self.X = svd.VT.T[self.sampled_items]\n",
    "        self.y = [0, 1, 1, 1, 1]\n",
    "    \n",
    "    def get_all_ratings(self):\n",
    "        self.sampled_items = []\n",
    "        self.y = []\n",
    "        rating_values = {'favorite': 1, 'like': 1}\n",
    "        for user_id, work_id, choice in ratings:\n",
    "            if user_id == JJ:\n",
    "                self.sampled_items.append(work_id)\n",
    "                self.y.append(rating_values.get(choice, 0))\n",
    "        self.X = svd.VT.T[self.sampled_items]\n",
    "        print(len(self.X), 'ratings')\n",
    "\n",
    "    def add(self, extra):\n",
    "        for work_id, outcome in extra:\n",
    "            self.sampled_items.append(work_id)\n",
    "            self.y.append(outcome)\n",
    "        self.X = svd.VT.T[self.sampled_items]\n",
    "\n",
    "# extra = [(332, 1), (2060, 1), (7726, 1)]\n",
    "ryan = Data()\n",
    "# ryan.add(extra)\n",
    "ryan.get_all_ratings()\n",
    "clf.fit(ryan.X, ryan.y)"
   ]
  },
  {
   "cell_type": "code",
   "execution_count": 21,
   "metadata": {},
   "outputs": [
    {
     "name": "stdout",
     "output_type": "stream",
     "text": [
      "Bottom 20\n",
      "[('Batman & Robin (1997)', -0.071479555237976555),\n",
      " ('Batman Forever (1995)', -0.062339356328242959),\n",
      " ('Anaconda (1997)', -0.061265098301348533),\n",
      " ('Johnny Mnemonic (1995)', -0.056055123715577998),\n",
      " ('Ace Ventura: When Nature Calls (1995)', -0.054605815337604932),\n",
      " ('Twister (1996)', -0.054268058423177362),\n",
      " ('Godzilla (1998)', -0.054193368340371632),\n",
      " ('Honey, I Shrunk the Kids (1989)', -0.053539310985434456),\n",
      " ('Crocodile Dundee II (1988)', -0.053506539790670764),\n",
      " ('Wild Wild West (1999)', -0.052991788797229662),\n",
      " ('Armageddon (1998)', -0.052913667310587331),\n",
      " ('Police Academy 6: City Under Siege (1989)', -0.050504185913203659),\n",
      " ('Speed 2: Cruise Control (1997)', -0.050410674165109554),\n",
      " ('Planet of the Apes (2001)', -0.049178786831054179),\n",
      " ('Broken Arrow (1996)', -0.048346855051642559),\n",
      " ('Mission: Impossible II (2000)', -0.047927744563459031),\n",
      " ('Police Academy 4: Citizens on Patrol (1987)', -0.047569022384734566),\n",
      " ('Pearl Harbor (2001)', -0.046790820467736534),\n",
      " ('Superman III (1983)', -0.046762541757873755),\n",
      " ('Star Wars: Episode I - The Phantom Menace (1999)', -0.04613281296323779)]\n",
      "Top 20\n",
      "[('Fargo (1996)', 0.056407339707834882),\n",
      " ('Memento (2000)', 0.056579454689231236),\n",
      " ('Trainspotting (1996)', 0.057266953839177695),\n",
      " ('Matrix, The (1999)', 0.057539936438003932),\n",
      " ('Kill Bill: Vol. 1 (2003)', 0.05759045518468961),\n",
      " ('American Beauty (1999)', 0.06005928925153),\n",
      " ('Shawshank Redemption, The (1994)', 0.061638771929300708),\n",
      " ('Blade Runner (1982)', 0.066832600895781663),\n",
      " ('Star Wars: Episode IV - A New Hope (1977)', 0.067102440967761065),\n",
      " ('Seven (a.k.a. Se7en) (1995)', 0.067230766781803092),\n",
      " ('Usual Suspects, The (1995)', 0.068229288321216219),\n",
      " ('Léon: The Professional (a.k.a. The Professional) (Léon) (1994)',\n",
      "  0.068244124018518579),\n",
      " ('Twelve Monkeys (a.k.a. 12 Monkeys) (1995)', 0.070188041786479458),\n",
      " ('Full Metal Jacket (1987)', 0.071072314388353625),\n",
      " ('Reservoir Dogs (1992)', 0.072326049850482035),\n",
      " ('Aliens (1986)', 0.072710453902098446),\n",
      " ('Clockwork Orange, A (1971)', 0.073003704411566867),\n",
      " ('Pulp Fiction (1994)', 0.078440492666927847),\n",
      " ('Star Wars: Episode V - The Empire Strikes Back (1980)',\n",
      "  0.091845167945858383),\n",
      " ('Fight Club (1999)', 0.092766988669688175)]\n"
     ]
    }
   ],
   "source": [
    "import pprint\n",
    "\n",
    "contestants = list(zip(titles, svd.VT[1, :]))\n",
    "contestants.sort(key=lambda x: x[1])\n",
    "print('Bottom 20')\n",
    "pprint.pprint(contestants[:20])\n",
    "print('Top 20')\n",
    "pprint.pprint(contestants[-20:])"
   ]
  },
  {
   "cell_type": "code",
   "execution_count": null,
   "metadata": {
    "collapsed": true
   },
   "outputs": [],
   "source": []
  }
 ],
 "metadata": {
  "kernelspec": {
   "display_name": "Django Shell-Plus",
   "language": "python",
   "name": "django_extensions"
  }
 },
 "nbformat": 4,
 "nbformat_minor": 1
}
