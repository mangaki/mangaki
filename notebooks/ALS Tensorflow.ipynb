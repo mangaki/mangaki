{
 "cells": [
  {
   "cell_type": "code",
   "execution_count": 1,
   "metadata": {},
   "outputs": [],
   "source": [
    "# May be needed\n",
    "import os\n",
    "os.chdir('../mangaki')"
   ]
  },
  {
   "cell_type": "code",
   "execution_count": 132,
   "metadata": {},
   "outputs": [],
   "source": [
    "from mangaki.utils.data import Dataset\n",
    "\n",
    "dataset = Dataset()\n",
    "dataset.load('ratings-svd.pickle')"
   ]
  },
  {
   "cell_type": "code",
   "execution_count": 133,
   "metadata": {},
   "outputs": [],
   "source": [
    "from scipy.sparse import csc_matrix\n",
    "import numpy as np\n",
    "\n",
    "matrix = csc_matrix((dataset.anonymized.y, (dataset.anonymized.X[:, 0], dataset.anonymized.X[:, 1])), dtype=np.float32)"
   ]
  },
  {
   "cell_type": "code",
   "execution_count": 134,
   "metadata": {},
   "outputs": [],
   "source": [
    "import numpy as np\n",
    "import tensorflow as tf\n",
    "\n",
    "X = tf.cast(tf.SparseTensor(\n",
    "    indices=dataset.anonymized.X,\n",
    "    values=dataset.anonymized.y,\n",
    "    dense_shape=(dataset.anonymized.nb_users, dataset.anonymized.nb_works),\n",
    "), tf.float32)"
   ]
  },
  {
   "cell_type": "markdown",
   "metadata": {},
   "source": [
    "# ALS"
   ]
  },
  {
   "cell_type": "code",
   "execution_count": 135,
   "metadata": {},
   "outputs": [],
   "source": [
    "# For evaluation\n",
    "indices = dataset.anonymized.X"
   ]
  },
  {
   "cell_type": "code",
   "execution_count": 136,
   "metadata": {
    "collapsed": true
   },
   "outputs": [],
   "source": [
    "N = dataset.anonymized.nb_users\n",
    "R = 20\n",
    "M = dataset.anonymized.nb_works\n",
    "\n",
    "U = tf.Variable(np.random.rand(N, R).astype(np.float32), name='U')\n",
    "V = tf.Variable(np.random.rand(R, M).astype(np.float32), name='V')"
   ]
  },
  {
   "cell_type": "code",
   "execution_count": 137,
   "metadata": {
    "collapsed": true
   },
   "outputs": [],
   "source": [
    "alpha = tf.constant(1e-4)\n",
    "regu_U = alpha * tf.reduce_sum(tf.pow(U, 2))\n",
    "regu_V = alpha * tf.reduce_sum(tf.pow(V, 2))"
   ]
  },
  {
   "cell_type": "code",
   "execution_count": 138,
   "metadata": {
    "collapsed": true
   },
   "outputs": [],
   "source": [
    "Y_est = tf.matmul(U, V)\n",
    "true_loss = tf.reduce_sum(tf.pow(tf.gather_nd(Y_est, indices) - Y_tf.values, 2))\n",
    "cost = true_loss + regu_U + regu_V"
   ]
  },
  {
   "cell_type": "code",
   "execution_count": 139,
   "metadata": {
    "collapsed": true
   },
   "outputs": [],
   "source": [
    "optimizer = tf.train.AdamOptimizer(0.005)\n",
    "# train_step = optimizer.minimize(cost, var_list=[U, V])\n",
    "train_U_step = optimizer.minimize(cost, var_list=[U])\n",
    "train_V_step = optimizer.minimize(cost, var_list=[V])"
   ]
  },
  {
   "cell_type": "code",
   "execution_count": 140,
   "metadata": {
    "collapsed": true
   },
   "outputs": [],
   "source": [
    "init_op = tf.global_variables_initializer()\n",
    "sess.run(init_op)"
   ]
  },
  {
   "cell_type": "code",
   "execution_count": 142,
   "metadata": {},
   "outputs": [
    {
     "name": "stdout",
     "output_type": "stream",
     "text": [
      "0 6.36798e+06 6.36797e+06\n",
      "10 4.2728e+06 4.27279e+06\n"
     ]
    }
   ],
   "source": [
    "sess = tf.InteractiveSession()\n",
    "sess.run(init_op)\n",
    "for i in range(20):\n",
    "    sess.run(train_U_step)\n",
    "    sess.run(train_V_step)\n",
    "    # sess.run(train_C_step)\n",
    "    if i % 10 == 0:\n",
    "        print(i, sess.run(cost), sess.run(true_loss))"
   ]
  },
  {
   "cell_type": "markdown",
   "metadata": {},
   "source": [
    "- Batch by batch\n",
    "- Try autoencoder with sigmoid then identity\n",
    "- Maybe with SparseTensor?"
   ]
  },
  {
   "cell_type": "code",
   "execution_count": 143,
   "metadata": {},
   "outputs": [],
   "source": [
    "#sess = tf.InteractiveSession()\n",
    "#print(sess.run((tf.shape(X), tf.shape(V))))\n",
    "\n",
    "N = dataset.anonymized.nb_users\n",
    "R = 2\n",
    "M = dataset.anonymized.nb_works\n",
    "\n",
    "V = tf.Variable(tf.random_normal([M, R]), name='V')\n",
    "mu = tf.Variable(tf.random_normal([R]), name='mu')\n",
    "\n",
    "W = tf.Variable(tf.random_normal([R, M]), name='W')\n",
    "b = tf.Variable(tf.random_normal([M]), name='b')\n",
    "\n",
    "encoder = tf.nn.sigmoid(tf.add(tf.sparse_tensor_dense_matmul(X, V), mu))\n",
    "y_pred = tf.add(tf.matmul(encoder, W), b)\n",
    "Y_true = X\n",
    "true_loss = tf.reduce_sum(tf.pow(tf.gather_nd(y_pred, indices) - Y_true.values, 2))"
   ]
  },
  {
   "cell_type": "code",
   "execution_count": 144,
   "metadata": {
    "collapsed": true
   },
   "outputs": [],
   "source": [
    "alpha = tf.constant(1e-2)\n",
    "regu_V = alpha * tf.reduce_sum(tf.pow(V, 2))\n",
    "regu_W = alpha * tf.reduce_sum(tf.pow(W, 2))\n",
    "cost = true_loss + regu_V + regu_W"
   ]
  },
  {
   "cell_type": "code",
   "execution_count": 145,
   "metadata": {
    "collapsed": true
   },
   "outputs": [],
   "source": [
    "#optimizer = tf.train.AdamOptimizer(0.005)\n",
    "#optimizer = tf.train.AdamOptimizer(1)\n",
    "optimizer = tf.train.RMSPropOptimizer(0.1)\n",
    "train_step = optimizer.minimize(cost, var_list=[V, mu, W, b])\n",
    "#train_U_step = optimizer.minimize(cost, var_list=[U])\n",
    "#train_V_step = optimizer.minimize(cost, var_list=[V])"
   ]
  },
  {
   "cell_type": "code",
   "execution_count": 146,
   "metadata": {
    "collapsed": true
   },
   "outputs": [],
   "source": [
    "init_op = tf.global_variables_initializer()"
   ]
  },
  {
   "cell_type": "code",
   "execution_count": 147,
   "metadata": {},
   "outputs": [
    {
     "name": "stdout",
     "output_type": "stream",
     "text": [
      "0 1.36879e+06 1.36842e+06\n",
      "1 934812.0 934460.0\n",
      "2 834392.0 834044.0\n",
      "3 771971.0 771625.0\n",
      "4 727072.0 726728.0\n",
      "5 693118.0 692776.0\n",
      "6 665799.0 665458.0\n",
      "7 644186.0 643847.0\n",
      "8 626020.0 625683.0\n",
      "9 610755.0 610419.0\n",
      "10 597977.0 597642.0\n",
      "11 587043.0 586709.0\n",
      "12 577751.0 577418.0\n",
      "13 569651.0 569318.0\n",
      "14 563018.0 562687.0\n",
      "15 556912.0 556581.0\n",
      "16 551447.0 551117.0\n",
      "17 546752.0 546422.0\n",
      "18 542526.0 542197.0\n",
      "19 538868.0 538540.0\n"
     ]
    }
   ],
   "source": [
    "sess.run(init_op)\n",
    "for i in range(20):\n",
    "    #sess.run(train_U_step)\n",
    "    #sess.run(train_V_step)\n",
    "    _, c, t_l = sess.run([train_step, cost, true_loss])\n",
    "    if i % 1 == 0:\n",
    "        print(i, c, t_l)"
   ]
  },
  {
   "cell_type": "code",
   "execution_count": 148,
   "metadata": {},
   "outputs": [
    {
     "data": {
      "text/plain": [
       "array([ 1.35544467,  0.60000342,  0.66582125,  1.2417649 ,  0.29592541], dtype=float32)"
      ]
     },
     "execution_count": 148,
     "metadata": {},
     "output_type": "execute_result"
    }
   ],
   "source": [
    "sess.run(tf.gather_nd(y_pred, indices[:5]))"
   ]
  },
  {
   "cell_type": "code",
   "execution_count": 149,
   "metadata": {},
   "outputs": [
    {
     "data": {
      "text/plain": [
       "array([ 2. , -2. ,  0.1,  2. ,  2. ], dtype=float32)"
      ]
     },
     "execution_count": 149,
     "metadata": {},
     "output_type": "execute_result"
    }
   ],
   "source": [
    "sess.run(Y_true.values[:5])"
   ]
  },
  {
   "cell_type": "code",
   "execution_count": null,
   "metadata": {
    "collapsed": true
   },
   "outputs": [],
   "source": []
  }
 ],
 "metadata": {
  "kernelspec": {
   "display_name": "venv",
   "language": "python",
   "name": "venv"
  },
  "language_info": {
   "codemirror_mode": {
    "name": "ipython",
    "version": 3
   },
   "file_extension": ".py",
   "mimetype": "text/x-python",
   "name": "python",
   "nbconvert_exporter": "python",
   "pygments_lexer": "ipython3",
   "version": "3.6.1"
  }
 },
 "nbformat": 4,
 "nbformat_minor": 2
}
