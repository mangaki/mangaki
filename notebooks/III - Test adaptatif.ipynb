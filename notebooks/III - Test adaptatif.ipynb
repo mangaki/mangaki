{
 "cells": [
  {
   "cell_type": "code",
   "execution_count": 50,
   "metadata": {
    "collapsed": false
   },
   "outputs": [
    {
     "name": "stdout",
     "output_type": "stream",
     "text": [
      "19 remaining people\n",
      "1 3415465\n",
      "Death Note Counter({'like': 19})\n",
      "60 3415465\n",
      "Princesse Mononoké Counter({'dislike': 19})\n",
      "4 3426338\n",
      "Naruto Counter({'like': 11, 'dislike': 4, 'neutral': 1})\n",
      "7 3430029\n",
      "Fullmetal Alchemist: Brotherhood Counter({'like': 11, 'neutral': 2, 'dislike': 2, 'willsee': 1})\n",
      "5 3430073\n",
      "L'Attaque des Titans Counter({'like': 13, 'neutral': 2, 'wontsee': 1, 'willsee': 1})\n",
      "8 3433694\n",
      "Fullmetal Alchemist Counter({'like': 9, 'neutral': 3, 'dislike': 2, 'willsee': 1})\n",
      "6 3433706\n",
      "Bleach Counter({'like': 9, 'dislike': 4, 'neutral': 1, 'willsee': 1})\n",
      "17 3433734\n",
      "Naruto: Shippuuden Counter({'like': 11, 'dislike': 2, 'neutral': 1, 'willsee': 1})\n",
      "18 3437389\n",
      "Fairy Tail Counter({'like': 8, 'dislike': 3, 'neutral': 2})\n",
      "3 3437437\n",
      "Sword Art Online Counter({'like': 11, 'neutral': 2, 'wontsee': 2})\n",
      "30 3441090\n",
      "Le Voyage de Chihiro Counter({'dislike': 7, 'like': 4, 'wontsee': 2, 'neutral': 1, 'willsee': 1})\n",
      "106 3444797\n",
      "Mon voisin Totoro Counter({'like': 6, 'dislike': 5, 'wontsee': 3})\n",
      "55 3448486\n",
      "No Game No Life Counter({'like': 6, 'neutral': 3, 'wontsee': 1, 'dislike': 1})\n",
      "22 3452189\n",
      "Ao no Exorcist Counter({'like': 5, 'neutral': 4, 'wontsee': 1})\n",
      "66 3452189\n",
      "Rosario to Vampire Counter({'like': 4, 'dislike': 3, 'neutral': 2, 'wontsee': 2})\n"
     ]
    }
   ],
   "source": [
    "# Tentative d'implémentation de Golbandi2011\n",
    "# http://research.mangaki.fr/2016/05/11/demarrage-a-froid/\n",
    "\n",
    "from collections import Counter\n",
    "\n",
    "subset = set(Rating.objects.filter(work_id=1, choice__in=['like', 'favorite']).values_list('user_id', flat=True))\n",
    "subset2 = set(Rating.objects.filter(work_id=60, choice__in=['dislike']).values_list('user_id', flat=True))\n",
    "subset &= subset2\n",
    "print(len(subset), 'remaining people')\n",
    "\n",
    "nb_people = len(Rating.objects.filter(user_id__in=subset).values_list('user_id', flat=True))\n",
    "rated_movies = list(set(Rating.objects.filter(user_id__in=subset).values_list('work_id', flat=True)))\n",
    "ratings = {}\n",
    "\n",
    "nb_ratings = Counter(Rating.objects.filter(user_id__in=subset).values_list('work_id', flat=True))\n",
    "most_rated = [(nb_ratings[work_id], work_id) for work_id in nb_ratings]\n",
    "most_rated.sort(reverse=True)\n",
    "\n",
    "contestants = []\n",
    "for _, work_id in most_rated[:50]:\n",
    "    ratings[work_id] = Counter(Rating.objects.filter(user_id__in=subset, work_id=work_id).values_list('choice', flat=True))\n",
    "    contestants.append((pow(ratings[work_id]['like'] + ratings[work_id]['favorite'], 2)\n",
    "        + pow(ratings[work_id]['dislike'], 2)\n",
    "        + pow(ratings[work_id]['willsee'] + ratings[work_id]['wontsee'] + nb_people - sum(ratings[work_id].values()), 2), work_id))\n",
    "contestants.sort()\n",
    "# print(contestants)\n",
    "for score, work_id in contestants[:15]:\n",
    "    print(work_id, score)\n",
    "    print(Work.objects.get(id=work_id).title, ratings[work_id])"
   ]
  },
  {
   "cell_type": "code",
   "execution_count": null,
   "metadata": {
    "collapsed": true
   },
   "outputs": [],
   "source": []
  }
 ],
 "metadata": {
  "kernelspec": {
   "display_name": "Django Shell-Plus",
   "language": "python",
   "name": "django_extensions"
  },
  "language_info": {
   "codemirror_mode": {
    "name": "ipython",
    "version": 3
   },
   "file_extension": ".py",
   "mimetype": "text/x-python",
   "name": "python",
   "nbconvert_exporter": "python",
   "pygments_lexer": "ipython3",
   "version": "3.5.1"
  }
 },
 "nbformat": 4,
 "nbformat_minor": 0
}
