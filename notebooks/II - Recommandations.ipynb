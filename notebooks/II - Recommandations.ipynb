{
 "cells": [
  {
   "cell_type": "markdown",
   "metadata": {},
   "source": [
    "# II - Recommandations"
   ]
  },
  {
   "cell_type": "code",
   "execution_count": 1,
   "metadata": {
    "collapsed": true
   },
   "outputs": [],
   "source": [
    "usernames = ['jj', 'Maduesu', 'É']\n",
    "available_users = {}\n",
    "for username in usernames:\n",
    "    user = User.objects.get(username=username)\n",
    "    if user.profile.is_shared:\n",
    "        available_users[username] = user.id"
   ]
  },
  {
   "cell_type": "code",
   "execution_count": 2,
   "metadata": {
    "collapsed": true
   },
   "outputs": [],
   "source": [
    "from mangaki.utils.data import Dataset\n",
    "\n",
    "triplets = Rating.objects.values_list('user_id', 'work_id', 'choice')\n",
    "dataset = Dataset()\n",
    "anonymized = dataset.make_anonymous_data(triplets)"
   ]
  },
  {
   "cell_type": "code",
   "execution_count": 3,
   "metadata": {
    "collapsed": true
   },
   "outputs": [],
   "source": [
    "from mangaki.utils.knn import MangakiKNN\n",
    "\n",
    "knn = MangakiKNN(NB_NEIGHBORS=10)\n",
    "knn.set_parameters(anonymized.nb_users, anonymized.nb_works)\n",
    "knn.fit(anonymized.X, anonymized.y)"
   ]
  },
  {
   "cell_type": "code",
   "execution_count": 4,
   "metadata": {},
   "outputs": [
    {
     "name": "stdout",
     "output_type": "stream",
     "text": [
      "Voisins de jj :\n",
      "dict_values([<User: Rafbill>, <User: cynddl>, <User: MaxaoH>, <User: mettalicana>, <User: seirl>, <User: makoto1412>, <User: Kinoko>, <User: din>, <User: Tolsanot>, <User: kyod>])\n",
      "Voisins de Maduesu :\n",
      "dict_values([<User: cynddl>, <User: Deneb>, <User: Cassiopeia>, <User: Anthra>, <User: laetichat>, <User: kelly>, <User: TomiDJtal>, <User: Nitrate-mangaki>, <User: patxi>, <User: piraog>])\n",
      "Voisins de É :\n",
      "dict_values([<User: jj>, <User: ThibG>, <User: wincested_naked_loli>, <User: Sugarshy>, <User: Shampooing>, <User: TolieBunny>, <User: Julien>, <User: kyod>, <User: moko-chan>, <User: SpicyRamen>])\n"
     ]
    }
   ],
   "source": [
    "encoded_user_ids = {username: dataset.encode_user[user_id] for username, user_id in available_users.items()}\n",
    "neighbor_lists = knn.get_neighbors(list(encoded_user_ids.values()))\n",
    "for i, username in enumerate(available_users):\n",
    "    neighbor_user_ids = list(dataset.decode_users(neighbor_lists[i]))\n",
    "    print('Voisins de {} :'.format(username))\n",
    "    print(User.objects.in_bulk(neighbor_user_ids).values())"
   ]
  }
 ],
 "metadata": {
  "kernelspec": {
   "display_name": "Django Shell-Plus",
   "language": "python",
   "name": "django_extensions"
  },
  "language_info": {
   "codemirror_mode": {
    "name": "ipython",
    "version": 3
   },
   "file_extension": ".py",
   "mimetype": "text/x-python",
   "name": "python",
   "nbconvert_exporter": "python",
   "pygments_lexer": "ipython3",
   "version": "3.6.1"
  }
 },
 "nbformat": 4,
 "nbformat_minor": 1
}
