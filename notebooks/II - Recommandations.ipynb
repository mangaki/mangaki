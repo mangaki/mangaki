{
 "cells": [
  {
   "cell_type": "markdown",
   "metadata": {},
   "source": [
    "# II - Recommandations"
   ]
  },
  {
   "cell_type": "code",
   "execution_count": 1,
   "metadata": {
    "collapsed": false
   },
   "outputs": [
    {
     "data": {
      "text/plain": [
       "<QuerySet [{'profile__is_shared': True}, {'profile__is_shared': True}, {'profile__is_shared': True}]>"
      ]
     },
     "execution_count": 1,
     "metadata": {},
     "output_type": "execute_result"
    }
   ],
   "source": [
    "pigs = ['jj', 'Maduesu', 'É']\n",
    "User.objects.filter(username__in=pigs).values('profile__is_shared')"
   ]
  },
  {
   "cell_type": "code",
   "execution_count": 2,
   "metadata": {
    "collapsed": false
   },
   "outputs": [],
   "source": [
    "from mangaki.utils.knn import MangakiKNN\n",
    "knn = MangakiKNN(NB_NEIGHBORS=5)\n",
    "knn.fit(whole_dataset=True)"
   ]
  },
  {
   "cell_type": "markdown",
   "metadata": {},
   "source": [
    "## Sans normalisation"
   ]
  },
  {
   "cell_type": "code",
   "execution_count": 3,
   "metadata": {
    "collapsed": false
   },
   "outputs": [
    {
     "name": "stdout",
     "output_type": "stream",
     "text": [
      "Voisins de jj : ['Soubi', 'linkmauve', 'Yuuan', 'Melloe', 'kyod']\n",
      "Voisins de Maduesu : ['TomiDJtal', 'kyod', 'linkmauve', 'Soubi', 'meijin']\n",
      "Voisins de É : ['linkmauve', 'kyod', 'SpicyRamen', 'jj', 'Sedeto']\n"
     ]
    }
   ],
   "source": [
    "for pig in pigs:\n",
    "    my_user_id = User.objects.get(username=pig).id\n",
    "    print('Voisins de {} :'.format(pig), knn.get_neighbors(my_user_id))"
   ]
  },
  {
   "cell_type": "code",
   "execution_count": 4,
   "metadata": {
    "collapsed": false
   },
   "outputs": [
    {
     "name": "stdout",
     "output_type": "stream",
     "text": [
      "Strongly agree: (over 308 positive products)\n",
      "1. Kaiba 4 4 = 16\n",
      "2. Card Captor Sakura 4 4 = 16\n",
      "3. Millennium Actress 4 4 = 16\n",
      "4. Puella Magi Madoka Magica the Movie Part III: Rebellion 4 4 = 16\n",
      "5. Le Voyage de Chihiro 4 4 = 16\n",
      "6. Nagi no Asukara 2 4 = 8\n",
      "7. A Certain Scientific Railgun S 2 4 = 8\n",
      "8. Nausicaa 2 4 = 8\n",
      "9. Noein: To Your Other Self 2 4 = 8\n",
      "10. Canaan 2 4 = 8\n",
      "11. Le Château dans le ciel 2 4 = 8\n",
      "12. Nausicaä of the Valley of the Wind 2 4 = 8\n",
      "13. The Tale of The Princess Kaguya 2 4 = 8\n",
      "14. Patema Inverted: Beginning of the Day 2 4 = 8\n",
      "15. Ghost in the Shell 2: Innocence 4 2 = 8\n",
      "16. .hack//Sign 2 4 = 8\n",
      "17. Paprika 4 2 = 8\n",
      "18. Puella Magi Madoka Magica the Movie Part II: Eternal 2 4 = 8\n",
      "19. Puella Magi Madoka Magica the Movie Part I: Beginnings 2 4 = 8\n",
      "20. Pokemon 2 4 = 8\n",
      "21. Suzumiya Haruhi no Shoushitsu 4 2 = 8\n",
      "22. Princesse Mononoké 4 2 = 8\n",
      "23. Mahou Shoujo Madoka★Magica 2 4 = 8\n",
      "24. Clannad: After Story 2 4 = 8\n",
      "25. Cowboy Bebop 4 2 = 8\n",
      "26. Suzumiya Haruhi no Yuuutsu 4 2 = 8\n",
      "27. Durarara!! 2 4 = 8\n",
      "28. Steins;Gate 4 2 = 8\n",
      "29. Clannad 2 4 = 8\n",
      "30. Whisper of the Heart 2 2 = 4\n",
      "31. On Your Mark 2 2 = 4\n",
      "32. Pale Cocoon 2 2 = 4\n",
      "33. Contes de Terremer 2 2 = 4\n",
      "34. The Garden of Words 2 2 = 4\n",
      "35. Voices of a Distant Star 2 2 = 4\n",
      "36. The Place Promised in Our Early Days 2 2 = 4\n",
      "37. Ponyo sur la falaise 2 2 = 4\n",
      "38. Final Fantasy: The Spirits Within 2 2 = 4\n",
      "39. Hotarubi no Mori e 2 2 = 4\n",
      "40. Time of Eve (Movie) 2 2 = 4\n",
      "41. Time of Eve 2 2 = 4\n",
      "42. Patema Inverted 2 2 = 4\n",
      "43. Ghost in the Shell 2 2 = 4\n",
      "44. Perfect Blue 2 2 = 4\n",
      "45. Pokemon: The Movie 2000 2 2 = 4\n",
      "46. Pokemon: The First Movie 2 2 = 4\n",
      "47. Clannad: Another World, Tomoyo Chapter 2 2 = 4\n",
      "48. The Tatami Galaxy 2 2 = 4\n",
      "49. Serial Experiments Lain 2 2 = 4\n",
      "50. Shinsekai yori 2 2 = 4\n",
      "51. Summer Wars 2 2 = 4\n",
      "52. Suzumiya Haruhi no Yuuutsu (2009) 2 2 = 4\n",
      "53. Toki wo Kakeru Shoujo 2 2 = 4\n",
      "54. NHK ni Youkoso! 2 2 = 4\n",
      "55. 5 centimètres par seconde 2 2 = 4\n",
      "56. Le Château ambulant 2 2 = 4\n",
      "57. Samurai Champloo 2 2 = 4\n",
      "58. Code Geass: Hangyaku no Lelouch R2 2 2 = 4\n",
      "59. Death Note 2 2 = 4\n",
      "Strongly disagree: (over 101 negative products)\n",
      "1. Mawaru Penguindrum -2 2 = -4\n",
      "2. Evangelion: 2.0 You Can (Not) Advance -2 2 = -4\n"
     ]
    }
   ],
   "source": [
    "knn.get_common_traits('jj', 'linkmauve')"
   ]
  },
  {
   "cell_type": "code",
   "execution_count": 5,
   "metadata": {
    "collapsed": false
   },
   "outputs": [
    {
     "name": "stdout",
     "output_type": "stream",
     "text": [
      "Strongly agree: (over 349 positive products)\n",
      "1. Les Enfants Loups : Ame & Yuki 4 4 = 16\n",
      "2. Paprika 4 4 = 16\n",
      "3. Suzumiya Haruhi no Shoushitsu 4 4 = 16\n",
      "4. Princesse Mononoké 4 4 = 16\n",
      "5. Suzumiya Haruhi no Yuuutsu 4 4 = 16\n",
      "6. Nausicaä of the Valley of the Wind 2 4 = 8\n",
      "7. Nausicaa 2 4 = 8\n",
      "8. On Your Mark 2 4 = 8\n",
      "9. Kaiba 4 2 = 8\n",
      "10. Le Château dans le ciel 2 4 = 8\n",
      "11. Nausicaä of the Valley of the Wind 2 4 = 8\n",
      "12. Redline 4 2 = 8\n",
      "13. Le Vent se lève 4 2 = 8\n",
      "14. The Tale of The Princess Kaguya 2 4 = 8\n",
      "15. Card Captor Sakura 4 2 = 8\n",
      "16. Ghost in the Shell 2: Innocence 4 2 = 8\n",
      "17. Ghost in the Shell 2 4 = 8\n",
      "18. Porco Rosso 4 2 = 8\n",
      "19. Perfect Blue 2 4 = 8\n",
      "20. Millennium Actress 4 2 = 8\n",
      "21. Terror in Resonance 4 2 = 8\n",
      "22. No Game No Life 4 2 = 8\n",
      "23. Le Voyage de Chihiro 4 2 = 8\n",
      "24. Cowboy Bebop 4 2 = 8\n",
      "25. Steins;Gate 4 2 = 8\n",
      "26. ERASED 2 2 = 4\n",
      "27. Le Garçon et la Bête 2 2 = 4\n",
      "28. Interstella5555: The 5tory of The 5ecret 5tar 5ystem 2 2 = 4\n",
      "29. Nagi no Asukara 2 2 = 4\n",
      "30. A Certain Scientific Railgun S 2 2 = 4\n",
      "31. The Princess and the Pilot 2 2 = 4\n",
      "32. Whisper of the Heart 2 2 = 4\n",
      "33. La Colline aux coquelicots 2 2 = 4\n",
      "34. Zetman 2 2 = 4\n",
      "35. I''s 2 2 = 4\n",
      "36. Homunculus 2 2 = 4\n",
      "37. Death note 2 2 = 4\n",
      "38. Card Captor Sakura 2 2 = 4\n",
      "39. Bakuman 2 2 = 4\n",
      "40. Your Lie in April 2 2 = 4\n",
      "41. Noein: To Your Other Self 2 2 = 4\n",
      "42. Cowboy Bebop: Knockin' on Heaven's Door 2 2 = 4\n",
      "43. Pale Cocoon 2 2 = 4\n",
      "44. Akira 2 2 = 4\n",
      "45. Tekkon Kinkreet 2 2 = 4\n",
      "46. Baccano! Specials 2 2 = 4\n",
      "47. The Melancholy of Haruhi-chan Suzumiya 2 2 = 4\n",
      "48. Steins;Gate: Egoistic Poriomania 2 2 = 4\n",
      "49. The Garden of Words 2 2 = 4\n",
      "50. Voices of a Distant Star 2 2 = 4\n",
      "51. The Place Promised in Our Early Days 2 2 = 4\n",
      "52. Grave of the Fireflies 2 2 = 4\n",
      "53. Ponyo sur la falaise 2 2 = 4\n",
      "54. Final Fantasy: The Spirits Within 2 2 = 4\n",
      "55. Jin-Roh: The Wolf Brigade 2 2 = 4\n",
      "56. Hotarubi no Mori e 2 2 = 4\n",
      "57. Cardcaptor Sakura: Leave It to Kero-chan 2 2 = 4\n",
      "58. Time of Eve 2 2 = 4\n",
      "59. Patema Inverted: Beginning of the Day 2 2 = 4\n",
      "60. Patema Inverted 2 2 = 4\n",
      "61. Ghost in the Shell: Stand Alone Complex - The Laughing Man 2 2 = 4\n",
      "62. Sword of the Stranger 2 2 = 4\n",
      "63. Kids on the Slope 2 2 = 4\n",
      "64. .hack//Sign 2 2 = 4\n",
      "65. Tokyo Godfathers 2 2 = 4\n",
      "66. Digimon Adventure 2 2 = 4\n",
      "67. Puella Magi Madoka Magica the Movie Part II: Eternal 2 2 = 4\n",
      "68. Puella Magi Madoka Magica the Movie Part I: Beginnings 2 2 = 4\n",
      "69. Serial Experiments Lain 2 2 = 4\n",
      "70. Shinsekai yori 2 2 = 4\n",
      "71. Summer Wars 2 2 = 4\n",
      "72. Suzumiya Haruhi no Yuuutsu (2009) 2 2 = 4\n",
      "73. Toki wo Kakeru Shoujo 2 2 = 4\n",
      "74. Le Château ambulant 2 2 = 4\n",
      "75. Baccano! 2 2 = 4\n",
      "76. Mahou Shoujo Madoka★Magica 2 2 = 4\n",
      "77. Durarara!! 2 2 = 4\n",
      "78. Code Geass: Hangyaku no Lelouch R2 2 2 = 4\n",
      "Strongly disagree: (over 108 negative products)\n",
      "1. Mawaru Penguindrum -2 2 = -4\n",
      "2. Vampire Hunter D -2 2 = -4\n",
      "3. Evangelion: 2.0 You Can (Not) Advance -2 2 = -4\n",
      "4. Digimon: The Movie -2 2 = -4\n"
     ]
    }
   ],
   "source": [
    "knn.get_common_traits('jj', 'Soubi')"
   ]
  },
  {
   "cell_type": "code",
   "execution_count": 6,
   "metadata": {
    "collapsed": false
   },
   "outputs": [
    {
     "name": "stdout",
     "output_type": "stream",
     "text": [
      "Strongly agree: (over 52 positive products)\n",
      "1. Le Château dans le ciel 4 4 = 16\n",
      "2. No Game No Life 4 4 = 16\n",
      "3. Mahou Shoujo Madoka★Magica 4 4 = 16\n",
      "4. Durarara!! 4 4 = 16\n",
      "5. Steins;Gate 4 4 = 16\n",
      "6. L'Attaque des Titans 4 4 = 16\n",
      "7. Nausicaä of the Valley of the Wind 2 4 = 8\n",
      "8. Suzumiya Haruhi no Yuuutsu (2009) 2 4 = 8\n",
      "9. Log Horizon 2 4 = 8\n",
      "10. Hataraku Maou-sama! 2 4 = 8\n",
      "11. Fate/Zero 2 4 = 8\n",
      "12. Fate/stay night 2 4 = 8\n",
      "13. Bakemonogatari 2 4 = 8\n",
      "14. Shingeki no Kyojin OVA 2 2 = 4\n",
      "15. Arrietty, le petit monde des chapardeurs 2 2 = 4\n",
      "16. Porco Rosso 2 2 = 4\n",
      "17. Accel World 2 2 = 4\n",
      "18. Princesse Mononoké 2 2 = 4\n",
      "19. Le Château ambulant 2 2 = 4\n",
      "20. Le Voyage de Chihiro 2 2 = 4\n",
      "21. Suzumiya Haruhi no Yuuutsu 2 2 = 4\n",
      "22. Mirai Nikki 2 2 = 4\n",
      "23. Death Note 2 2 = 4\n",
      "Strongly disagree: (over 3 negative products)\n"
     ]
    }
   ],
   "source": [
    "knn.get_common_traits('Maduesu', 'TomiDJtal')"
   ]
  },
  {
   "cell_type": "code",
   "execution_count": 7,
   "metadata": {
    "collapsed": false
   },
   "outputs": [
    {
     "name": "stdout",
     "output_type": "stream",
     "text": [
      "Strongly agree: (over 119 positive products)\n",
      "1. Millennium Actress 4 4 = 16\n",
      "2. Puella Magi Madoka Magica the Movie Part II: Eternal 4 4 = 16\n",
      "3. Puella Magi Madoka Magica the Movie Part I: Beginnings 4 4 = 16\n",
      "4. Puella Magi Madoka Magica the Movie Part III: Rebellion 4 4 = 16\n",
      "5. Mahou Shoujo Madoka★Magica 4 4 = 16\n",
      "6. Planetes 2 4 = 8\n",
      "7. ef ~ A Tale of Memories 2 4 = 8\n",
      "8. My Ordinary Life 2 4 = 8\n",
      "9. Monogatari Series: Second Season 2 4 = 8\n",
      "10. The Tale of The Princess Kaguya 2 4 = 8\n",
      "11. Sayonara Zetsubou Sensei 2 4 = 8\n",
      "12. Patema Inverted: Beginning of the Day 2 4 = 8\n",
      "13. The Tatami Galaxy 4 2 = 8\n",
      "14. Sakurasou no Pet na Kanojo 2 4 = 8\n",
      "15. 5 centimètres par seconde 4 2 = 8\n",
      "16. Higurashi no Naku Koro ni 2 4 = 8\n",
      "17. Clannad: After Story 2 4 = 8\n",
      "18. Le Voyage de Chihiro 2 4 = 8\n",
      "19. Bakemonogatari 2 4 = 8\n",
      "20. ef: A Tale of Memories. - Prologue 2 2 = 4\n",
      "21. Nekomonogatari Black: Tsubasa Family 2 2 = 4\n",
      "22. Lucky☆Star: Original na Visual to Animation 2 2 = 4\n",
      "23. Voices of a Distant Star 2 2 = 4\n",
      "24. Hanamonogatari 2 2 = 4\n",
      "25. Sankarea -2 -2 = 4\n",
      "26. Tsukimonogatari 2 2 = 4\n",
      "27. Patema Inverted 2 2 = 4\n",
      "28. Neon Genesis Evangelion: The End of Evangelion 2 2 = 4\n",
      "29. Higurashi no Naku Koro ni Kai 2 2 = 4\n",
      "30. Suzumiya Haruhi no Shoushitsu 2 2 = 4\n",
      "31. Suzumiya Haruhi no Yuuutsu (2009) 2 2 = 4\n",
      "32. Toki wo Kakeru Shoujo 2 2 = 4\n",
      "33. Hyouka 2 2 = 4\n",
      "34. Princesse Mononoké 2 2 = 4\n",
      "35. Lucky☆Star 2 2 = 4\n",
      "36. Suzumiya Haruhi no Yuuutsu 2 2 = 4\n",
      "37. Steins;Gate 2 2 = 4\n",
      "38. Code Geass: Hangyaku no Lelouch R2 2 2 = 4\n",
      "Strongly disagree: (over 31 negative products)\n",
      "1. Angel Beats! -2 2 = -4\n",
      "2. Tengen Toppa Gurren Lagann -2 2 = -4\n",
      "3. Another -2 2 = -4\n",
      "4. FLCL -2 2 = -4\n",
      "5. Black Lagoon -2 2 = -4\n",
      "6. Chuunibyou demo Koi ga Shitai! -2 2 = -4\n",
      "7. Full Metal Panic! -2 2 = -4\n",
      "8. NHK ni Youkoso! -2 2 = -4\n",
      "9. Black Lagoon: The Second Barrage -2 2 = -4\n",
      "10. Clannad After Story: Another World, Kyou Chapter -2 2 = -4\n",
      "11. Angel Beats!: Another Epilogue -2 2 = -4\n",
      "12. Love, Chunibyo & Other Delusions!: Sparkling... Slapstick Noel -2 2 = -4\n",
      "13. Oreimo 2 -2 2 = -4\n",
      "14. Red Data Girl -2 2 = -4\n",
      "15. ef ~ A Tale of Melodies -2 2 = -4\n"
     ]
    }
   ],
   "source": [
    "knn.get_common_traits('É', 'linkmauve')"
   ]
  },
  {
   "cell_type": "markdown",
   "metadata": {},
   "source": [
    "## Avec normalisation"
   ]
  },
  {
   "cell_type": "code",
   "execution_count": 8,
   "metadata": {
    "collapsed": false
   },
   "outputs": [
    {
     "name": "stdout",
     "output_type": "stream",
     "text": [
      "Voisins de jj : ['Soubi', 'MaxaoH', 'Yuuan', 'linkmauve', 'Tapas']\n",
      "Voisins de Maduesu : ['nijibakurei', 'Benku', 'Melow', 'Soubi', 'jj']\n",
      "Voisins de É : ['wincested_naked_loli', 'jj', 'alisea', 'kyod', 'Sedeto']\n"
     ]
    }
   ],
   "source": [
    "for pig in pigs:\n",
    "    my_user_id = User.objects.get(username=pig).id\n",
    "    print('Voisins de {} :'.format(pig), knn.get_neighbors(my_user_id, normalized=True))"
   ]
  },
  {
   "cell_type": "markdown",
   "metadata": {},
   "source": [
    "Première chose bizarre : on n'a aucun favori en commun."
   ]
  },
  {
   "cell_type": "code",
   "execution_count": 9,
   "metadata": {
    "collapsed": false
   },
   "outputs": [
    {
     "name": "stdout",
     "output_type": "stream",
     "text": [
      "Strongly agree: (over 125 positive products)\n",
      "1. GTO - Great Teacher Onizuka 4 2 = 8\n",
      "2. Kaiba 4 2 = 8\n",
      "3. Redline 4 2 = 8\n",
      "4. Le Vent se lève 4 2 = 8\n",
      "5. Ghost in the Shell 2: Innocence 4 2 = 8\n",
      "6. Les Enfants Loups : Ame & Yuki 4 2 = 8\n",
      "7. Porco Rosso 4 2 = 8\n",
      "8. Millennium Actress 4 2 = 8\n",
      "9. Paprika 4 2 = 8\n",
      "10. Puella Magi Madoka Magica the Movie Part III: Rebellion 4 2 = 8\n",
      "11. Princesse Mononoké 4 2 = 8\n",
      "12. No Game No Life 4 2 = 8\n",
      "13. Le Voyage de Chihiro 4 2 = 8\n",
      "14. Cowboy Bebop 4 2 = 8\n",
      "15. Steins;Gate 4 2 = 8\n",
      "16. Colorful ~ The Motion Picture 2 2 = 4\n",
      "17. Interstella5555: The 5tory of The 5ecret 5tar 5ystem 2 2 = 4\n",
      "18. Whisper of the Heart 2 2 = 4\n",
      "19. La Colline aux coquelicots 2 2 = 4\n",
      "20. Death note 2 2 = 4\n",
      "21. Bakuman 2 2 = 4\n",
      "22. On Your Mark 2 2 = 4\n",
      "23. Cowboy Bebop: Knockin' on Heaven's Door 2 2 = 4\n",
      "24. Le Royaume des chats 2 2 = 4\n",
      "25. Pale Cocoon 2 2 = 4\n",
      "26. Le Château dans le ciel 2 2 = 4\n",
      "27. Steins;Gate: Egoistic Poriomania 2 2 = 4\n",
      "28. The Garden of Words 2 2 = 4\n",
      "29. Voices of a Distant Star 2 2 = 4\n",
      "30. The Place Promised in Our Early Days 2 2 = 4\n",
      "31. Pom Poko 2 2 = 4\n",
      "32. Grave of the Fireflies 2 2 = 4\n",
      "33. Nausicaä of the Valley of the Wind 2 2 = 4\n",
      "34. Ping Pong The Animation 2 2 = 4\n",
      "35. Kiki la petite sorcière 2 2 = 4\n",
      "36. Jin-Roh: The Wolf Brigade 2 2 = 4\n",
      "37. The Tale of The Princess Kaguya 2 2 = 4\n",
      "38. Hotarubi no Mori e 2 2 = 4\n",
      "39. Time of Eve (Movie) 2 2 = 4\n",
      "40. Time of Eve 2 2 = 4\n",
      "41. Patema Inverted 2 2 = 4\n",
      "42. Ghost in the Shell 2 2 = 4\n",
      "43. Kids on the Slope 2 2 = 4\n",
      "44. Tokyo Godfathers 2 2 = 4\n",
      "45. Perfect Blue 2 2 = 4\n",
      "46. Summer Wars 2 2 = 4\n",
      "47. Toki wo Kakeru Shoujo 2 2 = 4\n",
      "48. NHK ni Youkoso! 2 2 = 4\n",
      "49. 5 centimètres par seconde 2 2 = 4\n",
      "50. Le Château ambulant 2 2 = 4\n",
      "51. Baccano! 2 2 = 4\n",
      "52. Samurai Champloo 2 2 = 4\n",
      "53. Mahou Shoujo Madoka★Magica 2 2 = 4\n",
      "54. Durarara!! 2 2 = 4\n",
      "55. Death Note 2 2 = 4\n",
      "Strongly disagree: (over 22 negative products)\n",
      "1. Great Teacher Onizuka -2 2 = -4\n",
      "2. Evangelion: 2.0 You Can (Not) Advance -2 2 = -4\n"
     ]
    }
   ],
   "source": [
    "knn.get_common_traits('jj', 'MaxaoH')"
   ]
  },
  {
   "cell_type": "code",
   "execution_count": 10,
   "metadata": {
    "collapsed": false
   },
   "outputs": [
    {
     "name": "stdout",
     "output_type": "stream",
     "text": [
      "Strongly agree: (over 43 positive products)\n",
      "1. Le Château dans le ciel 4 2 = 8\n",
      "2. Zetsuen no Tempest 4 2 = 8\n",
      "3. No Game No Life 4 2 = 8\n",
      "4. Mahou Shoujo Madoka★Magica 4 2 = 8\n",
      "5. Durarara!! 4 2 = 8\n",
      "6. Steins;Gate 4 2 = 8\n",
      "7. L'Attaque des Titans 4 2 = 8\n",
      "8. Arrietty, le petit monde des chapardeurs 2 2 = 4\n",
      "9. Arakawa Under the Bridge 2 2 = 4\n",
      "10. Nausicaä of the Valley of the Wind 2 2 = 4\n",
      "11. The Tale of The Princess Kaguya 2 2 = 4\n",
      "12. Wolf's Rain 2 2 = 4\n",
      "13. Porco Rosso 2 2 = 4\n",
      "14. Paprika 2 2 = 4\n",
      "15. Mon voisin Totoro 2 2 = 4\n",
      "16. Hataraku Maou-sama! 2 2 = 4\n",
      "17. Princesse Mononoké 2 2 = 4\n",
      "18. Le Château ambulant 2 2 = 4\n",
      "19. Fate/Zero 2 2 = 4\n",
      "20. Le Voyage de Chihiro 2 2 = 4\n",
      "21. Bakemonogatari 2 2 = 4\n",
      "22. Suzumiya Haruhi no Yuuutsu 2 2 = 4\n",
      "23. Mirai Nikki 2 2 = 4\n",
      "24. Death Note 2 2 = 4\n",
      "Strongly disagree: (over 1 negative products)\n"
     ]
    }
   ],
   "source": [
    "knn.get_common_traits('Maduesu', 'nijibakurei')"
   ]
  },
  {
   "cell_type": "code",
   "execution_count": 11,
   "metadata": {
    "collapsed": false
   },
   "outputs": [
    {
     "name": "stdout",
     "output_type": "stream",
     "text": [
      "Strongly agree: (over 45 positive products)\n",
      "1. 5 centimètres par seconde 4 2 = 8\n",
      "2. Mahou Shoujo Madoka★Magica 4 2 = 8\n",
      "3. Neon Genesis Evangelion: The End of Evangelion 2 2 = 4\n",
      "4. Fullmetal Alchemist: The Conqueror of Shamballa -2 -2 = 4\n",
      "5. Vampire Knight Guilty -2 -2 = 4\n",
      "6. Higurashi no Naku Koro ni Kai 2 2 = 4\n",
      "7. Suzumiya Haruhi no Shoushitsu 2 2 = 4\n",
      "8. Ergo Proxy -2 -2 = 4\n",
      "9. Suzumiya Haruhi no Yuuutsu (2009) 2 2 = 4\n",
      "10. Sakurasou no Pet na Kanojo 2 2 = 4\n",
      "11. Hyouka 2 2 = 4\n",
      "12. Vampire Knight -2 -2 = 4\n",
      "13. No Game No Life 2 2 = 4\n",
      "14. Claymore -2 -2 = 4\n",
      "15. Lucky☆Star 2 2 = 4\n",
      "16. Higurashi no Naku Koro ni 2 2 = 4\n",
      "17. Black Butler -2 -2 = 4\n",
      "18. Clannad: After Story 2 2 = 4\n",
      "19. Bakemonogatari 2 2 = 4\n",
      "20. Suzumiya Haruhi no Yuuutsu 2 2 = 4\n",
      "21. Tengen Toppa Gurren Lagann -2 -2 = 4\n",
      "22. Angel Beats! -2 -2 = 4\n",
      "23. Fullmetal Alchemist -2 -2 = 4\n",
      "24. Fullmetal Alchemist: Brotherhood -2 -2 = 4\n",
      "Strongly disagree: (over 7 negative products)\n"
     ]
    }
   ],
   "source": [
    "knn.get_common_traits('É', 'wincested_naked_loli')"
   ]
  },
  {
   "cell_type": "markdown",
   "metadata": {},
   "source": [
    "C'est intéressant parce que là, ils semblent être d'accord sur les likes et sur les dislikes."
   ]
  }
 ],
 "metadata": {
  "kernelspec": {
   "display_name": "Django Shell-Plus",
   "language": "python",
   "name": "django_extensions"
  },
  "language_info": {
   "codemirror_mode": {
    "name": "ipython",
    "version": 3
   },
   "file_extension": ".py",
   "mimetype": "text/x-python",
   "name": "python",
   "nbconvert_exporter": "python",
   "pygments_lexer": "ipython3",
   "version": "3.6.0"
  }
 },
 "nbformat": 4,
 "nbformat_minor": 0
}
